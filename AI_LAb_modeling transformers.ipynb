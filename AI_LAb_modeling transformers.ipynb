{
  "nbformat": 4,
  "nbformat_minor": 0,
  "metadata": {
    "colab": {
      "provenance": []
    },
    "kernelspec": {
      "name": "python3",
      "display_name": "Python 3"
    },
    "language_info": {
      "name": "python"
    }
  },
  "cells": [
    {
      "cell_type": "code",
      "execution_count": 67,
      "metadata": {
        "id": "BTt-iLGKiBZv"
      },
      "outputs": [],
      "source": [
        "import pandas as pd\n",
        "import numpy as np\n",
        "\n",
        "from sklearn.model_selection import train_test_split\n",
        "\n"
      ]
    },
    {
      "cell_type": "code",
      "source": [
        "\n",
        "\n",
        "# Transformers\n",
        "from transformers import BartTokenizer, BartForConditionalGeneration      # BERT Tokenizer and architecture\n",
        "from transformers import Seq2SeqTrainer, Seq2SeqTrainingArguments         # These will help us to fine-tune our model\n",
        "from transformers import pipeline                                         # Pipeline\n",
        "from transformers import DataCollatorForSeq2Seq                           # DataCollator to batch the data\n",
        "import torch                                                              # PyTorch\n",
        "# import evaluate                                                            # Evaluation metric\n",
        "\n",
        "# Other NLP libraries\n",
        "from textblob import TextBlob                                             # This is going to help us fix spelling mistakes in texts\n",
        "from sklearn.feature_extraction.text import TfidfVectorizer               # This is going to helps identify the most common terms in the corpus\n",
        "import re                                                                 # This library allows us to clean text data\n",
        "import nltk                                                               # Natural Language Toolkit\n",
        "nltk.download('punkt')                                                    # This divides a text into a list of sentences"
      ],
      "metadata": {
        "colab": {
          "base_uri": "https://localhost:8080/"
        },
        "id": "zwTM1ozRj3VG",
        "outputId": "58742fd3-e26d-4c72-fa0d-e9fd0c9c2150"
      },
      "execution_count": 23,
      "outputs": [
        {
          "output_type": "stream",
          "name": "stderr",
          "text": [
            "[nltk_data] Downloading package punkt to /root/nltk_data...\n",
            "[nltk_data]   Package punkt is already up-to-date!\n"
          ]
        },
        {
          "output_type": "execute_result",
          "data": {
            "text/plain": [
              "True"
            ]
          },
          "metadata": {},
          "execution_count": 23
        }
      ]
    },
    {
      "cell_type": "markdown",
      "source": [
        "# Load data"
      ],
      "metadata": {
        "id": "2udkpqZKiebh"
      }
    },
    {
      "cell_type": "code",
      "source": [
        "pd.set_option('display.max_colwidth', 1000) #this is to allow us to show full text"
      ],
      "metadata": {
        "id": "-ozfCemTj8HY"
      },
      "execution_count": 24,
      "outputs": []
    },
    {
      "cell_type": "code",
      "source": [
        "df = pd.read_csv('cp24_20.csv')"
      ],
      "metadata": {
        "id": "XWpoJ66DidyJ"
      },
      "execution_count": 25,
      "outputs": []
    },
    {
      "cell_type": "code",
      "source": [
        "df.shape"
      ],
      "metadata": {
        "colab": {
          "base_uri": "https://localhost:8080/"
        },
        "id": "omDrjxd5ile_",
        "outputId": "5e5a1eb1-e908-49cf-fdd0-7c0f5053baa6"
      },
      "execution_count": 26,
      "outputs": [
        {
          "output_type": "execute_result",
          "data": {
            "text/plain": [
              "(21, 11)"
            ]
          },
          "metadata": {},
          "execution_count": 26
        }
      ]
    },
    {
      "cell_type": "code",
      "source": [
        "df.info()"
      ],
      "metadata": {
        "colab": {
          "base_uri": "https://localhost:8080/"
        },
        "id": "3JFaekxRil8G",
        "outputId": "bba47cb2-cbe5-485c-dab6-9e0ff5b1a7b4"
      },
      "execution_count": 27,
      "outputs": [
        {
          "output_type": "stream",
          "name": "stdout",
          "text": [
            "<class 'pandas.core.frame.DataFrame'>\n",
            "RangeIndex: 21 entries, 0 to 20\n",
            "Data columns (total 11 columns):\n",
            " #   Column       Non-Null Count  Dtype \n",
            "---  ------       --------------  ----- \n",
            " 0   Unnamed: 0   21 non-null     int64 \n",
            " 1   text         21 non-null     object\n",
            " 2   text_length  21 non-null     int64 \n",
            " 3   total_word   21 non-null     int64 \n",
            " 4   summary      21 non-null     object\n",
            " 5   min_word     21 non-null     int64 \n",
            " 6   max_word     21 non-null     int64 \n",
            " 7   source       21 non-null     object\n",
            " 8   url          21 non-null     object\n",
            " 9   type         21 non-null     object\n",
            " 10  model_used   21 non-null     object\n",
            "dtypes: int64(5), object(6)\n",
            "memory usage: 1.9+ KB\n"
          ]
        }
      ]
    },
    {
      "cell_type": "code",
      "source": [
        "df.head()"
      ],
      "metadata": {
        "colab": {
          "base_uri": "https://localhost:8080/",
          "height": 1000
        },
        "id": "ksYwT7Atil-8",
        "outputId": "77de083c-0dda-41f8-8b49-01feaa581f59"
      },
      "execution_count": 28,
      "outputs": [
        {
          "output_type": "execute_result",
          "data": {
            "text/plain": [
              "   Unnamed: 0  \\\n",
              "0           0   \n",
              "1           1   \n",
              "2           2   \n",
              "3           3   \n",
              "4           4   \n",
              "\n",
              "                                                                                                                                                                                                                                                                                                                                                                                                                                                                                                                                                                                                                                                                                                                                                                                                                                                                                                                                                                                                                                      text  \\\n",
              "0   Police are investigating multiple reports of falling objects striking and damaging vehicles near Toronto's Don Valley Parkway in recent months. The Toronto Police Service (TPS) said it first received reports that two vehicles had been damaged by falling objects in the area of Pottery Road and Broadview Avenue in March. Officers determined that the vehicles had been damaged by “various sizes of metal BBs and glass marbles,” police said in a release issued Thursday. Police said they do not know where the objects originated from or who may be responsible. Police said they received a third report in July of a vehicle in the same area damaged by falling objects. In that incident, they said an unknown person threw glass, ball bearings and marbles onto vehicles on Pottery Road. “Drivers, pedestrians, and cyclists in the area are urged to use caution and to be vigilant as police continue to investigate,” the release states. Investigators asked anyone with information to call 416-808-5500,...   \n",
              "1   A Toronto woman is looking to recover the specialized bicycle used to raise money for cancer research after it was stolen from her Etobicoke home over the weekend. Monica Doedens said she returned home on Saturday to find the lock on her door broken, her house ransacked and several valuable items stolen. The hardest loss to accept was her Pinarello bike, stored in the basement — purchased three years ago. “I could feel my heart drop,” Doedens told CTV News Toronto. “We have a garage and a shed, and I deliberately do not keep [the bike] in either because I thought the house was safest.” “The bicycle was an expensive one which I really didn’t think it could afford but because I ride so much I decided to spend the extra money on this bike and it was a little bit heartbreaking,” she continued. Doedens said the bike was custom-made and will cost $10,000 to replace. She said she doesn’t know yet if her home insurance will cover the loss. “They don’t make the Pinarello Prince anymore,” s...   \n",
              "2   The brother of a New Zealand man who died after ordering a product from an accused Canadian suicide salesman says it shouldn’t be so easy for vulnerable people to get dangerous substances online. Sean Plunket says he’s shocked at how easily his brother, James, ordered the fatal package from Canada, and has tough questions for this country’s internet regulators and e-commerce platforms about why they didn't stop it. “The idea he could access this, not necessarily through the dark web, but it was there, hiding in plain bloody sight, that is chilling to me,” Plunket said in an interview from New Zealand. “We know he was vulnerable at that moment. At that moment he needed protection, there was someone who took advantage of him and made it easier for him to take his own life rather than harder,” he said. “Those bad decisions become very, very easy when you’ve got someone making money off it,” he said. A New Zealand coroner found this week that Plunket’s brother James was one of four pe...   \n",
              "3   A Toronto man is facing charges after allegedly stealing more than $60,000 in clothing from downtown retail stores in recent months. On Friday, the Toronto Police Service (TPS) was called to a clothing store near Peter and Queen streets for reports of a theft in progress. According to a release issued by the service , a masked suspect entered the store, selected “a quantity” of women’s pants, and left without paying. The suspect was located and arrested that day. Police say they recovered $6,338 worth of clothing during the arrest. In the release, investigators further alleged that the suspect had stolen more than $55,000 worth of clothing from stores in the area between May and July of this year. Michael Lewis, 42, of Toronto, is facing three counts of theft over $5,000, 12 counts of theft under $5,000, and 10 counts of failure to comply with a probation order. The charges have not been tested in court. Lewis is scheduled to appear in court on July 29 at 10 a.m. Police said in th...   \n",
              "4                                                                                                                                                         Police have identified a woman in her 80s as the victim of a North York stabbing on Sunday. Toronto police said they were called to a residence near Cherrystone Drive and Cliffwood Road for a person with a knife just before 2:45 p.m. When officers arrived, they located an 81-year-old man and 81-year-old Ulrike Miller were located without vital signs and suffering from life-threatening stab wounds. Investigators have learned that there was an altercation inside the residence. The two were taken to the hospital, where both were pronounced dead. The 81-year-old man, who they did not identify, \"is believed to be responsible for the homicide,\" police said, adding that they did not believe there to be additional suspects. Investigators have not disclosed the suspect's relationship with the victim. The motive for the stabbing is also unknown.    \n",
              "\n",
              "   text_length  total_word  \\\n",
              "0         1062         170   \n",
              "1         1965         355   \n",
              "2         4054         684   \n",
              "3         1206         205   \n",
              "4          849         136   \n",
              "\n",
              "                                                                                                                                                                                                                                                                                                                                                                                                                                                                                                                                                                                                                                                                                                                                                                                                 summary  \\\n",
              "0                                                                                                                                                                                                                                                                                                                                                                                                                                                                                                                         Police are investigating multiple reports of falling objects striking and damaging vehicles near Toronto's Don Valley Parkway . The Toronto Police Service said it first received reports that two vehicles had been damaged by falling objects in March . Police said they do   \n",
              "1                                                                                                                                                                                                                                                                                                                                                                               Monica Doedens returned home on Saturday to find the lock on her door broken and her house ransacked . The hardest loss to accept was her custom-made bike, purchased three years ago . The bike will cost $10,000 to replace and she's raising money for cancer research . Toronto Police stats show about 3,000 bikes are stolen a year, most were taken from outside residences . Doeden said she doesn't know yet if   \n",
              "2   Sean Plunket says he's shocked at how easily his brother, James, ordered the fatal package from Canada . He says the idea he could access this, not necessarily through the dark web, but it was there, hiding in plain bloody sight . Law is facing charges of first-degree murder and aiding and abetting suicide in 14 cases in Ontario . Law's products were promoted on a suicide discussion forum that CTV News is not naming . There’s no tool in Canadian law currently to ban websites. But that forum could be caught up in the Online Harms Act, which is in second reading on Parliament Hill, which would prohibit certain websites from offering content that would encourage young people to die by suicide . The website's operators have said they “don’t care about Canadian law.”   \n",
              "3                                                                                                                                                                                                                                                                                                                                                                                                                                                                                                                                                   A Toronto man is facing charges after allegedly stealing more than $60,000 in clothing from downtown stores . Michael Lewis, 42, of Toronto, is facing three counts of theft over $5,000 . Police say they recovered $6,338 worth of clothing during   \n",
              "4                                                                                                                                                                                                                                                                                                                                                                                                                                                                                                                                                                                                                                                  An 81-year-old man and a woman in her 80s were stabbed in North York on Sunday afternoon . Police have identified Ulrike Miller, 81, as the victim of   \n",
              "\n",
              "   min_word  max_word source  \\\n",
              "0        37        47   cp24   \n",
              "1        83        93   cp24   \n",
              "2       166       176   cp24   \n",
              "3        46        56   cp24   \n",
              "4        29        39   cp24   \n",
              "\n",
              "                                                                                                                                        url  \\\n",
              "0         https://www.cp24.com/news/police-investigation-reports-of-falling-objects-damaging-vehicles-near-the-don-valley-parkway-1.6969051   \n",
              "1                   https://www.cp24.com/news/heartbreaking-bike-used-for-cancer-fundraising-stolen-from-toronto-woman-s-basement-1.6975085   \n",
              "2  https://www.cp24.com/news/new-zealand-man-says-canadian-regulators-e-commerce-platforms-should-have-protected-his-late-brother-1.6975329   \n",
              "3        https://www.cp24.com/news/man-charged-after-allegedly-stealing-more-than-60k-in-clothing-from-downtown-toronto-retailers-1.6974823   \n",
              "4                                             https://www.cp24.com/news/police-id-81-year-old-woman-killed-in-north-york-stabbing-1.6975072   \n",
              "\n",
              "   type  model_used  \n",
              "0  news  summarizer  \n",
              "1  news  summarizer  \n",
              "2  news  summarizer  \n",
              "3  news  summarizer  \n",
              "4  news  summarizer  "
            ],
            "text/html": [
              "\n",
              "  <div id=\"df-c67164d9-556e-4a60-9b2b-a8ad035eb17e\" class=\"colab-df-container\">\n",
              "    <div>\n",
              "<style scoped>\n",
              "    .dataframe tbody tr th:only-of-type {\n",
              "        vertical-align: middle;\n",
              "    }\n",
              "\n",
              "    .dataframe tbody tr th {\n",
              "        vertical-align: top;\n",
              "    }\n",
              "\n",
              "    .dataframe thead th {\n",
              "        text-align: right;\n",
              "    }\n",
              "</style>\n",
              "<table border=\"1\" class=\"dataframe\">\n",
              "  <thead>\n",
              "    <tr style=\"text-align: right;\">\n",
              "      <th></th>\n",
              "      <th>Unnamed: 0</th>\n",
              "      <th>text</th>\n",
              "      <th>text_length</th>\n",
              "      <th>total_word</th>\n",
              "      <th>summary</th>\n",
              "      <th>min_word</th>\n",
              "      <th>max_word</th>\n",
              "      <th>source</th>\n",
              "      <th>url</th>\n",
              "      <th>type</th>\n",
              "      <th>model_used</th>\n",
              "    </tr>\n",
              "  </thead>\n",
              "  <tbody>\n",
              "    <tr>\n",
              "      <th>0</th>\n",
              "      <td>0</td>\n",
              "      <td>Police are investigating multiple reports of falling objects striking and damaging vehicles near Toronto's Don Valley Parkway in recent months. The Toronto Police Service (TPS) said it first received reports that two vehicles had been damaged by falling objects in the area of Pottery Road and Broadview Avenue in March. Officers determined that the vehicles had been damaged by “various sizes of metal BBs and glass marbles,” police said in a release issued Thursday. Police said they do not know where the objects originated from or who may be responsible. Police said they received a third report in July of a vehicle in the same area damaged by falling objects. In that incident, they said an unknown person threw glass, ball bearings and marbles onto vehicles on Pottery Road. “Drivers, pedestrians, and cyclists in the area are urged to use caution and to be vigilant as police continue to investigate,” the release states. Investigators asked anyone with information to call 416-808-5500,...</td>\n",
              "      <td>1062</td>\n",
              "      <td>170</td>\n",
              "      <td>Police are investigating multiple reports of falling objects striking and damaging vehicles near Toronto's Don Valley Parkway . The Toronto Police Service said it first received reports that two vehicles had been damaged by falling objects in March . Police said they do</td>\n",
              "      <td>37</td>\n",
              "      <td>47</td>\n",
              "      <td>cp24</td>\n",
              "      <td>https://www.cp24.com/news/police-investigation-reports-of-falling-objects-damaging-vehicles-near-the-don-valley-parkway-1.6969051</td>\n",
              "      <td>news</td>\n",
              "      <td>summarizer</td>\n",
              "    </tr>\n",
              "    <tr>\n",
              "      <th>1</th>\n",
              "      <td>1</td>\n",
              "      <td>A Toronto woman is looking to recover the specialized bicycle used to raise money for cancer research after it was stolen from her Etobicoke home over the weekend. Monica Doedens said she returned home on Saturday to find the lock on her door broken, her house ransacked and several valuable items stolen. The hardest loss to accept was her Pinarello bike, stored in the basement — purchased three years ago. “I could feel my heart drop,” Doedens told CTV News Toronto. “We have a garage and a shed, and I deliberately do not keep [the bike] in either because I thought the house was safest.” “The bicycle was an expensive one which I really didn’t think it could afford but because I ride so much I decided to spend the extra money on this bike and it was a little bit heartbreaking,” she continued. Doedens said the bike was custom-made and will cost $10,000 to replace. She said she doesn’t know yet if her home insurance will cover the loss. “They don’t make the Pinarello Prince anymore,” s...</td>\n",
              "      <td>1965</td>\n",
              "      <td>355</td>\n",
              "      <td>Monica Doedens returned home on Saturday to find the lock on her door broken and her house ransacked . The hardest loss to accept was her custom-made bike, purchased three years ago . The bike will cost $10,000 to replace and she's raising money for cancer research . Toronto Police stats show about 3,000 bikes are stolen a year, most were taken from outside residences . Doeden said she doesn't know yet if</td>\n",
              "      <td>83</td>\n",
              "      <td>93</td>\n",
              "      <td>cp24</td>\n",
              "      <td>https://www.cp24.com/news/heartbreaking-bike-used-for-cancer-fundraising-stolen-from-toronto-woman-s-basement-1.6975085</td>\n",
              "      <td>news</td>\n",
              "      <td>summarizer</td>\n",
              "    </tr>\n",
              "    <tr>\n",
              "      <th>2</th>\n",
              "      <td>2</td>\n",
              "      <td>The brother of a New Zealand man who died after ordering a product from an accused Canadian suicide salesman says it shouldn’t be so easy for vulnerable people to get dangerous substances online. Sean Plunket says he’s shocked at how easily his brother, James, ordered the fatal package from Canada, and has tough questions for this country’s internet regulators and e-commerce platforms about why they didn't stop it. “The idea he could access this, not necessarily through the dark web, but it was there, hiding in plain bloody sight, that is chilling to me,” Plunket said in an interview from New Zealand. “We know he was vulnerable at that moment. At that moment he needed protection, there was someone who took advantage of him and made it easier for him to take his own life rather than harder,” he said. “Those bad decisions become very, very easy when you’ve got someone making money off it,” he said. A New Zealand coroner found this week that Plunket’s brother James was one of four pe...</td>\n",
              "      <td>4054</td>\n",
              "      <td>684</td>\n",
              "      <td>Sean Plunket says he's shocked at how easily his brother, James, ordered the fatal package from Canada . He says the idea he could access this, not necessarily through the dark web, but it was there, hiding in plain bloody sight . Law is facing charges of first-degree murder and aiding and abetting suicide in 14 cases in Ontario . Law's products were promoted on a suicide discussion forum that CTV News is not naming . There’s no tool in Canadian law currently to ban websites. But that forum could be caught up in the Online Harms Act, which is in second reading on Parliament Hill, which would prohibit certain websites from offering content that would encourage young people to die by suicide . The website's operators have said they “don’t care about Canadian law.”</td>\n",
              "      <td>166</td>\n",
              "      <td>176</td>\n",
              "      <td>cp24</td>\n",
              "      <td>https://www.cp24.com/news/new-zealand-man-says-canadian-regulators-e-commerce-platforms-should-have-protected-his-late-brother-1.6975329</td>\n",
              "      <td>news</td>\n",
              "      <td>summarizer</td>\n",
              "    </tr>\n",
              "    <tr>\n",
              "      <th>3</th>\n",
              "      <td>3</td>\n",
              "      <td>A Toronto man is facing charges after allegedly stealing more than $60,000 in clothing from downtown retail stores in recent months. On Friday, the Toronto Police Service (TPS) was called to a clothing store near Peter and Queen streets for reports of a theft in progress. According to a release issued by the service , a masked suspect entered the store, selected “a quantity” of women’s pants, and left without paying. The suspect was located and arrested that day. Police say they recovered $6,338 worth of clothing during the arrest. In the release, investigators further alleged that the suspect had stolen more than $55,000 worth of clothing from stores in the area between May and July of this year. Michael Lewis, 42, of Toronto, is facing three counts of theft over $5,000, 12 counts of theft under $5,000, and 10 counts of failure to comply with a probation order. The charges have not been tested in court. Lewis is scheduled to appear in court on July 29 at 10 a.m. Police said in th...</td>\n",
              "      <td>1206</td>\n",
              "      <td>205</td>\n",
              "      <td>A Toronto man is facing charges after allegedly stealing more than $60,000 in clothing from downtown stores . Michael Lewis, 42, of Toronto, is facing three counts of theft over $5,000 . Police say they recovered $6,338 worth of clothing during</td>\n",
              "      <td>46</td>\n",
              "      <td>56</td>\n",
              "      <td>cp24</td>\n",
              "      <td>https://www.cp24.com/news/man-charged-after-allegedly-stealing-more-than-60k-in-clothing-from-downtown-toronto-retailers-1.6974823</td>\n",
              "      <td>news</td>\n",
              "      <td>summarizer</td>\n",
              "    </tr>\n",
              "    <tr>\n",
              "      <th>4</th>\n",
              "      <td>4</td>\n",
              "      <td>Police have identified a woman in her 80s as the victim of a North York stabbing on Sunday. Toronto police said they were called to a residence near Cherrystone Drive and Cliffwood Road for a person with a knife just before 2:45 p.m. When officers arrived, they located an 81-year-old man and 81-year-old Ulrike Miller were located without vital signs and suffering from life-threatening stab wounds. Investigators have learned that there was an altercation inside the residence. The two were taken to the hospital, where both were pronounced dead. The 81-year-old man, who they did not identify, \"is believed to be responsible for the homicide,\" police said, adding that they did not believe there to be additional suspects. Investigators have not disclosed the suspect's relationship with the victim. The motive for the stabbing is also unknown.</td>\n",
              "      <td>849</td>\n",
              "      <td>136</td>\n",
              "      <td>An 81-year-old man and a woman in her 80s were stabbed in North York on Sunday afternoon . Police have identified Ulrike Miller, 81, as the victim of</td>\n",
              "      <td>29</td>\n",
              "      <td>39</td>\n",
              "      <td>cp24</td>\n",
              "      <td>https://www.cp24.com/news/police-id-81-year-old-woman-killed-in-north-york-stabbing-1.6975072</td>\n",
              "      <td>news</td>\n",
              "      <td>summarizer</td>\n",
              "    </tr>\n",
              "  </tbody>\n",
              "</table>\n",
              "</div>\n",
              "    <div class=\"colab-df-buttons\">\n",
              "\n",
              "  <div class=\"colab-df-container\">\n",
              "    <button class=\"colab-df-convert\" onclick=\"convertToInteractive('df-c67164d9-556e-4a60-9b2b-a8ad035eb17e')\"\n",
              "            title=\"Convert this dataframe to an interactive table.\"\n",
              "            style=\"display:none;\">\n",
              "\n",
              "  <svg xmlns=\"http://www.w3.org/2000/svg\" height=\"24px\" viewBox=\"0 -960 960 960\">\n",
              "    <path d=\"M120-120v-720h720v720H120Zm60-500h600v-160H180v160Zm220 220h160v-160H400v160Zm0 220h160v-160H400v160ZM180-400h160v-160H180v160Zm440 0h160v-160H620v160ZM180-180h160v-160H180v160Zm440 0h160v-160H620v160Z\"/>\n",
              "  </svg>\n",
              "    </button>\n",
              "\n",
              "  <style>\n",
              "    .colab-df-container {\n",
              "      display:flex;\n",
              "      gap: 12px;\n",
              "    }\n",
              "\n",
              "    .colab-df-convert {\n",
              "      background-color: #E8F0FE;\n",
              "      border: none;\n",
              "      border-radius: 50%;\n",
              "      cursor: pointer;\n",
              "      display: none;\n",
              "      fill: #1967D2;\n",
              "      height: 32px;\n",
              "      padding: 0 0 0 0;\n",
              "      width: 32px;\n",
              "    }\n",
              "\n",
              "    .colab-df-convert:hover {\n",
              "      background-color: #E2EBFA;\n",
              "      box-shadow: 0px 1px 2px rgba(60, 64, 67, 0.3), 0px 1px 3px 1px rgba(60, 64, 67, 0.15);\n",
              "      fill: #174EA6;\n",
              "    }\n",
              "\n",
              "    .colab-df-buttons div {\n",
              "      margin-bottom: 4px;\n",
              "    }\n",
              "\n",
              "    [theme=dark] .colab-df-convert {\n",
              "      background-color: #3B4455;\n",
              "      fill: #D2E3FC;\n",
              "    }\n",
              "\n",
              "    [theme=dark] .colab-df-convert:hover {\n",
              "      background-color: #434B5C;\n",
              "      box-shadow: 0px 1px 3px 1px rgba(0, 0, 0, 0.15);\n",
              "      filter: drop-shadow(0px 1px 2px rgba(0, 0, 0, 0.3));\n",
              "      fill: #FFFFFF;\n",
              "    }\n",
              "  </style>\n",
              "\n",
              "    <script>\n",
              "      const buttonEl =\n",
              "        document.querySelector('#df-c67164d9-556e-4a60-9b2b-a8ad035eb17e button.colab-df-convert');\n",
              "      buttonEl.style.display =\n",
              "        google.colab.kernel.accessAllowed ? 'block' : 'none';\n",
              "\n",
              "      async function convertToInteractive(key) {\n",
              "        const element = document.querySelector('#df-c67164d9-556e-4a60-9b2b-a8ad035eb17e');\n",
              "        const dataTable =\n",
              "          await google.colab.kernel.invokeFunction('convertToInteractive',\n",
              "                                                    [key], {});\n",
              "        if (!dataTable) return;\n",
              "\n",
              "        const docLinkHtml = 'Like what you see? Visit the ' +\n",
              "          '<a target=\"_blank\" href=https://colab.research.google.com/notebooks/data_table.ipynb>data table notebook</a>'\n",
              "          + ' to learn more about interactive tables.';\n",
              "        element.innerHTML = '';\n",
              "        dataTable['output_type'] = 'display_data';\n",
              "        await google.colab.output.renderOutput(dataTable, element);\n",
              "        const docLink = document.createElement('div');\n",
              "        docLink.innerHTML = docLinkHtml;\n",
              "        element.appendChild(docLink);\n",
              "      }\n",
              "    </script>\n",
              "  </div>\n",
              "\n",
              "\n",
              "<div id=\"df-9044e5b8-c394-4e56-bb27-0dcb95ef3718\">\n",
              "  <button class=\"colab-df-quickchart\" onclick=\"quickchart('df-9044e5b8-c394-4e56-bb27-0dcb95ef3718')\"\n",
              "            title=\"Suggest charts\"\n",
              "            style=\"display:none;\">\n",
              "\n",
              "<svg xmlns=\"http://www.w3.org/2000/svg\" height=\"24px\"viewBox=\"0 0 24 24\"\n",
              "     width=\"24px\">\n",
              "    <g>\n",
              "        <path d=\"M19 3H5c-1.1 0-2 .9-2 2v14c0 1.1.9 2 2 2h14c1.1 0 2-.9 2-2V5c0-1.1-.9-2-2-2zM9 17H7v-7h2v7zm4 0h-2V7h2v10zm4 0h-2v-4h2v4z\"/>\n",
              "    </g>\n",
              "</svg>\n",
              "  </button>\n",
              "\n",
              "<style>\n",
              "  .colab-df-quickchart {\n",
              "      --bg-color: #E8F0FE;\n",
              "      --fill-color: #1967D2;\n",
              "      --hover-bg-color: #E2EBFA;\n",
              "      --hover-fill-color: #174EA6;\n",
              "      --disabled-fill-color: #AAA;\n",
              "      --disabled-bg-color: #DDD;\n",
              "  }\n",
              "\n",
              "  [theme=dark] .colab-df-quickchart {\n",
              "      --bg-color: #3B4455;\n",
              "      --fill-color: #D2E3FC;\n",
              "      --hover-bg-color: #434B5C;\n",
              "      --hover-fill-color: #FFFFFF;\n",
              "      --disabled-bg-color: #3B4455;\n",
              "      --disabled-fill-color: #666;\n",
              "  }\n",
              "\n",
              "  .colab-df-quickchart {\n",
              "    background-color: var(--bg-color);\n",
              "    border: none;\n",
              "    border-radius: 50%;\n",
              "    cursor: pointer;\n",
              "    display: none;\n",
              "    fill: var(--fill-color);\n",
              "    height: 32px;\n",
              "    padding: 0;\n",
              "    width: 32px;\n",
              "  }\n",
              "\n",
              "  .colab-df-quickchart:hover {\n",
              "    background-color: var(--hover-bg-color);\n",
              "    box-shadow: 0 1px 2px rgba(60, 64, 67, 0.3), 0 1px 3px 1px rgba(60, 64, 67, 0.15);\n",
              "    fill: var(--button-hover-fill-color);\n",
              "  }\n",
              "\n",
              "  .colab-df-quickchart-complete:disabled,\n",
              "  .colab-df-quickchart-complete:disabled:hover {\n",
              "    background-color: var(--disabled-bg-color);\n",
              "    fill: var(--disabled-fill-color);\n",
              "    box-shadow: none;\n",
              "  }\n",
              "\n",
              "  .colab-df-spinner {\n",
              "    border: 2px solid var(--fill-color);\n",
              "    border-color: transparent;\n",
              "    border-bottom-color: var(--fill-color);\n",
              "    animation:\n",
              "      spin 1s steps(1) infinite;\n",
              "  }\n",
              "\n",
              "  @keyframes spin {\n",
              "    0% {\n",
              "      border-color: transparent;\n",
              "      border-bottom-color: var(--fill-color);\n",
              "      border-left-color: var(--fill-color);\n",
              "    }\n",
              "    20% {\n",
              "      border-color: transparent;\n",
              "      border-left-color: var(--fill-color);\n",
              "      border-top-color: var(--fill-color);\n",
              "    }\n",
              "    30% {\n",
              "      border-color: transparent;\n",
              "      border-left-color: var(--fill-color);\n",
              "      border-top-color: var(--fill-color);\n",
              "      border-right-color: var(--fill-color);\n",
              "    }\n",
              "    40% {\n",
              "      border-color: transparent;\n",
              "      border-right-color: var(--fill-color);\n",
              "      border-top-color: var(--fill-color);\n",
              "    }\n",
              "    60% {\n",
              "      border-color: transparent;\n",
              "      border-right-color: var(--fill-color);\n",
              "    }\n",
              "    80% {\n",
              "      border-color: transparent;\n",
              "      border-right-color: var(--fill-color);\n",
              "      border-bottom-color: var(--fill-color);\n",
              "    }\n",
              "    90% {\n",
              "      border-color: transparent;\n",
              "      border-bottom-color: var(--fill-color);\n",
              "    }\n",
              "  }\n",
              "</style>\n",
              "\n",
              "  <script>\n",
              "    async function quickchart(key) {\n",
              "      const quickchartButtonEl =\n",
              "        document.querySelector('#' + key + ' button');\n",
              "      quickchartButtonEl.disabled = true;  // To prevent multiple clicks.\n",
              "      quickchartButtonEl.classList.add('colab-df-spinner');\n",
              "      try {\n",
              "        const charts = await google.colab.kernel.invokeFunction(\n",
              "            'suggestCharts', [key], {});\n",
              "      } catch (error) {\n",
              "        console.error('Error during call to suggestCharts:', error);\n",
              "      }\n",
              "      quickchartButtonEl.classList.remove('colab-df-spinner');\n",
              "      quickchartButtonEl.classList.add('colab-df-quickchart-complete');\n",
              "    }\n",
              "    (() => {\n",
              "      let quickchartButtonEl =\n",
              "        document.querySelector('#df-9044e5b8-c394-4e56-bb27-0dcb95ef3718 button');\n",
              "      quickchartButtonEl.style.display =\n",
              "        google.colab.kernel.accessAllowed ? 'block' : 'none';\n",
              "    })();\n",
              "  </script>\n",
              "</div>\n",
              "\n",
              "    </div>\n",
              "  </div>\n"
            ],
            "application/vnd.google.colaboratory.intrinsic+json": {
              "type": "dataframe",
              "variable_name": "df",
              "summary": "{\n  \"name\": \"df\",\n  \"rows\": 21,\n  \"fields\": [\n    {\n      \"column\": \"Unnamed: 0\",\n      \"properties\": {\n        \"dtype\": \"number\",\n        \"std\": 6,\n        \"min\": 0,\n        \"max\": 20,\n        \"num_unique_values\": 21,\n        \"samples\": [\n          0,\n          17,\n          15\n        ],\n        \"semantic_type\": \"\",\n        \"description\": \"\"\n      }\n    },\n    {\n      \"column\": \"text\",\n      \"properties\": {\n        \"dtype\": \"string\",\n        \"num_unique_values\": 21,\n        \"samples\": [\n          \" Police are investigating multiple reports of falling objects striking and damaging vehicles near Toronto's Don Valley Parkway in recent months. The Toronto Police Service (TPS) said it first received reports that two vehicles had been damaged by falling objects in the area of Pottery Road and Broadview Avenue in March. Officers determined that the vehicles had been damaged by \\u201cvarious sizes of metal BBs and glass marbles,\\u201d police said in a release issued Thursday. Police said they do not know where the objects originated from or who may be responsible. Police said they received a third report in July of a vehicle in the same area damaged by falling objects. In that incident, they said an unknown person threw glass, ball bearings and marbles onto vehicles on Pottery Road. \\u201cDrivers, pedestrians, and cyclists in the area are urged to use caution and to be vigilant as police continue to investigate,\\u201d the release states. Investigators asked anyone with information to call 416-808-5500, or contact Crime Stoppers anonymously at 416-222-TIPS (8477) or  \",\n          \" The Office of the Privacy Commissioner of Canada says it\\u2019s opened an investigation into allegations that some Loblaw customers have been unable to delete their PC Optimum accounts. Spokesman Vito Pilieci said in an email that the office has received several such complaints. He said the office can\\u2019t comment further due to the active investigation. Loblaw spokeswoman Catherine Thomas said in an email that the company has processes to respond to account deletion requests in a timely manner, and that it will fully co-operate with the privacy commissioner's office. The Office of the Privacy Commissioner oversees compliance with the Personal Information Protection and Electronic Documents Act as well as the Privacy Act. According to Loblaw's 2023 annual report, the PC Optimum loyalty program has more than 16 million active users. \",\n          \" The Canadian Olympic Committee says women's soccer assistant coach Jasmine Mander and Canada Soccer analyst Joseph Lombardi have been removed from the Canadian Olympic team and sent home after two drone incidents at the Paris Games. The COC also says it has accepted the decision of head coach Bev Priestman to remove herself from coaching the team's opening game against New Zealand on Thursday. The committee statement comes after a review of a drone incident in Saint-Etienne, France on Monday and a second drone incident at a New Zealand practice last Friday. The COC also says that Canada Soccer staff will undergo mandatory ethics training. Priestman and three players are expected to hold a media availability at the end of their afternoon training session in Saint-Etienne. The Canadian women's soccer team won Olympic gold three years ago in Tokyo. More coming. \"\n        ],\n        \"semantic_type\": \"\",\n        \"description\": \"\"\n      }\n    },\n    {\n      \"column\": \"text_length\",\n      \"properties\": {\n        \"dtype\": \"number\",\n        \"std\": 3975,\n        \"min\": 709,\n        \"max\": 18999,\n        \"num_unique_values\": 21,\n        \"samples\": [\n          1062,\n          837,\n          872\n        ],\n        \"semantic_type\": \"\",\n        \"description\": \"\"\n      }\n    },\n    {\n      \"column\": \"total_word\",\n      \"properties\": {\n        \"dtype\": \"number\",\n        \"std\": 644,\n        \"min\": 113,\n        \"max\": 3070,\n        \"num_unique_values\": 21,\n        \"samples\": [\n          170,\n          130,\n          141\n        ],\n        \"semantic_type\": \"\",\n        \"description\": \"\"\n      }\n    },\n    {\n      \"column\": \"summary\",\n      \"properties\": {\n        \"dtype\": \"string\",\n        \"num_unique_values\": 21,\n        \"samples\": [\n          \" Police are investigating multiple reports of falling objects striking and damaging vehicles near Toronto's Don Valley Parkway . The Toronto Police Service said it first received reports that two vehicles had been damaged by falling objects in March . Police said they do\",\n          \" The Office of the Privacy Commissioner of Canada says it\\u2019s opened an investigation into allegations that some Loblaw customers have been unable to delete their PC Optimum accounts .\",\n          \" Jasmine Mander and Joseph Lombardi have been removed from the Canadian Olympic team . Canada Soccer staff will undergo mandatory ethics training . Head coach Bev Priestman has removed herself from coaching\"\n        ],\n        \"semantic_type\": \"\",\n        \"description\": \"\"\n      }\n    },\n    {\n      \"column\": \"min_word\",\n      \"properties\": {\n        \"dtype\": \"number\",\n        \"std\": 161,\n        \"min\": 23,\n        \"max\": 762,\n        \"num_unique_values\": 21,\n        \"samples\": [\n          37,\n          27,\n          30\n        ],\n        \"semantic_type\": \"\",\n        \"description\": \"\"\n      }\n    },\n    {\n      \"column\": \"max_word\",\n      \"properties\": {\n        \"dtype\": \"number\",\n        \"std\": 161,\n        \"min\": 33,\n        \"max\": 772,\n        \"num_unique_values\": 21,\n        \"samples\": [\n          47,\n          37,\n          40\n        ],\n        \"semantic_type\": \"\",\n        \"description\": \"\"\n      }\n    },\n    {\n      \"column\": \"source\",\n      \"properties\": {\n        \"dtype\": \"category\",\n        \"num_unique_values\": 1,\n        \"samples\": [\n          \"cp24\"\n        ],\n        \"semantic_type\": \"\",\n        \"description\": \"\"\n      }\n    },\n    {\n      \"column\": \"url\",\n      \"properties\": {\n        \"dtype\": \"string\",\n        \"num_unique_values\": 21,\n        \"samples\": [\n          \"https://www.cp24.com/news/police-investigation-reports-of-falling-objects-damaging-vehicles-near-the-don-valley-parkway-1.6969051\"\n        ],\n        \"semantic_type\": \"\",\n        \"description\": \"\"\n      }\n    },\n    {\n      \"column\": \"type\",\n      \"properties\": {\n        \"dtype\": \"category\",\n        \"num_unique_values\": 1,\n        \"samples\": [\n          \"news\"\n        ],\n        \"semantic_type\": \"\",\n        \"description\": \"\"\n      }\n    },\n    {\n      \"column\": \"model_used\",\n      \"properties\": {\n        \"dtype\": \"category\",\n        \"num_unique_values\": 2,\n        \"samples\": [\n          \"allenai\"\n        ],\n        \"semantic_type\": \"\",\n        \"description\": \"\"\n      }\n    }\n  ]\n}"
            }
          },
          "metadata": {},
          "execution_count": 28
        }
      ]
    },
    {
      "cell_type": "markdown",
      "source": [
        "#Train and test"
      ],
      "metadata": {
        "id": "WCm8S_Vcimhp"
      }
    },
    {
      "cell_type": "code",
      "source": [
        "X_train,X_test,y_train,y_test = train_test_split(df['text'],df['summary'],test_size=0.1, shuffle=True, random_state=30)"
      ],
      "metadata": {
        "id": "FyelLlPXioBT"
      },
      "execution_count": 29,
      "outputs": []
    },
    {
      "cell_type": "code",
      "source": [
        "print(\"X_train shape\", X_train.shape)\n",
        "print(\"X_test shape\", X_test.shape)\n",
        "print(\"y_train shape\",y_train.shape)\n",
        "print(\"y_test shape\",y_test.shape)"
      ],
      "metadata": {
        "colab": {
          "base_uri": "https://localhost:8080/"
        },
        "id": "FhYnO52NiorP",
        "outputId": "54f135a3-a7e2-42cb-87d9-7c316d1a98ae"
      },
      "execution_count": 30,
      "outputs": [
        {
          "output_type": "stream",
          "name": "stdout",
          "text": [
            "X_train shape (18,)\n",
            "X_test shape (3,)\n",
            "y_train shape (18,)\n",
            "y_test shape (3,)\n"
          ]
        }
      ]
    },
    {
      "cell_type": "code",
      "source": [
        "X_train"
      ],
      "metadata": {
        "colab": {
          "base_uri": "https://localhost:8080/"
        },
        "id": "7sonJweSiotw",
        "outputId": "398a1865-f2d9-4f11-fe23-d423029ca906"
      },
      "execution_count": 31,
      "outputs": [
        {
          "output_type": "execute_result",
          "data": {
            "text/plain": [
              "14     A two-vehicle crash in Hamilton Tuesday night has left one person dead and three others injured, police say. Emergency crews were called to the area of Dundas Street East and Avonsyde Boulevard , near the city’s Burlington border, just after 11 p.m. for reports of a collision. Police said that’s where the 42-year-old driver of a black Dodge Ram and the three occupants of a white Toyota collided. The driver of the Dodge Ram was transported to hospital, where they were pronounced deceased, police said. The occupants of the Toyota sustained minor injuries and were transported to hospital. The cause of the crash is unknown at this time. Investigators with the Hamilton police collision reconstruction unit are on scene investigating. Road closures are in effect. Police are asking anyone with information about the crash to contact police at 905-546-4753 or via email at reconunit@hamiltonpolice.ca. . @HamiltonPolice are currently investigating a two-vehicle collision on Dundas Street East...\n",
              "10     A sentencing hearing is expected to begin today in Toronto for former fashion mogul Peter Nygard, who was found guilty of four counts of sexual assault last fall. The sentencing process has been delayed in part because Nygard's two previous defence lawyers, Brian Greenspan and Megan Savard, asked to withdraw from the case earlier this year. Nygard, who once led a multimillion-dollar clothing empire, has also faced health challenges throughout the case, and his health is expected to be raised during sentencing submissions. He was found guilty on four counts of sexual assault on Nov. 12, but was acquitted of a fifth count, as well as a charge of forcible confinement. The charges relate to allegations dating from the 1980s until the mid-2000s. Nygard is also facing charges in two other provinces and the United States. His Manitoba trial on sexual assault-related charges has been delayed in part due to Greenspan's resignation as his defence lawyer in that case as well as the Toronto o...\n",
              "6                                                                                                                                                                                                                                                                                                        A pedestrian has been critically injured after being struck by a vehicle on the Gardiner Expressway on Tuesday evening. Emergency crews responded to a collision on the westbound lanes of the highway east of Jameson Avenue shortly after 6 p.m. Toronto police said the pedestrian, a man in his 30s, was rushed to the hospital. He suffered life-threatening injuries, according to Toronto paramedics. The driver remained at the scene, police said. All the westbound lanes of the Gardiner Expressway between Spadina and Jameson avenues were due to the collision but they have since reopened. Photos Several westbound lanes on the Gardiner Expressway are closed after a collision on Tuesday, July 23, 2024. (CP24) \n",
              "16     KATHMANDU, Nepal (AP) — A plane crashed Wednesday just after taking off from Nepal’s capital, killing 18 people and injuring a pilot who was the lone survivor. All the people aboard the Saurya Airlines flight including the co-pilot were Nepali except for one passenger, who was a Yemeni national, the Civil Aviation Authority of Nepal said. Authorities have pulled all 18 bodies from the wreckage, police official Basanta Rajauri said. The Bombardier CRJ 200 plane was heading to Nepal's second-most populous city of Pokhara for maintenance work and most of the passengers aboard were either mechanics or airline employees, airport officials said. They were speaking on condition of anonymity because they were not authorized to speak to reporters. The pilot has injuries to his eyes but his life is not in any danger, said a doctor at Kathmandu Medical College Hospital, where the pilot is being treated. The doctor spoke on condition of anonymity because she was not authorized to speak to rep...\n",
              "8      The province’s police watchdog is investigating after a man was seriously injured when he was shot by a Toronto police officer in Cabbagetown Tuesday evening. The incident occurred near Carlton and Parliament streets at around 7:14 p.m. Toronto police said a man was armed with a knife, and an officer discharged their firearm. The man was transported to the hospital in serious, potentially life-threatening condition, Toronto paramedics said. It is unclear what led to the shooting. Because the Special Investigations Unit (SIU) has invoked its mandate, Toronto police said no further details would be released about the incident. A resident in the area told CP24 he was having dinner when he heard “a few loud bangs,” which he initially thought were fireworks. But when he looked outside, the man said he saw “a police officer like pointing a gun at somebody, and then I saw a person lying on the ground.” The SIU is called in when the actions of police resulted in death, serious injury, sex...\n",
              "15                                                                                                                                    The Canadian Olympic Committee says women's soccer assistant coach Jasmine Mander and Canada Soccer analyst Joseph Lombardi have been removed from the Canadian Olympic team and sent home after two drone incidents at the Paris Games. The COC also says it has accepted the decision of head coach Bev Priestman to remove herself from coaching the team's opening game against New Zealand on Thursday. The committee statement comes after a review of a drone incident in Saint-Etienne, France on Monday and a second drone incident at a New Zealand practice last Friday. The COC also says that Canada Soccer staff will undergo mandatory ethics training. Priestman and three players are expected to hold a media availability at the end of their afternoon training session in Saint-Etienne. The Canadian women's soccer team won Olympic gold three years ago in Tokyo. More coming. \n",
              "9      WEST ALLIS, Wisconsin (AP) — A roaring crowd of battleground state voters greeted Vice President Kamala Harris on Tuesday as she opened her public case against Republican former President Donald Trump by declaring November's election will be \"a choice between freedom and chaos.” “In this campaign, I promise you, I will proudly put my record against his any day of the week,” Harris said. “We believe in a future where every person has the opportunity not just to get by, but to get ahead.” Harris arrived in the Milwaukee area having locked up nomination support from Democratic delegates after President Joe Biden dropped his reelection bid on Sunday. It was her first campaign rally since she jumped into the race just two days ago with Biden’s endorsement. The event reflected a vibrancy that had been lacking among Democrats in recent weeks, and Harris was intent on projecting a sense of steady confidence about the November election. She's pulled in $100 million in donations since Sunda...\n",
              "3      A Toronto man is facing charges after allegedly stealing more than $60,000 in clothing from downtown retail stores in recent months. On Friday, the Toronto Police Service (TPS) was called to a clothing store near Peter and Queen streets for reports of a theft in progress. According to a release issued by the service , a masked suspect entered the store, selected “a quantity” of women’s pants, and left without paying. The suspect was located and arrested that day. Police say they recovered $6,338 worth of clothing during the arrest. In the release, investigators further alleged that the suspect had stolen more than $55,000 worth of clothing from stores in the area between May and July of this year. Michael Lewis, 42, of Toronto, is facing three counts of theft over $5,000, 12 counts of theft under $5,000, and 10 counts of failure to comply with a probation order. The charges have not been tested in court. Lewis is scheduled to appear in court on July 29 at 10 a.m. Police said in th...\n",
              "1      A Toronto woman is looking to recover the specialized bicycle used to raise money for cancer research after it was stolen from her Etobicoke home over the weekend. Monica Doedens said she returned home on Saturday to find the lock on her door broken, her house ransacked and several valuable items stolen. The hardest loss to accept was her Pinarello bike, stored in the basement — purchased three years ago. “I could feel my heart drop,” Doedens told CTV News Toronto. “We have a garage and a shed, and I deliberately do not keep [the bike] in either because I thought the house was safest.” “The bicycle was an expensive one which I really didn’t think it could afford but because I ride so much I decided to spend the extra money on this bike and it was a little bit heartbreaking,” she continued. Doedens said the bike was custom-made and will cost $10,000 to replace. She said she doesn’t know yet if her home insurance will cover the loss. “They don’t make the Pinarello Prince anymore,” s...\n",
              "11                 A “frosty” fall is in store for Ontario, according to a newly released forecast from the Old Farmers’ Almanac. The fall season, which begins on Sept. 21, is expected to kick off with chilly temperatures coast-to-coast, the periodical says. It also predicts rainfall will skew slightly above average levels. The Thanksgiving weekend will bring higher temperatures to Ontario, along with Quebec, New Brunswick, Prince Edward Island and Nova Scotia, according to the forecast. These provinces are predicted to see drier conditions in mid-October, while western Canada will see higher precipitation than usual. By Halloween, the Almanac is calling for clear conditions in Ontario. “More of a treat as opposed to a trick: generally dry weather should arrive in time for Halloween,” the forecast reads, adding that “spooky” and soggy weather could be in store for other provinces come late October. The forecast says November is expected to be “frosty and unsettled” for most of the country. \n",
              "19     The Ontario government says it is giving Toronto $73 million in order to speed up rehabilitation work on the latest stretch of the Gardiner Expressway by a year. Work on the expressway between Dufferin and Strachan was scheduled to be complete by April 2027, but the money will be used to carry out construction 24/7 so that it's done by April 2026. Ontario Transportation Minister Prabmeet Sarkaria made the announcement alongside Mayor Olivia Chow Wednesday morning at city hall. \"Ontario's investment will support contractors working 24 hours a day, seven days a week, with multiple shifts per day, with additional measures supported through this agreement to improve traffic flow,\" Sarkaria said. He said additional measures will include modification of the Jameson Avenue on-ramp to the westbound Gardiner and opening a left turn lane at Spadina Avenue from Lake Shore East Boulevard, as well as relaxing noise restrictions and overnight lane closures. \"I am pleased to say that with the su...\n",
              "2      The brother of a New Zealand man who died after ordering a product from an accused Canadian suicide salesman says it shouldn’t be so easy for vulnerable people to get dangerous substances online. Sean Plunket says he’s shocked at how easily his brother, James, ordered the fatal package from Canada, and has tough questions for this country’s internet regulators and e-commerce platforms about why they didn't stop it. “The idea he could access this, not necessarily through the dark web, but it was there, hiding in plain bloody sight, that is chilling to me,” Plunket said in an interview from New Zealand. “We know he was vulnerable at that moment. At that moment he needed protection, there was someone who took advantage of him and made it easier for him to take his own life rather than harder,” he said. “Those bad decisions become very, very easy when you’ve got someone making money off it,” he said. A New Zealand coroner found this week that Plunket’s brother James was one of four pe...\n",
              "7      Toronto police have released a photo of a suspect who was allegedly caught on camera committing an indecent act at a residence in East York on Monday night. Police said they were called to a home near Woodycrest and Mortimer Avenues , east of Pape Avenue, on Tuesday for a suspicious incident. Responding officers learned that an unknown man attended the resident’s front porch twice the night before. He was allegedly captured on video committing an indecent act while peering into the home. Police said the suspect was last seen walking northbound on Woodycrest Avenue. He is described as a male between 45 and 55 years old, five-foot-five to five-foot-eight, with a medium build, short dark receding hair, a moustache and thick bushy eyebrows. Police said the suspect was last seen wearing a red T-shirt, sweatpants, and a dark-coloured baseball cap with “NYC” in white writing above the brim. Investigators believe there may be witnesses to the incident and ask them or anyone with informati...\n",
              "12     Some wildfire evacuees who were trapped in traffic for hours while leaving Jasper National Park say they are feeling relieved to have found safety. Addison McNeill, who is 24, says she felt stressed when she got an alert on Monday night to evacuate Jasper about two hours after she moved to the alpine town from Edmonton. When she got on the road, she says she saw many of Jasper's 4,700 residents exiting the town calmly along with visitors despite being trapped in gridlock and hot, smoky air for hours. Evacuees were initially ordered to go to British Columbia but were directed on Tuesday to make a wide U-turn as that province was dealing with its own wildfires. Since then, reception centres have been set up north of Jasper in Grande Prairie as well as in Calgary and Edmonton, where evacuees are being helped with accommodations. Jasper resident Leanne Maeva Joyeuse says she feels relieved to have made it to Grande Prairie after having been on the road for nearly 20 hours but she is w...\n",
              "18     A convicted sex offender who allegedly hid the body of a vulnerable individual in a Toronto apartment is now wanted on additional charges, police announced on Wednesday. Rejean Hermel Perron, 52, is still at large after investigators identified him as a suspect in an indignity to a human body investigation last month. Police allege in that case that Perron befriended a resident of the city’s Riverside neighbourhood and took “deliberate steps” to keep their body hidden in their apartment after they died. Police said that the deceased, who has not been identified, died of natural causes and was frequently seen with the accused before their death. Their body was discovered on May 27 and police said Perron was forensically linked to the scene. Perron was also observed using the deceased's key fob to enter the apartment, police added. In a news release issued Wednesday, police said that Perron is now facing four new charges, including sexual assault, assault, uttering threats and forci...\n",
              "13    Toronto traffic ticket payments: City urges caution over third-party companies | CTV News Skip to main content Live TORONTO Search CTVNews.ca Search News Latest News All News CTV News Investigates Weather Queen's Park Consumer Alert Traffic Toy Mountain Gas Prices Video Latest All Video Consumer Alert Health CTV News Live Video Help Shows News Programs CTV News at Noon CTV News at Six CTV News at 11:30 About Who We Are About Us Contact Us Social Facebook Twitter Instagram Local Other Cities Atlantic Barrie Calgary Edmonton Guelph Kingston Kitchener Lethbridge London Montreal Nanaimo Newfoundland and Labrador Northern Ontario Ottawa Pembroke Prince Albert Red Deer Regina Saskatoon Sault Ste. Marie Toronto Vancouver Vancouver Island Windsor Winnipeg Shopping Trends Sections Black Friday Tech Fashion Beauty Health & Fitness Search CTVNews.ca Search Toronto Issued a traffic ticket? The City of Toronto urges caution over third-party payment companies Share Whether it's for parking, spee...\n",
              "20     Two people are dead and two others suffered serious injuries following a shooting that police have described as a “gun battle” outside a plaza in Scarborough early Wednesday morning. Shots rang out in the parking lot of a plaza in the area of Ellesmere Road and Oakley Boulevard, near Midland Avenue, shortly after 2:30 a.m. Speaking to reporters at the scene on Wednesday, Det. Rod Benson said a “significant” number of shots were fired during what appears to be an exchange of gunfire. One person was pronounced dead at the scene and a second person later died in hospital. Two others were transported to a trauma centre to be treated for serious injuries. Police were unable to confirm the ages or genders of the victims but Benson noted that next-of-kin has been notified for one of the deceased. Benson said a “significant “ number of shots were fired but could not say exactly how many shell casings there are on scene, noting that as of 9:30 a.m., forensic officers were still finding new...\n",
              "5      Toronto has a special place in Hugh Jackman's heart. During an exclusive interview with Etalk in front of dozens of fans gathered in the parking lot of 299 Queen Street West on Tuesday, the Australian actor shared that the city was where his Wolverine journey began. \"I'm going to tell you a true story. We came in this morning. And I was driving here down that freeway. What is that freeway? (Someone in the audience shouts, 'Gardiner') On the left, they've got flowers with words. I was looking at it, and I just remembered 1999 October coming here to audition in Toronto for the character of Wolverine, 25 years ago,\" Jackman said. The actor, along with Canadian actor Ryan Reynolds and Canadian director Shawn Levy, was in Toronto on Tuesday to promote their film Deadpool & Wolverine , which is set to hit theatres on Friday. Reynolds, who plays Deadpool, shared his excitement for the film because he said it will be the first time the two characters enter the Marvel Cinematic Universe. \"...\n",
              "Name: text, dtype: object"
            ]
          },
          "metadata": {},
          "execution_count": 31
        }
      ]
    },
    {
      "cell_type": "code",
      "source": [
        "X_test"
      ],
      "metadata": {
        "colab": {
          "base_uri": "https://localhost:8080/"
        },
        "id": "eR8YMbhZiowj",
        "outputId": "f127329d-e447-44f6-b090-ec887ba5ee26"
      },
      "execution_count": 63,
      "outputs": [
        {
          "output_type": "execute_result",
          "data": {
            "text/plain": [
              "17                                                                                                                                                                       The Office of the Privacy Commissioner of Canada says it’s opened an investigation into allegations that some Loblaw customers have been unable to delete their PC Optimum accounts. Spokesman Vito Pilieci said in an email that the office has received several such complaints. He said the office can’t comment further due to the active investigation. Loblaw spokeswoman Catherine Thomas said in an email that the company has processes to respond to account deletion requests in a timely manner, and that it will fully co-operate with the privacy commissioner's office. The Office of the Privacy Commissioner oversees compliance with the Personal Information Protection and Electronic Documents Act as well as the Privacy Act. According to Loblaw's 2023 annual report, the PC Optimum loyalty program has more than 16 million active users. \n",
              "0      Police are investigating multiple reports of falling objects striking and damaging vehicles near Toronto's Don Valley Parkway in recent months. The Toronto Police Service (TPS) said it first received reports that two vehicles had been damaged by falling objects in the area of Pottery Road and Broadview Avenue in March. Officers determined that the vehicles had been damaged by “various sizes of metal BBs and glass marbles,” police said in a release issued Thursday. Police said they do not know where the objects originated from or who may be responsible. Police said they received a third report in July of a vehicle in the same area damaged by falling objects. In that incident, they said an unknown person threw glass, ball bearings and marbles onto vehicles on Pottery Road. “Drivers, pedestrians, and cyclists in the area are urged to use caution and to be vigilant as police continue to investigate,” the release states. Investigators asked anyone with information to call 416-808-5500,...\n",
              "4                                                                                                                                                            Police have identified a woman in her 80s as the victim of a North York stabbing on Sunday. Toronto police said they were called to a residence near Cherrystone Drive and Cliffwood Road for a person with a knife just before 2:45 p.m. When officers arrived, they located an 81-year-old man and 81-year-old Ulrike Miller were located without vital signs and suffering from life-threatening stab wounds. Investigators have learned that there was an altercation inside the residence. The two were taken to the hospital, where both were pronounced dead. The 81-year-old man, who they did not identify, \"is believed to be responsible for the homicide,\" police said, adding that they did not believe there to be additional suspects. Investigators have not disclosed the suspect's relationship with the victim. The motive for the stabbing is also unknown. \n",
              "Name: text, dtype: object"
            ]
          },
          "metadata": {},
          "execution_count": 63
        }
      ]
    },
    {
      "cell_type": "markdown",
      "source": [
        "#Modeling"
      ],
      "metadata": {
        "id": "BohysGeUipHL"
      }
    },
    {
      "cell_type": "code",
      "source": [
        "#transformers\n",
        "import torch\n",
        "import torch.nn as nn\n",
        "import torch.nn.functional as F\n",
        "import numpy as np\n",
        "from torch.utils.data import DataLoader, Dataset\n",
        "\n",
        "#vocabulary\n",
        "from collections import Counter\n",
        "import itertools"
      ],
      "metadata": {
        "id": "qlEiqxOYqUA6"
      },
      "execution_count": 86,
      "outputs": []
    },
    {
      "cell_type": "markdown",
      "source": [
        "## Vocabulary creation"
      ],
      "metadata": {
        "id": "HkjpvX5gNQPV"
      }
    },
    {
      "cell_type": "code",
      "source": [
        "df.info()"
      ],
      "metadata": {
        "colab": {
          "base_uri": "https://localhost:8080/"
        },
        "id": "NEzBFpscNgqt",
        "outputId": "5cb287eb-3f58-47a1-d493-55bb77401ddc"
      },
      "execution_count": 88,
      "outputs": [
        {
          "output_type": "stream",
          "name": "stdout",
          "text": [
            "<class 'pandas.core.frame.DataFrame'>\n",
            "RangeIndex: 21 entries, 0 to 20\n",
            "Data columns (total 11 columns):\n",
            " #   Column       Non-Null Count  Dtype \n",
            "---  ------       --------------  ----- \n",
            " 0   Unnamed: 0   21 non-null     int64 \n",
            " 1   text         21 non-null     object\n",
            " 2   text_length  21 non-null     int64 \n",
            " 3   total_word   21 non-null     int64 \n",
            " 4   summary      21 non-null     object\n",
            " 5   min_word     21 non-null     int64 \n",
            " 6   max_word     21 non-null     int64 \n",
            " 7   source       21 non-null     object\n",
            " 8   url          21 non-null     object\n",
            " 9   type         21 non-null     object\n",
            " 10  model_used   21 non-null     object\n",
            "dtypes: int64(5), object(6)\n",
            "memory usage: 1.9+ KB\n"
          ]
        }
      ]
    },
    {
      "cell_type": "code",
      "source": [
        "df.head(1)"
      ],
      "metadata": {
        "colab": {
          "base_uri": "https://localhost:8080/",
          "height": 220
        },
        "id": "LDwfv_92Nl_y",
        "outputId": "66aa6b5b-382e-45b6-bd0a-7a725ea33880"
      },
      "execution_count": 89,
      "outputs": [
        {
          "output_type": "execute_result",
          "data": {
            "text/plain": [
              "   Unnamed: 0  \\\n",
              "0           0   \n",
              "\n",
              "                                                                                                                                                                                                                                                                                                                                                                                                                                                                                                                                                                                                                                                                                                                                                                                                                                                                                                                                                                                                                                      text  \\\n",
              "0   Police are investigating multiple reports of falling objects striking and damaging vehicles near Toronto's Don Valley Parkway in recent months. The Toronto Police Service (TPS) said it first received reports that two vehicles had been damaged by falling objects in the area of Pottery Road and Broadview Avenue in March. Officers determined that the vehicles had been damaged by “various sizes of metal BBs and glass marbles,” police said in a release issued Thursday. Police said they do not know where the objects originated from or who may be responsible. Police said they received a third report in July of a vehicle in the same area damaged by falling objects. In that incident, they said an unknown person threw glass, ball bearings and marbles onto vehicles on Pottery Road. “Drivers, pedestrians, and cyclists in the area are urged to use caution and to be vigilant as police continue to investigate,” the release states. Investigators asked anyone with information to call 416-808-5500,...   \n",
              "\n",
              "   text_length  total_word  \\\n",
              "0         1062         170   \n",
              "\n",
              "                                                                                                                                                                                                                                                                           summary  \\\n",
              "0   Police are investigating multiple reports of falling objects striking and damaging vehicles near Toronto's Don Valley Parkway . The Toronto Police Service said it first received reports that two vehicles had been damaged by falling objects in March . Police said they do   \n",
              "\n",
              "   min_word  max_word source  \\\n",
              "0        37        47   cp24   \n",
              "\n",
              "                                                                                                                                 url  \\\n",
              "0  https://www.cp24.com/news/police-investigation-reports-of-falling-objects-damaging-vehicles-near-the-don-valley-parkway-1.6969051   \n",
              "\n",
              "   type  model_used  \n",
              "0  news  summarizer  "
            ],
            "text/html": [
              "\n",
              "  <div id=\"df-b0db2d6a-86d7-4280-bd01-d02e43c6896d\" class=\"colab-df-container\">\n",
              "    <div>\n",
              "<style scoped>\n",
              "    .dataframe tbody tr th:only-of-type {\n",
              "        vertical-align: middle;\n",
              "    }\n",
              "\n",
              "    .dataframe tbody tr th {\n",
              "        vertical-align: top;\n",
              "    }\n",
              "\n",
              "    .dataframe thead th {\n",
              "        text-align: right;\n",
              "    }\n",
              "</style>\n",
              "<table border=\"1\" class=\"dataframe\">\n",
              "  <thead>\n",
              "    <tr style=\"text-align: right;\">\n",
              "      <th></th>\n",
              "      <th>Unnamed: 0</th>\n",
              "      <th>text</th>\n",
              "      <th>text_length</th>\n",
              "      <th>total_word</th>\n",
              "      <th>summary</th>\n",
              "      <th>min_word</th>\n",
              "      <th>max_word</th>\n",
              "      <th>source</th>\n",
              "      <th>url</th>\n",
              "      <th>type</th>\n",
              "      <th>model_used</th>\n",
              "    </tr>\n",
              "  </thead>\n",
              "  <tbody>\n",
              "    <tr>\n",
              "      <th>0</th>\n",
              "      <td>0</td>\n",
              "      <td>Police are investigating multiple reports of falling objects striking and damaging vehicles near Toronto's Don Valley Parkway in recent months. The Toronto Police Service (TPS) said it first received reports that two vehicles had been damaged by falling objects in the area of Pottery Road and Broadview Avenue in March. Officers determined that the vehicles had been damaged by “various sizes of metal BBs and glass marbles,” police said in a release issued Thursday. Police said they do not know where the objects originated from or who may be responsible. Police said they received a third report in July of a vehicle in the same area damaged by falling objects. In that incident, they said an unknown person threw glass, ball bearings and marbles onto vehicles on Pottery Road. “Drivers, pedestrians, and cyclists in the area are urged to use caution and to be vigilant as police continue to investigate,” the release states. Investigators asked anyone with information to call 416-808-5500,...</td>\n",
              "      <td>1062</td>\n",
              "      <td>170</td>\n",
              "      <td>Police are investigating multiple reports of falling objects striking and damaging vehicles near Toronto's Don Valley Parkway . The Toronto Police Service said it first received reports that two vehicles had been damaged by falling objects in March . Police said they do</td>\n",
              "      <td>37</td>\n",
              "      <td>47</td>\n",
              "      <td>cp24</td>\n",
              "      <td>https://www.cp24.com/news/police-investigation-reports-of-falling-objects-damaging-vehicles-near-the-don-valley-parkway-1.6969051</td>\n",
              "      <td>news</td>\n",
              "      <td>summarizer</td>\n",
              "    </tr>\n",
              "  </tbody>\n",
              "</table>\n",
              "</div>\n",
              "    <div class=\"colab-df-buttons\">\n",
              "\n",
              "  <div class=\"colab-df-container\">\n",
              "    <button class=\"colab-df-convert\" onclick=\"convertToInteractive('df-b0db2d6a-86d7-4280-bd01-d02e43c6896d')\"\n",
              "            title=\"Convert this dataframe to an interactive table.\"\n",
              "            style=\"display:none;\">\n",
              "\n",
              "  <svg xmlns=\"http://www.w3.org/2000/svg\" height=\"24px\" viewBox=\"0 -960 960 960\">\n",
              "    <path d=\"M120-120v-720h720v720H120Zm60-500h600v-160H180v160Zm220 220h160v-160H400v160Zm0 220h160v-160H400v160ZM180-400h160v-160H180v160Zm440 0h160v-160H620v160ZM180-180h160v-160H180v160Zm440 0h160v-160H620v160Z\"/>\n",
              "  </svg>\n",
              "    </button>\n",
              "\n",
              "  <style>\n",
              "    .colab-df-container {\n",
              "      display:flex;\n",
              "      gap: 12px;\n",
              "    }\n",
              "\n",
              "    .colab-df-convert {\n",
              "      background-color: #E8F0FE;\n",
              "      border: none;\n",
              "      border-radius: 50%;\n",
              "      cursor: pointer;\n",
              "      display: none;\n",
              "      fill: #1967D2;\n",
              "      height: 32px;\n",
              "      padding: 0 0 0 0;\n",
              "      width: 32px;\n",
              "    }\n",
              "\n",
              "    .colab-df-convert:hover {\n",
              "      background-color: #E2EBFA;\n",
              "      box-shadow: 0px 1px 2px rgba(60, 64, 67, 0.3), 0px 1px 3px 1px rgba(60, 64, 67, 0.15);\n",
              "      fill: #174EA6;\n",
              "    }\n",
              "\n",
              "    .colab-df-buttons div {\n",
              "      margin-bottom: 4px;\n",
              "    }\n",
              "\n",
              "    [theme=dark] .colab-df-convert {\n",
              "      background-color: #3B4455;\n",
              "      fill: #D2E3FC;\n",
              "    }\n",
              "\n",
              "    [theme=dark] .colab-df-convert:hover {\n",
              "      background-color: #434B5C;\n",
              "      box-shadow: 0px 1px 3px 1px rgba(0, 0, 0, 0.15);\n",
              "      filter: drop-shadow(0px 1px 2px rgba(0, 0, 0, 0.3));\n",
              "      fill: #FFFFFF;\n",
              "    }\n",
              "  </style>\n",
              "\n",
              "    <script>\n",
              "      const buttonEl =\n",
              "        document.querySelector('#df-b0db2d6a-86d7-4280-bd01-d02e43c6896d button.colab-df-convert');\n",
              "      buttonEl.style.display =\n",
              "        google.colab.kernel.accessAllowed ? 'block' : 'none';\n",
              "\n",
              "      async function convertToInteractive(key) {\n",
              "        const element = document.querySelector('#df-b0db2d6a-86d7-4280-bd01-d02e43c6896d');\n",
              "        const dataTable =\n",
              "          await google.colab.kernel.invokeFunction('convertToInteractive',\n",
              "                                                    [key], {});\n",
              "        if (!dataTable) return;\n",
              "\n",
              "        const docLinkHtml = 'Like what you see? Visit the ' +\n",
              "          '<a target=\"_blank\" href=https://colab.research.google.com/notebooks/data_table.ipynb>data table notebook</a>'\n",
              "          + ' to learn more about interactive tables.';\n",
              "        element.innerHTML = '';\n",
              "        dataTable['output_type'] = 'display_data';\n",
              "        await google.colab.output.renderOutput(dataTable, element);\n",
              "        const docLink = document.createElement('div');\n",
              "        docLink.innerHTML = docLinkHtml;\n",
              "        element.appendChild(docLink);\n",
              "      }\n",
              "    </script>\n",
              "  </div>\n",
              "\n",
              "\n",
              "    </div>\n",
              "  </div>\n"
            ],
            "application/vnd.google.colaboratory.intrinsic+json": {
              "type": "dataframe",
              "variable_name": "df",
              "summary": "{\n  \"name\": \"df\",\n  \"rows\": 21,\n  \"fields\": [\n    {\n      \"column\": \"Unnamed: 0\",\n      \"properties\": {\n        \"dtype\": \"number\",\n        \"std\": 6,\n        \"min\": 0,\n        \"max\": 20,\n        \"num_unique_values\": 21,\n        \"samples\": [\n          0,\n          17,\n          15\n        ],\n        \"semantic_type\": \"\",\n        \"description\": \"\"\n      }\n    },\n    {\n      \"column\": \"text\",\n      \"properties\": {\n        \"dtype\": \"string\",\n        \"num_unique_values\": 21,\n        \"samples\": [\n          \" Police are investigating multiple reports of falling objects striking and damaging vehicles near Toronto's Don Valley Parkway in recent months. The Toronto Police Service (TPS) said it first received reports that two vehicles had been damaged by falling objects in the area of Pottery Road and Broadview Avenue in March. Officers determined that the vehicles had been damaged by \\u201cvarious sizes of metal BBs and glass marbles,\\u201d police said in a release issued Thursday. Police said they do not know where the objects originated from or who may be responsible. Police said they received a third report in July of a vehicle in the same area damaged by falling objects. In that incident, they said an unknown person threw glass, ball bearings and marbles onto vehicles on Pottery Road. \\u201cDrivers, pedestrians, and cyclists in the area are urged to use caution and to be vigilant as police continue to investigate,\\u201d the release states. Investigators asked anyone with information to call 416-808-5500, or contact Crime Stoppers anonymously at 416-222-TIPS (8477) or  \",\n          \" The Office of the Privacy Commissioner of Canada says it\\u2019s opened an investigation into allegations that some Loblaw customers have been unable to delete their PC Optimum accounts. Spokesman Vito Pilieci said in an email that the office has received several such complaints. He said the office can\\u2019t comment further due to the active investigation. Loblaw spokeswoman Catherine Thomas said in an email that the company has processes to respond to account deletion requests in a timely manner, and that it will fully co-operate with the privacy commissioner's office. The Office of the Privacy Commissioner oversees compliance with the Personal Information Protection and Electronic Documents Act as well as the Privacy Act. According to Loblaw's 2023 annual report, the PC Optimum loyalty program has more than 16 million active users. \",\n          \" The Canadian Olympic Committee says women's soccer assistant coach Jasmine Mander and Canada Soccer analyst Joseph Lombardi have been removed from the Canadian Olympic team and sent home after two drone incidents at the Paris Games. The COC also says it has accepted the decision of head coach Bev Priestman to remove herself from coaching the team's opening game against New Zealand on Thursday. The committee statement comes after a review of a drone incident in Saint-Etienne, France on Monday and a second drone incident at a New Zealand practice last Friday. The COC also says that Canada Soccer staff will undergo mandatory ethics training. Priestman and three players are expected to hold a media availability at the end of their afternoon training session in Saint-Etienne. The Canadian women's soccer team won Olympic gold three years ago in Tokyo. More coming. \"\n        ],\n        \"semantic_type\": \"\",\n        \"description\": \"\"\n      }\n    },\n    {\n      \"column\": \"text_length\",\n      \"properties\": {\n        \"dtype\": \"number\",\n        \"std\": 3975,\n        \"min\": 709,\n        \"max\": 18999,\n        \"num_unique_values\": 21,\n        \"samples\": [\n          1062,\n          837,\n          872\n        ],\n        \"semantic_type\": \"\",\n        \"description\": \"\"\n      }\n    },\n    {\n      \"column\": \"total_word\",\n      \"properties\": {\n        \"dtype\": \"number\",\n        \"std\": 644,\n        \"min\": 113,\n        \"max\": 3070,\n        \"num_unique_values\": 21,\n        \"samples\": [\n          170,\n          130,\n          141\n        ],\n        \"semantic_type\": \"\",\n        \"description\": \"\"\n      }\n    },\n    {\n      \"column\": \"summary\",\n      \"properties\": {\n        \"dtype\": \"string\",\n        \"num_unique_values\": 21,\n        \"samples\": [\n          \" Police are investigating multiple reports of falling objects striking and damaging vehicles near Toronto's Don Valley Parkway . The Toronto Police Service said it first received reports that two vehicles had been damaged by falling objects in March . Police said they do\",\n          \" The Office of the Privacy Commissioner of Canada says it\\u2019s opened an investigation into allegations that some Loblaw customers have been unable to delete their PC Optimum accounts .\",\n          \" Jasmine Mander and Joseph Lombardi have been removed from the Canadian Olympic team . Canada Soccer staff will undergo mandatory ethics training . Head coach Bev Priestman has removed herself from coaching\"\n        ],\n        \"semantic_type\": \"\",\n        \"description\": \"\"\n      }\n    },\n    {\n      \"column\": \"min_word\",\n      \"properties\": {\n        \"dtype\": \"number\",\n        \"std\": 161,\n        \"min\": 23,\n        \"max\": 762,\n        \"num_unique_values\": 21,\n        \"samples\": [\n          37,\n          27,\n          30\n        ],\n        \"semantic_type\": \"\",\n        \"description\": \"\"\n      }\n    },\n    {\n      \"column\": \"max_word\",\n      \"properties\": {\n        \"dtype\": \"number\",\n        \"std\": 161,\n        \"min\": 33,\n        \"max\": 772,\n        \"num_unique_values\": 21,\n        \"samples\": [\n          47,\n          37,\n          40\n        ],\n        \"semantic_type\": \"\",\n        \"description\": \"\"\n      }\n    },\n    {\n      \"column\": \"source\",\n      \"properties\": {\n        \"dtype\": \"category\",\n        \"num_unique_values\": 1,\n        \"samples\": [\n          \"cp24\"\n        ],\n        \"semantic_type\": \"\",\n        \"description\": \"\"\n      }\n    },\n    {\n      \"column\": \"url\",\n      \"properties\": {\n        \"dtype\": \"string\",\n        \"num_unique_values\": 21,\n        \"samples\": [\n          \"https://www.cp24.com/news/police-investigation-reports-of-falling-objects-damaging-vehicles-near-the-don-valley-parkway-1.6969051\"\n        ],\n        \"semantic_type\": \"\",\n        \"description\": \"\"\n      }\n    },\n    {\n      \"column\": \"type\",\n      \"properties\": {\n        \"dtype\": \"category\",\n        \"num_unique_values\": 1,\n        \"samples\": [\n          \"news\"\n        ],\n        \"semantic_type\": \"\",\n        \"description\": \"\"\n      }\n    },\n    {\n      \"column\": \"model_used\",\n      \"properties\": {\n        \"dtype\": \"category\",\n        \"num_unique_values\": 2,\n        \"samples\": [\n          \"allenai\"\n        ],\n        \"semantic_type\": \"\",\n        \"description\": \"\"\n      }\n    }\n  ]\n}"
            }
          },
          "metadata": {},
          "execution_count": 89
        }
      ]
    },
    {
      "cell_type": "code",
      "source": [
        "\n",
        "# Combine texts and summaries for vocabulary creation\n",
        "textSummaryCombined = list(df['text']) + list(df['summary'])\n",
        "\n",
        "#Tokenize the texts\n",
        "def tokenize(text):\n",
        "    text = re.sub(r'[^\\w\\s]', '', text)  # Remove punctuation\n",
        "    return text.lower().split()\n",
        "\n",
        "#Count token frequencies\n",
        "token_counter = Counter(itertools.chain(*map(tokenize, textSummaryCombined)))\n",
        "\n",
        "#Create the vocabulary with special tokens\n",
        "special_tokens = [\"<PAD>\", \"<UNK>\"]\n",
        "most_common_tokens = [token for token, _ in token_counter.most_common()]\n",
        "vocab = {token: idx for idx, token in enumerate(special_tokens + most_common_tokens)}\n",
        "\n",
        "# Optionally limit the vocabulary size\n",
        "vocab_size = 10000  # or any desired size\n",
        "if len(vocab) > vocab_size:\n",
        "    vocab = {k: v for k, v in itertools.islice(vocab.items(), vocab_size)}\n",
        "\n",
        "# Display the vocabulary. vocab = word : ID\n",
        "print(vocab)\n"
      ],
      "metadata": {
        "colab": {
          "base_uri": "https://localhost:8080/"
        },
        "id": "minpoUdvNPSP",
        "outputId": "79aa63c7-d48a-464b-a74f-9b9752c108e8"
      },
      "execution_count": 137,
      "outputs": [
        {
          "output_type": "stream",
          "name": "stdout",
          "text": [
            "{'<PAD>': 0, '<UNK>': 1, 'alert': 2, 'the': 3, 'to': 4, 'a': 5, 'in': 6, 'of': 7, 'and': 8, 'was': 9, 'said': 10, 'on': 11, 'for': 12, 'that': 13, 'is': 14, 'police': 15, 'at': 16, 'are': 17, 'with': 18, 'he': 19, 'has': 20, 'it': 21, 'as': 22, 'be': 23, 'i': 24, 'after': 25, 'from': 26, 'were': 27, 'toronto': 28, 'have': 29, 'they': 30, 'who': 31, 'an': 32, 'by': 33, 'been': 34, 'not': 35, 'she': 36, 'his': 37, 'canada': 38, 'this': 39, 'but': 40, 'news': 41, 'more': 42, 'will': 43, 'if': 44, 'its': 45, 'two': 46, 'ctv': 47, 'their': 48, 'her': 49, 'we': 50, 'about': 51, 'one': 52, 'tuesday': 53, 'just': 54, 'man': 55, 'says': 56, 'canadian': 57, 'you': 58, 'or': 59, 'people': 60, 'being': 61, 'harris': 62, 'so': 63, 'time': 64, 'up': 65, 'when': 66, 'city': 67, 'charges': 68, 'say': 69, 'bank': 70, 'cuts': 71, 'interest': 72, 'rate': 73, 'inflation': 74, 'near': 75, 'there': 76, 'also': 77, 'work': 78, 'traffic': 79, 'first': 80, 'area': 81, 'new': 82, 'get': 83, 'suspect': 84, 'day': 85, 'dead': 86, 'perron': 87, 'had': 88, 'since': 89, 'all': 90, 'second': 91, 'airport': 92, 'may': 93, 'over': 94, 'my': 95, 'which': 96, 'off': 97, 'law': 98, 'no': 99, 'during': 100, 'president': 101, 'incident': 102, 'investigators': 103, 'home': 104, 'last': 105, 'how': 106, 'out': 107, 'any': 108, 'gardiner': 109, 'expressway': 110, 'jasper': 111, 'plane': 112, 'issued': 113, 'looking': 114, 'could': 115, 'what': 116, 'against': 117, 'can': 118, 'coming': 119, 'wednesday': 120, 'come': 121, 'trump': 122, 'olympic': 123, 'where': 124, 'july': 125, 'person': 126, 'three': 127, 'him': 128, 'found': 129, 'facing': 130, 'now': 131, 'hospital': 132, 'while': 133, 'night': 134, 'into': 135, 'wildfire': 136, 'ticket': 137, 'years': 138, 'because': 139, 'suicide': 140, 'some': 141, 'company': 142, 'policy': 143, 'ontario': 144, 'right': 145, 'before': 146, 'reynolds': 147, 'scene': 148, '2024': 149, 'calgary': 150, 'money': 151, 'year': 152, 'most': 153, 'online': 154, 'life': 155, 'than': 156, 'later': 157, 'safety': 158, 'between': 159, 'actor': 160, 'movie': 161, 'east': 162, 'wisconsin': 163, 'days': 164, 'signals': 165, 'keeps': 166, 'dropping': 167, 'crash': 168, 'investigation': 169, 'know': 170, 'information': 171, 'make': 172, 'part': 173, 'going': 174, 'former': 175, 'websites': 176, 'act': 177, 'called': 178, 'companies': 179, 'according': 180, 'left': 181, 'believe': 182, 'identified': 183, 'jackman': 184, 'other': 185, 'back': 186, 'well': 187, 'injuries': 188, 'monday': 189, 'residents': 190, 'evacuees': 191, 'hours': 192, 'body': 193, 'decreased': 194, 'consecutive': 195, 'signalled': 196, 'continues': 197, 'ease': 198, 'crashed': 199, 'still': 200, 'kathmandu': 201, 'road': 202, 'avenue': 203, 'house': 204, 'dont': 205, 'im': 206, 'local': 207, 'down': 208, 'see': 209, 'died': 210, 'ordered': 211, 'got': 212, 'week': 213, 'four': 214, 'would': 215, 'allegedly': 216, 'counts': 217, 'am': 218, 'additional': 219, 'north': 220, 'street': 221, 'wolverine': 222, 'set': 223, 'evening': 224, 'red': 225, 'injured': 226, 'state': 227, 'case': 228, 'million': 229, 'national': 230, 'fall': 231, 'these': 232, 'park': 233, 'province': 234, 'help': 235, 'ottawa': 236, 'yang': 237, 'hamilton': 238, 'games': 239, 'following': 240, 'fire': 241, 'investigating': 242, 'vehicles': 243, 'service': 244, 'release': 245, 'contact': 246, 'cancer': 247, 'bike': 248, 'very': 249, 'shes': 250, 'thats': 251, 'zealand': 252, 'vulnerable': 253, 'plunket': 254, 'took': 255, 'theres': 256, 'health': 257, 'due': 258, 'clothing': 259, 'york': 260, 'did': 261, 'morning': 262, 'old': 263, 'added': 264, '24': 265, 'released': 266, 'video': 267, 'provinces': 268, 'serious': 269, 'shooting': 270, 'sexual': 271, 'assault': 272, 'republican': 273, 'campaign': 274, 'officials': 275, 'including': 276, 'nygard': 277, 'us': 278, 'edmonton': 279, 'vancouver': 280, 'done': 281, 'breaking': 282, 'team': 283, 'commissioner': 284, 'pilot': 285, 'plan': 286, 'others': 287, 'nepal': 288, 'reports': 289, 'falling': 290, 'objects': 291, 'received': 292, 'do': 293, 'report': 294, 'use': 295, 'anyone': 296, 'woman': 297, 'stolen': 298, 'doedens': 299, 'several': 300, 'ago': 301, 'told': 302, 'didnt': 303, 'light': 304, 'way': 305, 'taken': 306, 'outside': 307, 'someone': 308, 'through': 309, 'made': 310, 'party': 311, 'laws': 312, 'sent': 313, 'government': 314, 'streets': 315, 'without': 316, 'alleged': 317, 'order': 318, 'stabbing': 319, 'sunday': 320, 'pm': 321, 'special': 322, 'exclusive': 323, 'came': 324, 'here': 325, 'remembered': 326, 'deadpool': 327, 'go': 328, 'ont': 329, 'cp24': 330, 'collision': 331, 'lanes': 332, 'highway': 333, 'seen': 334, 'described': 335, 'them': 336, 'details': 337, 'death': 338, 'vice': 339, 'support': 340, 'democratic': 341, 'general': 342, 'sentencing': 343, 'expected': 344, 'forecast': 345, 'almanac': 346, 'conditions': 347, 'thirdparty': 348, 'search': 349, 'latest': 350, 'six': 351, 'saskatoon': 352, 'pay': 353, 'your': 354, 'citys': 355, 'apartment': 356, 'removed': 357, 'closures': 358, 'soccer': 359, 'international': 360, 'severe': 361, 'aboard': 362, 'large': 363, 'bc': 364, 'privacy': 365, 'office': 366, 'benson': 367, 'multiple': 368, 'recent': 369, 'months': 370, 'officers': 371, 'asked': 372, 'crime': 373, 'used': 374, 'find': 375, 'heart': 376, 'event': 377, 'those': 378, 'speaking': 379, 'brother': 380, 'me': 381, 'interview': 382, 'own': 383, 'suffered': 384, 'june': 385, 'our': 386, 'immediately': 387, 'cases': 388, 'forum': 389, 'parliament': 390, 'young': 391, 'minister': 392, 'store': 393, 'located': 394, 'further': 395, 'court': 396, 'victim': 397, 'lifethreatening': 398, 'parking': 399, 'australian': 400, 'shared': 401, 'tell': 402, 'saw': 403, 'again': 404, 'london': 405, 'put': 406, 'photos': 407, 'emergency': 408, 'westbound': 409, 'firearm': 410, 'transported': 411, 'led': 412, 'resident': 413, 'ap': 414, 'donald': 415, 'election': 416, 'democrats': 417, '100': 418, 'afternoon': 419, 'charged': 420, 'sex': 421, 'farmers': 422, 'leaving': 423, 'kitchener': 424, 'regina': 425, 'windsor': 426, 'plaza': 427, 'construction': 428, 'wanted': 429, 'drone': 430, 'twovehicle': 431, 'evacuation': 432, 'authorities': 433, 'paris': 434, 'nepals': 435, 'capital': 436, 'killing': 437, 'gifts': 438, 'amazon': 439, 'thunderstorm': 440, 'watch': 441, 'smoke': 442, 'training': 443, '2021': 444, 'otoole': 445, 'complete': 446, 'april': 447, 'valley': 448, 'damaged': 449, 'vehicle': 450, 'unknown': 451, 'caution': 452, 'states': 453, 'loss': 454, 'keep': 455, 'ride': 456, 'cost': 457, 'prince': 458, 'good': 459, '200': 460, 'ive': 461, 'far': 462, 'next': 463, 'accused': 464, 'hes': 465, 'james': 466, 'package': 467, 'dark': 468, 'bad': 469, 'making': 470, 'products': 471, 'confirmed': 472, 'connected': 473, 'weeks': 474, 'accounts': 475, 'stores': 476, 'caught': 477, 'family': 478, 'should': 479, 'downtown': 480, 'friday': 481, 'theft': 482, 'lewis': 483, '12': 484, 'residence': 485, '81yearold': 486, 'inside': 487, 'adding': 488, 'hugh': 489, 'fans': 490, 'lot': 491, 'west': 492, 'journey': 493, 'began': 494, 'freeway': 495, 'along': 496, 'kind': 497, 'air': 498, 'blue': 499, '23': 500, 'driver': 501, 'closed': 502, 'camera': 503, 'officer': 504, 'having': 505, 'few': 506, 'gun': 507, 'kamala': 508, 'opened': 509, 'public': 510, 'future': 511, 'ahead': 512, 'milwaukee': 513, 'biden': 514, 'dropped': 515, 'reelection': 516, 'bidens': 517, 'until': 518, 'attorney': 519, 'convicted': 520, 'stage': 521, 'women': 522, 'process': 523, '21': 524, 'quickly': 525, 'border': 526, 'reporters': 527, 'brian': 528, 'issues': 529, 'press': 530, 'fashion': 531, 'guilty': 532, 'count': 533, 'forcible': 534, 'confinement': 535, 'allegations': 536, 'manitoba': 537, 'quebec': 538, 'winnipeg': 539, 'finding': 540, 'season': 541, 'chilly': 542, 'island': 543, 'weather': 544, 'trapped': 545, 'feeling': 546, 'relieved': 547, 'town': 548, 'wildfires': 549, 'prairie': 550, 'payments': 551, 'ctvnewsca': 552, 'montreal': 553, 'newfoundland': 554, 'shopping': 555, 'trends': 556, 'payment': 557, 'date': 558, 'however': 559, '2': 560, 'ontarios': 561, 'coach': 562, 'committee': 563, 'opening': 564, 'summer': 565, 'scheme': 566, 'leave': 567, 'stunning': 568, 'security': 569, '18': 570, 'prime': 571, 'deals': 572, 'best': 573, 'month': 574, 'worker': 575, 'board': 576, 'surrey': 577, 'dundas': 578, 'boulevard': 579, 'deceased': 580, 'email': 581, 'airlines': 582, 'khadka': 583, 'tribhuvan': 584, '2015': 585, 'able': 586, 'number': 587, 'rehabilitation': 588, 'stretch': 589, 'sarkaria': 590, 'chow': 591, 'times': 592, 'busy': 593, 'stages': 594, 'shots': 595, 'don': 596, 'drivers': 597, 'continue': 598, 'stoppers': 599, 'anonymously': 600, '416222tips': 601, '8477': 602, 'research': 603, 'weekend': 604, 'returned': 605, 'items': 606, 'either': 607, 'thought': 608, 'much': 609, '10000': 610, 'long': 611, 'doing': 612, 'show': 613, 'hopes': 614, 'sean': 615, 'fatal': 616, 'questions': 617, 'why': 618, 'idea': 619, 'access': 620, 'hiding': 621, 'moment': 622, 'needed': 623, 'take': 624, 'kenneth': 625, 'associated': 626, 'loved': 627, 'site': 628, 'hosted': 629, 'arrested': 630, 'once': 631, 'action': 632, 'selling': 633, 'currently': 634, 'ban': 635, 'harms': 636, 'hill': 637, 'certain': 638, 'content': 639, 'canadians': 640, 'moved': 641, 'responsibility': 642, 'communities': 643, 'safe': 644, 'sure': 645, 'using': 646, 'marketplace': 647, 'peter': 648, 'queen': 649, 'womens': 650, 'paying': 651, 'worth': 652, '5000': 653, 'scheduled': 654, '80s': 655, 'drive': 656, 'knife': 657, 'arrived': 658, 'pronounced': 659, 'place': 660, 'jackmans': 661, 'etalk': 662, 'front': 663, 'gathered': 664, 'true': 665, 'story': 666, 'driving': 667, 'october': 668, 'character': 669, 'film': 670, 'thing': 671, 'key': 672, 'treated': 673, 'remember': 674, 'end': 675, 'enough': 676, 'premiere': 677, 'met': 678, 'current': 679, 'cant': 680, 'costume': 681, 'sense': 682, 'struck': 683, 'crews': 684, 'jameson': 685, 'avenues': 686, 'photo': 687, 'committing': 688, 'indecent': 689, 'woodycrest': 690, 'occurred': 691, 'carlton': 692, 'around': 693, 'condition': 694, 'unclear': 695, 'unit': 696, 'initially': 697, 'then': 698, 'freedom': 699, 'chaos': 700, 'every': 701, 'joe': 702, 'jumped': 703, 'among': 704, 'november': 705, 'pulled': 706, 'picked': 707, 'political': 708, 'leaders': 709, 'pennsylvania': 710, 'contrast': 711, '27': 712, 'seeking': 713, 'criminal': 714, 'forward': 715, 'herself': 716, 'policies': 717, 'frequently': 718, 'possible': 719, 'running': 720, 'candidate': 721, 'look': 722, 'turned': 723, 'conference': 724, 'school': 725, 'hearing': 726, 'today': 727, 'delayed': 728, 'nygards': 729, 'defence': 730, 'trafficking': 731, 'temperatures': 732, 'predicts': 733, 'evacuate': 734, 'many': 735, 'gridlock': 736, 'dealing': 737, 'centres': 738, 'grande': 739, '20': 740, 'urges': 741, 'main': 742, 'live': 743, 'atlantic': 744, 'barrie': 745, 'kingston': 746, 'labrador': 747, 'northern': 748, 'app': 749, 'something': 750, 'china': 751, 'website': 752, 'want': 753, 'early': 754, 'only': 755, 'full': 756, 'relief': 757, 'car': 758, 'top': 759, 'battle': 760, 'completed': 761, 'prompting': 762, 'french': 763, 'olympics': 764, 'centre': 765, 'thousands': 766, 'shell': 767, 'revealed': 768, 'raising': 769, 'lone': 770, 'survivor': 771, 'read': 772, '15': 773, 'kids': 774, '50': 775, 'development': 776, 'presence': 777, 'form': 778, 'county': 779, 'killed': 780, 'thomas': 781, 'stabbed': 782, 'medical': 783, 'provincial': 784, 'human': 785, 'rcmp': 786, 'transportation': 787, 'forced': 788, 'manager': 789, 'increased': 790, 'saskatchewan': 791, 'stay': 792, 'avonsyde': 793, 'ram': 794, 'joseph': 795, 'priestman': 796, 'saurya': 797, 'copilot': 798, 'aviation': 799, 'bodies': 800, 'bombardier': 801, 'crj': 802, 'passengers': 803, 'airline': 804, 'eyes': 805, 'doctor': 806, 'surrounded': 807, 'pilots': 808, 'runway': 809, 'loblaw': 810, 'unable': 811, 'pc': 812, 'optimum': 813, 'individuals': 814, 'canadawide': 815, 'warrant': 816, 'himself': 817, '73': 818, 'speed': 819, 'dufferin': 820, 'strachan': 821, '247': 822, 'contractors': 823, 'lane': 824, 'noise': 825, 'crumbling': 826, 'commute': 827, 'each': 828, 'ensure': 829, 'significant': 830, 'fired': 831, 'appears': 832, 'victims': 833, 'striking': 834, 'damaging': 835, 'torontos': 836, 'parkway': 837, 'tps': 838, 'pottery': 839, 'march': 840, 'glass': 841, 'marbles': 842, 'thursday': 843, 'responsible': 844, 'same': 845, 'onto': 846, 'urged': 847, 'investigate': 848, '4168085500': 849, 'bicycle': 850, 'raise': 851, 'monica': 852, 'saturday': 853, 'lock': 854, 'door': 855, 'broken': 856, 'ransacked': 857, 'hardest': 858, 'accept': 859, 'pinarello': 860, 'purchased': 861, 'expensive': 862, 'really': 863, 'think': 864, 'decided': 865, 'custommade': 866, 'replace': 867, 'doesnt': 868, 'yet': 869, 'insurance': 870, 'feels': 871, 'stem': 872, '17': 873, 'raised': 874, 'reach': 875, 'stats': 876, '3000': 877, 'bikes': 878, 'residences': 879, 'nearly': 880, 'ordering': 881, 'easy': 882, 'shocked': 883, 'easily': 884, 'tough': 885, 'internet': 886, 'ecommerce': 887, 'platforms': 888, 'necessarily': 889, 'web': 890, 'plain': 891, 'bloody': 892, 'sight': 893, 'protection': 894, 'advantage': 895, 'rather': 896, 'deaths': 897, 'personal': 898, 'whose': 899, '2022': 900, 'room': 901, 'business': 902, 'least': 903, 'shopify': 904, '2023': 905, 'spokesperson': 906, 'notified': 907, 'firstdegree': 908, 'murder': 909, 'aiding': 910, 'abetting': 911, '14': 912, 'denied': 913, 'lawyer': 914, 'promoted': 915, 'discussion': 916, 'naming': 917, 'tool': 918, 'reading': 919, 'prohibit': 920, 'offering': 921, 'encourage': 922, 'die': 923, 'operators': 924, 'care': 925, 'speech': 926, 'necessary': 927, 'standards': 928, 'sarah': 929, 'kennell': 930, 'big': 931, 'tech': 932, 'role': 933, 'especially': 934, 'members': 935, 'provider': 936, 'literally': 937, 'stealing': 938, '60000': 939, 'entered': 940, 'recovered': 941, '6338': 942, 'arrest': 943, 'michael': 944, '42': 945, 'under': 946, '10': 947, 'tested': 948, 'ulrike': 949, 'miller': 950, 'signs': 951, 'learned': 952, 'both': 953, 'identify': 954, 'homicide': 955, 'suspects': 956, 'relationship': 957, 'dozens': 958, '299': 959, 'audience': 960, 'shouts': 961, 'theyve': 962, 'flowers': 963, 'words': 964, 'ryan': 965, 'director': 966, 'characters': 967, 'enter': 968, 'marvel': 969, 'friendship': 970, 'partnership': 971, 'ask': 972, 'supporting': 973, 'love': 974, 'shot': 975, 'ever': 976, 'lucky': 977, 'guys': 978, 'id': 979, 'attended': 980, 'carpet': 981, 'essential': 982, 'mothership': 983, 'writers': 984, 'portrayed': 985, 'always': 986, 'great': 987, 'writer': 988, 'proud': 989, 'hope': 990, 'youre': 991, 'excited': 992, 'yellow': 993, 'losing': 994, 'soon': 995, 'actually': 996, 'media': 997, 'pedestrian': 998, 'shortly': 999, '6': 1000, '30s': 1001, 'paramedics': 1002, 'spadina': 1003, 'mortimer': 1004, 'suspicious': 1005, 'twice': 1006, '55': 1007, 'build': 1008, 'hair': 1009, 'white': 1010, 'above': 1011, 'witnesses': 1012, '714': 1013, 'armed': 1014, 'discharged': 1015, 'potentially': 1016, 'siu': 1017, 'allis': 1018, 'roaring': 1019, 'crowd': 1020, 'voters': 1021, 'greeted': 1022, 'declaring': 1023, 'novembers': 1024, 'choice': 1025, 'promise': 1026, 'proudly': 1027, 'record': 1028, 'opportunity': 1029, 'locked': 1030, 'nomination': 1031, 'delegates': 1032, 'bid': 1033, 'rally': 1034, 'race': 1035, 'endorsement': 1036, 'reflected': 1037, 'vibrancy': 1038, 'lacking': 1039, 'intent': 1040, 'projecting': 1041, 'steady': 1042, 'confidence': 1043, 'donations': 1044, 'backing': 1045, 'groups': 1046, 'congressional': 1047, 'charles': 1048, 'schumer': 1049, 'presidential': 1050, 'visit': 1051, 'comes': 1052, 'trying': 1053, 'debate': 1054, 'sen': 1055, 'baldwin': 1056, 'spoke': 1057, 'draw': 1058, 'prepared': 1059, 'lemonade': 1060, 'trumps': 1061, 'fight': 1062, 'barack': 1063, 'swift': 1064, 'past': 1065, 'walter': 1066, 'whole': 1067, 'focus': 1068, 'change': 1069, 'plans': 1070, 'suggested': 1071, 'washington': 1072, 'josh': 1073, 'chairman': 1074, 'another': 1075, 'country': 1076, 'reported': 1077, 'mogul': 1078, 'previous': 1079, 'lawyers': 1080, 'greenspan': 1081, 'megan': 1082, 'acquitted': 1083, 'fifth': 1084, 'charge': 1085, 'dating': 1086, 'united': 1087, 'trial': 1088, 'extradition': 1089, 'review': 1090, 'published': 1091, 'frosty': 1092, 'begins': 1093, 'sept': 1094, 'kick': 1095, 'coasttocoast': 1096, 'rainfall': 1097, 'skew': 1098, 'bring': 1099, 'higher': 1100, 'nova': 1101, 'scotia': 1102, 'halloween': 1103, 'clear': 1104, 'british': 1105, 'columbia': 1106, 'directed': 1107, 'wide': 1108, 'uturn': 1109, 'reception': 1110, 'affect': 1111, 'queens': 1112, 'consumer': 1113, 'programs': 1114, 'guelph': 1115, 'lethbridge': 1116, 'albert': 1117, 'deer': 1118, 'black': 1119, 'beauty': 1120, 'speeding': 1121, 'careful': 1122, 'richmond': 1123, 'google': 1124, 'travel': 1125, 'fee': 1126, 'paid': 1127, 'services': 1128, 'directly': 1129, 'tickets': 1130, 'requests': 1131, 'such': 1132, 'owner': 1133, 'stories': 1134, 'wants': 1135, 'hid': 1136, 'eastend': 1137, 'heres': 1138, 'prompts': 1139, 'evacuations': 1140, 'analyst': 1141, 'assistant': 1142, 'plots': 1143, 'disrupt': 1144, 'ceremony': 1145, 'pyramid': 1146, 'foreign': 1147, 'governments': 1148, 'hundreds': 1149, 'bangladesh': 1150, 'sri': 1151, 'lanka': 1152, 'lost': 1153, 'savings': 1154, 'headquartered': 1155, 'ijf': 1156, 'shines': 1157, 'registries': 1158, 'pull': 1159, 'reveals': 1160, 'enforcement': 1161, 'homeland': 1162, 'failures': 1163, 'assassination': 1164, 'embattled': 1165, 'secret': 1166, '2034': 1167, 'winter': 1168, 'lake': 1169, 'taking': 1170, 'injuring': 1171, 'youll': 1172, 'snag': 1173, 'yourself': 1174, 'reviewers': 1175, 'almost': 1176, 'effect': 1177, 'environment': 1178, 'townhouse': 1179, 'bought': 1180, 'surrounding': 1181, 'greenspace': 1182, 'destroyed': 1183, 'rain': 1184, 'within': 1185, 'hour': 1186, 'confrontation': 1187, 'demonstrators': 1188, 'rare': 1189, 'drug': 1190, 'brantfordbrant': 1191, '11yearold': 1192, 'st': 1193, 'caused': 1194, 'ends': 1195, 'matthews': 1196, 'financial': 1197, 'across': 1198, 'simcoe': 1199, 'midland': 1200, 'atv': 1201, 'ramara': 1202, 'elementary': 1203, 'thompson': 1204, 'flames': 1205, 'ring': 1206, 'child': 1207, 'petitcodiac': 1208, 'nb': 1209, 'boys': 1210, 'missing': 1211, 'lower': 1212, 'sackville': 1213, 'refinery': 1214, 'flash': 1215, 'explosion': 1216, 'seven': 1217, 'boat': 1218, 'crew': 1219, 'stan': 1220, 'bowman': 1221, 'oilers': 1222, 'announced': 1223, 'premier': 1224, 'system': 1225, 'sunnyside': 1226, 'ctrain': 1227, 'station': 1228, 'quality': 1229, 'advisory': 1230, 'alida': 1231, 'sask': 1232, 'limiting': 1233, 'outdoors': 1234, 'raining': 1235, 'couple': 1236, 'perpetrator': 1237, 'newton': 1238, 'showed': 1239, 'terms': 1240, 'burlington': 1241, '11': 1242, 'dodge': 1243, 'occupants': 1244, 'toyota': 1245, 'reconstruction': 1246, 'hamiltonpolice': 1247, 'minutes': 1248, 'jasmine': 1249, 'mander': 1250, 'lombardi': 1251, 'coc': 1252, 'head': 1253, 'bev': 1254, 'coaching': 1255, 'statement': 1256, 'saintetienne': 1257, 'france': 1258, 'staff': 1259, 'undergo': 1260, 'mandatory': 1261, 'ethics': 1262, 'flight': 1263, 'nepali': 1264, 'except': 1265, 'passenger': 1266, 'yemeni': 1267, 'civil': 1268, 'authority': 1269, 'heading': 1270, 'secondmost': 1271, 'populous': 1272, 'pokhara': 1273, 'maintenance': 1274, 'mechanics': 1275, 'employees': 1276, 'anonymity': 1277, 'authorized': 1278, 'speak': 1279, 'danger': 1280, '1111': 1281, 'moments': 1282, 'eastern': 1283, 'even': 1284, 'serving': 1285, 'mountains': 1286, 'takeoffs': 1287, 'landings': 1288, 'challenging': 1289, 'grieving': 1290, 'ones': 1291, 'domestic': 1292, '2019': 1293, 'bangladeshi': 1294, 'airliner': 1295, '51': 1296, 'customers': 1297, 'delete': 1298, 'active': 1299, 'rejean': 1300, 'hermel': 1301, '52': 1302, 'indignity': 1303, 'befriended': 1304, 'riverside': 1305, 'neighbourhood': 1306, 'deliberate': 1307, 'steps': 1308, 'hidden': 1309, 'natural': 1310, 'causes': 1311, 'discovered': 1312, 'exploiting': 1313, 'kidnapping': 1314, 'sexually': 1315, 'assaulting': 1316, 'trade': 1317, 'prior': 1318, 'breaching': 1319, 'parole': 1320, 'related': 1321, 'conviction': 1322, 'particular': 1323, 'possibly': 1324, 'bath': 1325, 'giving': 1326, '2027': 1327, 'carry': 1328, '2026': 1329, 'per': 1330, 'measures': 1331, 'pleased': 1332, 'council': 1333, 'started': 1334, 'nightmare': 1335, 'squeezed': 1336, 'direction': 1337, 'estimates': 1338, 'save': 1339, 'economy': 1340, '273': 1341, 'reducing': 1342, 'longterm': 1343, '60yearold': 1344, 'carried': 1345, 'jarvis': 1346, 'cherry': 1347, 'remain': 1348, 'scarborough': 1349, 'ellesmere': 1350, 'exchange': 1351, 'gunfire': 1352, 'weapon': 1353, 'belonged': 1354, 'broadview': 1355, 'determined': 1356, 'various': 1357, 'sizes': 1358, 'metal': 1359, 'bbs': 1360, 'originated': 1361, 'third': 1362, 'threw': 1363, 'ball': 1364, 'bearings': 1365, 'pedestrians': 1366, 'cyclists': 1367, 'vigilant': 1368, 'call': 1369, 'recover': 1370, 'specialized': 1371, 'etobicoke': 1372, 'valuable': 1373, 'stored': 1374, 'basement': 1375, 'feel': 1376, 'drop': 1377, 'garage': 1378, 'shed': 1379, 'deliberately': 1380, 'safest': 1381, 'afford': 1382, 'spend': 1383, 'extra': 1384, 'little': 1385, 'bit': 1386, 'heartbreaking': 1387, 'continued': 1388, 'cover': 1389, 'anymore': 1390, 'maneuverable': 1391, 'cell': 1392, 'researcher': 1393, 'profession': 1394, 'conquer': 1395, 'twoday': 1396, 'km': 1397, 'cycling': 1398, 'inception': 1399, '1986': 1400, 'dear': 1401, '90000': 1402, 'hoping': 1403, '100000': 1404, 'riding': 1405, 'misses': 1406, 'scouring': 1407, 'resale': 1408, 'sites': 1409, 'neighbours': 1410, 'shops': 1411, 'spots': 1412, 'beloved': 1413, 'wheels': 1414, 'hills': 1415, 'handle': 1416, 'breaks': 1417, 'turns': 1418, 'miss': 1419, 'fingers': 1420, 'crossed': 1421, 'product': 1422, 'salesman': 1423, 'shouldnt': 1424, 'dangerous': 1425, 'substances': 1426, 'countrys': 1427, 'regulators': 1428, 'stop': 1429, 'chilling': 1430, 'easier': 1431, 'harder': 1432, 'decisions': 1433, 'become': 1434, 'youve': 1435, 'coroner': 1436, 'plunkets': 1437, 'engineer': 1438, 'chef': 1439, 'lived': 1440, 'mississauga': 1441, 'push': 1442, 'tally': 1443, 'worldwide': 1444, 'sold': 1445, '129': 1446, 'broadcaster': 1447, 'dj': 1448, 'trainer': 1449, 'businesses': 1450, 'marriage': 1451, 'covid19': 1452, 'pandemic': 1453, 'smart': 1454, 'tack': 1455, 'laugh': 1456, '40yearold': 1457, 'hotel': 1458, 'packaging': 1459, 'records': 1460, 'platform': 1461, 'powers': 1462, 'variety': 1463, 'marketplaces': 1464, 'shut': 1465, '1200': 1466, 'packages': 1467, '40': 1468, 'countries': 1469, 'potential': 1470, 'violation': 1471, 'acceptable': 1472, 'reviewed': 1473, 'terminate': 1474, 'pointed': 1475, 'legal': 1476, 'substance': 1477, 'motivating': 1478, 'bill': 1479, 'justice': 1480, 'arif': 1481, 'virani': 1482, 'protect': 1483, 'bullying': 1484, 'hate': 1485, 'terrifies': 1486, 'popular': 1487, 'toys': 1488, 'screens': 1489, 'subject': 1490, 'mental': 1491, 'association': 1492, 'canadas': 1493, 'follow': 1494, 'footsteps': 1495, 'bigger': 1496, 'federal': 1497, 'regulating': 1498, 'consider': 1499, 'means': 1500, 'clients': 1501, 'believes': 1502, 'diligence': 1503, 'harming': 1504, 'retail': 1505, 'progress': 1506, 'masked': 1507, 'selected': 1508, 'quantity': 1509, 'pants': 1510, '55000': 1511, 'failure': 1512, 'comply': 1513, 'probation': 1514, 'appear': 1515, '29': 1516, 'committed': 1517, 'thefts': 1518, '4168081400': 1519, 'cherrystone': 1520, 'cliffwood': 1521, '245': 1522, 'vital': 1523, 'suffering': 1524, 'stab': 1525, 'wounds': 1526, 'altercation': 1527, 'believed': 1528, 'disclosed': 1529, 'motive': 1530, '1999': 1531, 'audition': 1532, '25': 1533, 'shawn': 1534, 'levy': 1535, 'promote': 1536, 'hit': 1537, 'theatres': 1538, 'plays': 1539, 'excitement': 1540, 'cinematic': 1541, 'universe': 1542, 'canadianborn': 1543, 'superheroes': 1544, 'wild': 1545, 'alberta': 1546, 'unrevealed': 1547, 'location': 1548, 'describing': 1549, 'ladies': 1550, 'watching': 1551, 'sunset': 1552, 'friend': 1553, 'spouse': 1554, 'anything': 1555, 'rooting': 1556, 'recalled': 1557, 'meeting': 1558, 'filming': 1559, 'xmen': 1560, 'origins': 1561, '2008': 1562, 'everybody': 1563, 'dignity': 1564, 'class': 1565, 'kindness': 1566, 'walked': 1567, 'went': 1568, 'star': 1569, 'playing': 1570, 'wish': 1571, 'shoot': 1572, 'move': 1573, 'guy': 1574, 'fires': 1575, 'lights': 1576, 'tells': 1577, 'everyone': 1578, 'wardrobe': 1579, 'whats': 1580, 'thinking': 1581, 'shoes': 1582, 'fella': 1583, 'fortunate': 1584, 'impression': 1585, 'quipping': 1586, 'downhill': 1587, 'mostly': 1588, 'tyrone': 1589, 'edwards': 1590, 'stream': 1591, 'crave': 1592, 'trio': 1593, 'scotiabank': 1594, 'theatre': 1595, 'whom': 1596, 'waiting': 1597, 'course': 1598, 'missed': 1599, 'producers': 1600, 'iteration': 1601, '2016': 1602, 'greatest': 1603, 'loves': 1604, 'deadpools': 1605, 'spectacle': 1606, 'surprises': 1607, 'characterbased': 1608, 'separate': 1609, 'dream': 1610, 'meanwhile': 1611, 'praised': 1612, 'costar': 1613, 'saying': 1614, 'ethic': 1615, 'generous': 1616, 'producer': 1617, 'played': 1618, 'mutant': 1619, 'decades': 1620, 'wolverines': 1621, 'iconic': 1622, 'suit': 1623, 'mind': 1624, 'sharing': 1625, 'informed': 1626, 'agreed': 1627, 'yellowandblue': 1628, 'sleep': 1629, 'quipped': 1630, 'steal': 1631, 'divisions': 1632, 'bell': 1633, 'critically': 1634, 'responded': 1635, 'rushed': 1636, 'remained': 1637, 'reopened': 1638, 'pape': 1639, 'responding': 1640, 'porch': 1641, 'captured': 1642, 'peering': 1643, 'walking': 1644, 'northbound': 1645, 'male': 1646, '45': 1647, 'fivefootfive': 1648, 'fivefooteight': 1649, 'medium': 1650, 'short': 1651, 'receding': 1652, 'moustache': 1653, 'thick': 1654, 'bushy': 1655, 'eyebrows': 1656, 'wearing': 1657, 'tshirt': 1658, 'sweatpants': 1659, 'darkcoloured': 1660, 'baseball': 1661, 'cap': 1662, 'nyc': 1663, 'writing': 1664, 'brim': 1665, 'watchdog': 1666, 'seriously': 1667, 'cabbagetown': 1668, 'investigations': 1669, 'invoked': 1670, 'mandate': 1671, 'dinner': 1672, 'heard': 1673, 'loud': 1674, 'bangs': 1675, 'fireworks': 1676, 'looked': 1677, 'like': 1678, 'pointing': 1679, 'somebody': 1680, 'lying': 1681, 'ground': 1682, 'actions': 1683, 'resulted': 1684, 'injury': 1685, 'andor': 1686, 'discharge': 1687, 'battleground': 1688, 'hakeem': 1689, 'jeffries': 1690, 'stopping': 1691, 'putting': 1692, 'marker': 1693, 'wall': 1694, 'michigan': 1695, 'securing': 1696, 'victory': 1697, 'convention': 1698, 'wrapped': 1699, 'works': 1700, 'sharpen': 1701, 'message': 1702, 'gop': 1703, 'nominee': 1704, 'trip': 1705, 'sharp': 1706, 'reassure': 1707, 'wary': 1708, 'troubling': 1709, 'performance': 1710, 'tammy': 1711, 'skipped': 1712, 'leaning': 1713, 'resume': 1714, 'district': 1715, 'california': 1716, 'felony': 1717, 'crimes': 1718, 'meet': 1719, 'professionally': 1720, 'trained': 1721, 'prosecute': 1722, 'unfortunately': 1723, 'republicans': 1724, 'laphonza': 1725, 'butler': 1726, 'dcalif': 1727, 'strode': 1728, 'anthem': 1729, 'beyonces': 1730, 'album': 1731, 'contrasting': 1732, 'perpetrators': 1733, 'kinds': 1734, 'predators': 1735, 'abused': 1736, 'fraudsters': 1737, 'ripped': 1738, 'consumers': 1739, 'cheaters': 1740, 'broke': 1741, 'rules': 1742, 'gain': 1743, 'hear': 1744, 'type': 1745, 'cast': 1746, 'endeavor': 1747, 'aiming': 1748, 'represented': 1749, 'interests': 1750, 'corporations': 1751, 'rivals': 1752, 'antiquated': 1753, 'backward': 1754, 'ill': 1755, 'ours': 1756, 'echoed': 1757, 'obama': 1758, 'deployed': 1759, 'refrain': 1760, '2012': 1761, 'argue': 1762, 'ideas': 1763, 'ascent': 1764, 'required': 1765, 'vet': 1766, 'mates': 1767, 'eric': 1768, 'holder': 1769, 'obamas': 1770, 'presidency': 1771, 'impact': 1772, 'galvanizing': 1773, 'diane': 1774, '68': 1775, 'south': 1776, 'thrilled': 1777, 'democrat': 1778, 'energizing': 1779, 'tevin': 1780, 'humphrey': 1781, 'mother': 1782, 'myeesha': 1783, 'johnson': 1784, '41': 1785, 'figure': 1786, 'better': 1787, 'representative': 1788, 'diversity': 1789, 'asserted': 1790, 'alter': 1791, 'nicknamed': 1792, 'lyin': 1793, 'prosecutor': 1794, 'sought': 1795, 'bind': 1796, 'administrations': 1797, 'seeks': 1798, 'immigration': 1799, 'seems': 1800, 'unhappy': 1801, 'younger': 1802, 'aging': 1803, 'planned': 1804, 'abc': 1805, 'fox': 1806, 'perception': 1807, 'friendlier': 1808, 'husband': 1809, 'doug': 1810, 'emhoff': 1811, 'appearance': 1812, 'unimpressed': 1813, 'attacks': 1814, 'telling': 1815, 'addition': 1816, 'joined': 1817, 'major': 1818, 'elected': 1819, 'gov': 1820, 'tony': 1821, 'evers': 1822, 'kaul': 1823, 'secretary': 1824, 'godlewski': 1825, 'chair': 1826, 'ben': 1827, 'wikler': 1828, 'branded': 1829, 'extreme': 1830, 'liberal': 1831, 'step': 1832, 'swing': 1833, 'favorables': 1834, 'schimming': 1835, 'high': 1836, 'exchanging': 1837, 'notice': 1838, 'stands': 1839, 'boak': 1840, 'scott': 1841, 'bauer': 1842, 'madison': 1843, 'michelle': 1844, 'l': 1845, 'price': 1846, 'contributed': 1847, 'begin': 1848, 'savard': 1849, 'withdraw': 1850, 'earlier': 1851, 'multimilliondollar': 1852, 'empire': 1853, 'faced': 1854, 'challenges': 1855, 'throughout': 1856, 'submissions': 1857, 'nov': 1858, 'relate': 1859, '1980s': 1860, 'mid2000s': 1861, 'assaultrelated': 1862, 'greenspans': 1863, 'resignation': 1864, 'faces': 1865, '2020': 1866, 'nine': 1867, 'racketeering': 1868, 'manitobas': 1869, 'highest': 1870, 'dismissed': 1871, 'application': 1872, 'judicial': 1873, 'reason': 1874, 'interfere': 1875, 'thenjustice': 1876, 'david': 1877, 'lametti': 1878, 'none': 1879, 'newly': 1880, 'periodical': 1881, 'slightly': 1882, 'average': 1883, 'levels': 1884, 'thanksgiving': 1885, 'brunswick': 1886, 'edward': 1887, 'predicted': 1888, 'drier': 1889, 'midoctober': 1890, 'western': 1891, 'precipitation': 1892, 'usual': 1893, 'calling': 1894, 'treat': 1895, 'opposed': 1896, 'trick': 1897, 'generally': 1898, 'dry': 1899, 'arrive': 1900, 'reads': 1901, 'spooky': 1902, 'soggy': 1903, 'late': 1904, 'unsettled': 1905, 'addison': 1906, 'mcneill': 1907, 'felt': 1908, 'stressed': 1909, 'alpine': 1910, 'jaspers': 1911, '4700': 1912, 'exiting': 1913, 'calmly': 1914, 'visitors': 1915, 'despite': 1916, 'hot': 1917, 'smoky': 1918, 'helped': 1919, 'accommodations': 1920, 'leanne': 1921, 'maeva': 1922, 'joyeuse': 1923, 'worried': 1924, 'skip': 1925, 'investigates': 1926, 'toy': 1927, 'mountain': 1928, 'gas': 1929, 'prices': 1930, 'shows': 1931, 'noon': 1932, '1130': 1933, 'social': 1934, 'facebook': 1935, 'twitter': 1936, 'instagram': 1937, 'cities': 1938, 'nanaimo': 1939, 'pembroke': 1940, 'sault': 1941, 'ste': 1942, 'marie': 1943, 'sections': 1944, 'fitness': 1945, 'share': 1946, 'whether': 1947, 'likes': 1948, 'important': 1949, 'xiaoying': 1950, '325': 1951, 'download': 1952, 'alerts': 1953, 'device': 1954, 'updates': 1955, 'inbox': 1956, 'sometimes': 1957, 'googled': 1958, 'departure': 1959, 'processing': 1960, 'total': 1961, '335': 1962, 'credit': 1963, 'card': 1964, 'zang': 1965, 'hadnt': 1966, 'offer': 1967, 'affiliated': 1968, 'accepting': 1969, 'resolutions': 1970, 'advised': 1971, 'cautious': 1972, 'disputes': 1973, 'portal': 1974, 'reached': 1975, 'contracted': 1976, 'claimed': 1977, 'followed': 1978, 'proper': 1979, 'procedures': 1980, 'difficult': 1981, 'contacted': 1982, 'refund': 1983, 'glad': 1984, 'contacting': 1985, 'radar': 1986, 'demerit': 1987, 'points': 1988, 'given': 1989, 'wont': 1990, 'premiums': 1991, 'schedule': 1992, 'leaves': 1993, '1': 1994, '3': 1995, 'expect': 1996, 'foil': 1997, 'foiled': 1998, 'host': 1999, 'salt': 2000, 'awarded': 2001, 'vote': 2002, 'crashes': 2003, 'takeoff': 2004, 'independent': 2005, 'journalists': 2006, 'earn': 2007, 'commission': 2008, 'links': 2009, 'shop': 2010, 'editors': 2011, 'picks': 2012, 'fairly': 2013, 'never': 2014, 'phone': 2015, 'mount': 2016, 'sale': 2017, 'birthday': 2018, 'try': 2019, 'away': 2020, 'already': 2021, '30': 2022, 'cookware': 2023, 'sets': 2024, 'washing': 2025, 'machine': 2026, 'cleaner': 2027, 'tablets': 2028, '5star': 2029, 'reviews': 2030, 'outdoor': 2031, 'rugs': 2032, 'brilliant': 2033, 'too': 2034, '19': 2035, 'foolproof': 2036, 'less': 2037, 'kitchen': 2038, 'goodies': 2039, 'foodie': 2040, 'sunscreen': 2041, 'sensitive': 2042, 'skin': 2043, 'korean': 2044, 'skincare': 2045, 'singing': 2046, 'praises': 2047, 'hunt': 2048, 'retinol': 2049, 'serum': 2050, 'loving': 2051, '70': 2052, 'amazing': 2053, 'discounts': 2054, 'deal': 2055, '23andme': 2056, 'premium': 2057, 'membership': 2058, 'bundle': 2059, 'greater': 2060, 'risk': 2061, 'tornado': 2062, 'climate': 2063, 'eccc': 2064, 'southwestern': 2065, 'homes': 2066, 'group': 2067, 'sainteannedebellevue': 2068, 'living': 2069, 'protected': 2070, 'bulldozers': 2071, 'claim': 2072, 'builder': 2073, 'couldnt': 2074, 'deliver': 2075, 'celine': 2076, 'dion': 2077, 'singer': 2078, 'chance': 2079, 'céline': 2080, 'dions': 2081, 'coincidence': 2082, 'sport': 2083, 'paralympic': 2084, 'amélie': 2085, 'oudéacastéra': 2086, 'favourable': 2087, 'thunderstorms': 2088, 'warning': 2089, 'torrential': 2090, 'downpours': 2091, 'mm': 2092, '65yearold': 2093, 'follows': 2094, 'covering': 2095, 'noor': 2096, 'ayesha': 2097, 'battling': 2098, 'aggressive': 2099, 'pushing': 2100, 'fund': 2101, 'extend': 2102, 'twelve': 2103, 'whooping': 2104, 'cough': 2105, 'brant': 2106, 'pertussis': 2107, 'pleads': 2108, 'impaired': 2109, 'causing': 2110, 'boy': 2111, 'son': 2112, 'aiden': 2113, 'curtis': 2114, 'robbery': 2115, 'witness': 2116, 'oxford': 2117, 'confronted': 2118, 'member': 2119, 'need': 2120, 'skilled': 2121, 'trades': 2122, 'volunteers': 2123, 'sweat': 2124, 'equity': 2125, 'renovations': 2126, 'uwindsor': 2127, 'university': 2128, 'dr': 2129, 'robert': 2130, 'gordon': 2131, 'dog': 2132, 'corner': 2133, 'areas': 2134, 'julias': 2135, 'holding': 2136, 'visitation': 2137, 'ajax': 2138, 'celebration': 2139, 'sometime': 2140, 'sand': 2141, 'banks': 2142, 'twp': 2143, 'township': 2144, 'jeremy': 2145, 'skibicki': 2146, 'serial': 2147, 'killer': 2148, 'goes': 2149, 'gone': 2150, 'harassed': 2151, 'stayed': 2152, 'portage': 2153, 'la': 2154, 'ruined': 2155, 'nothing': 2156, 'destroys': 2157, 'truck': 2158, 'owners': 2159, 'fullservice': 2160, 'regional': 2161, 'trucking': 2162, 'pouring': 2163, 'hourslong': 2164, 'building': 2165, 'ns': 2166, 'nl': 2167, 'operator': 2168, 'violations': 2169, 'plant': 2170, 'abandoned': 2171, '7': 2172, 'determine': 2173, 'fishing': 2174, 'abandon': 2175, 'vessel': 2176, 'liferaft': 2177, 'mercy': 2178, 'waves': 2179, 'wonderful': 2180, '7000': 2181, 'reignition': 2182, 'oncesmouldering': 2183, 'allowed': 2184, 'return': 2185, 'named': 2186, 'chicago': 2187, 'blackhawks': 2188, 'executive': 2189, 'hockey': 2190, 'operations': 2191, 'finetuning': 2192, 'miscommunicated': 2193, 'timing': 2194, 'albertas': 2195, 'changes': 2196, 'incorrect': 2197, 'calgarys': 2198, 'amid': 2199, 'reporting': 2200, 'village': 2201, 'swimmer': 2202, 'happy': 2203, 'represent': 2204, 'parkland': 2205, 'region': 2206, '1800': 2207, 'athletes': 2208, 'coaches': 2209, 'lloydminster': 2210, 'compete': 2211, 'biyearly': 2212, 'affects': 2213, 'daycares': 2214, 'ymca': 2215, 'childcare': 2216, 'ash': 2217, 'flee': 2218, 'teens': 2219, 'robbing': 2220, 'stand': 2221, 'saskatchewans': 2222, 'yearlong': 2223, 'pediatric': 2224, 'gastroenterologist': 2225, 'vacancy': 2226, 'filled': 2227, 'gastrointestinal': 2228, 'getting': 2229, 'specialist': 2230, 'jim': 2231, 'pattison': 2232, 'childrens': 2233, 'english': 2234, 'bay': 2235, 'update': 2236, 'beaches': 2237, 'towns': 2238, 'smalltown': 2239, 'reputation': 2240, 'friendly': 2241, 'culture': 2242, 'jump': 2243, 'crisis': 2244, 'advertise': 2245, 'ads': 2246, 'registry': 2247, 'careers': 2248, 'stox': 2249, 'editorial': 2250, 'accessibility': 2251, 'subscribe': 2252, 'newsletter': 2253, 'power': 2254, 'play': 2255, 'w5': 2256, 'question': 2257, 'period': 2258, 'channel': 2259, 'yorkton': 2260, 'rights': 2261, 'reserved': 2262, 'assumes': 2263, 'acceptance': 2264, '42yearold': 2265, 'collided': 2266, 'sustained': 2267, 'minor': 2268, 'cause': 2269, 'asking': 2270, '9055464753': 2271, 'via': 2272, 'reconunithamiltonpoliceca': 2273, 'blvd': 2274, '1100': 2275, 'remains': 2276, 'directions': 2277, 'anticipated': 2278, 'open': 2279, '90': 2280, 'hamont': 2281, 'cp24andrew': 2282, 'collins': 2283, 'incidents': 2284, 'accepted': 2285, 'decision': 2286, 'remove': 2287, 'teams': 2288, 'game': 2289, 'practice': 2290, 'players': 2291, 'hold': 2292, 'availability': 2293, 'session': 2294, 'won': 2295, 'gold': 2296, 'tokyo': 2297, 'wreckage': 2298, 'official': 2299, 'basanta': 2300, 'rajauri': 2301, 'college': 2302, 'section': 2303, 'huge': 2304, 'kumar': 2305, 'khatri': 2306, 'chetri': 2307, 'parts': 2308, 'barely': 2309, 'meters': 2310, '330': 2311, 'feet': 2312, 'confusion': 2313, 'horrible': 2314, 'explosions': 2315, 'monsoon': 2316, 'visibility': 2317, 'low': 2318, 'houses': 2319, 'neighborhoods': 2320, 'tu': 2321, 'teaching': 2322, 'autopsy': 2323, 'manifest': 2324, 'relatives': 2325, 'forensics': 2326, 'department': 2327, 'collect': 2328, 'though': 2329, 'likely': 2330, 'sasant': 2331, 'katuwal': 2332, 'flying': 2333, 'completing': 2334, 'uncle': 2335, 'dhyan': 2336, 'bahadur': 2337, 'visa': 2338, 'germany': 2339, 'nephew': 2340, 'bright': 2341, 'parents': 2342, 'unmarried': 2343, 'tall': 2344, 'handsome': 2345, 'behaved': 2346, 'flights': 2347, 'operates': 2348, 'routes': 2349, 'survived': 2350, 'misaligned': 2351, 'disoriented': 2352, 'tried': 2353, 'land': 2354, 'sheer': 2355, 'desperation': 2356, 'turkish': 2357, 'jet': 2358, 'landing': 2359, 'dense': 2360, 'fog': 2361, 'skidded': 2362, 'slippery': 2363, 'carrying': 2364, '238': 2365, 'army': 2366, 'personnel': 2367, 'cordon': 2368, 'television': 2369, 'slipped': 2370, 'photosujan': 2371, 'gurung': 2372, 'spokesman': 2373, 'vito': 2374, 'pilieci': 2375, 'complaints': 2376, 'comment': 2377, 'spokeswoman': 2378, 'catherine': 2379, 'processes': 2380, 'respond': 2381, 'account': 2382, 'deletion': 2383, 'timely': 2384, 'manner': 2385, 'fully': 2386, 'cooperate': 2387, 'commissioners': 2388, 'oversees': 2389, 'compliance': 2390, 'electronic': 2391, 'documents': 2392, 'loblaws': 2393, 'annual': 2394, 'loyalty': 2395, 'program': 2396, '16': 2397, 'users': 2398, 'offender': 2399, 'individual': 2400, 'allege': 2401, 'forensically': 2402, 'linked': 2403, 'observed': 2404, 'deceaseds': 2405, 'fob': 2406, 'uttering': 2407, 'threats': 2408, '26': 2409, 'concealed': 2410, '90s': 2411, 'held': 2412, 'five': 2413, 'break': 2414, 'free': 2415, 'run': 2416, 'ritualistic': 2417, 'involved': 2418, 'elaborate': 2419, 'supt': 2420, 'kim': 2421, 'division': 2422, 'sign': 2423, 'deeply': 2424, 'concerned': 2425, 'sustaining': 2426, 'poses': 2427, 'threat': 2428, 'lgbtq2s': 2429, 'community': 2430, 'known': 2431, 'frequent': 2432, 'downtowns': 2433, 'side': 2434, 'spent': 2435, 'chathamkent': 2436, 'fivefoottwo': 2437, 'thin': 2438, 'pockmarked': 2439, 'face': 2440, 'aliases': 2441, 'daniel': 2442, 'christie': 2443, 'kristy': 2444, 'krysty': 2445, 'threeyear': 2446, 'sentence': 2447, 'institution': 2448, 'does': 2449, 'listed': 2450, 'name': 2451, 'tracking': 2452, 'preying': 2453, 'prabmeet': 2454, 'announcement': 2455, 'alongside': 2456, 'mayor': 2457, 'olivia': 2458, 'hall': 2459, 'investment': 2460, 'working': 2461, 'shifts': 2462, 'supported': 2463, 'agreement': 2464, 'improve': 2465, 'flow': 2466, 'include': 2467, 'modification': 2468, 'onramp': 2469, 'turn': 2470, 'shore': 2471, 'relaxing': 2472, 'restrictions': 2473, 'overnight': 2474, 'sakara': 2475, 'accelerate': 2476, 'grateful': 2477, 'rehabilitate': 2478, 'hampered': 2479, 'calls': 2480, 'sped': 2481, 'data': 2482, 'rush': 2483, '250': 2484, 'cent': 2485, 'demolishing': 2486, 'rebuilding': 2487, 'elevated': 2488, 'complex': 2489, 'stuck': 2490, 'frustrating': 2491, 'gets': 2492, 'blood': 2493, 'pressure': 2494, 'closure': 2495, 'apparently': 2496, 'uses': 2497, 'increase': 2498, 'commuting': 2499, '4045': 2500, 'appreciate': 2501, 'kicking': 2502, 'contracts': 2503, 'negotiated': 2504, 'finalized': 2505, 'stepped': 2506, 'finance': 2507, 'acceleration': 2508, 'repair': 2509, 'incentive': 2510, 'structures': 2511, 'onschedule': 2512, 'timelines': 2513, 'theyre': 2514, 'incentivization': 2515, 'project': 2516, 'considerations': 2517, 'spadinafort': 2518, 'councillor': 2519, 'ausma': 2520, 'malik': 2521, 'approach': 2522, 'concerns': 2523, 'thoughtful': 2524, 'testing': 2525, 'noisier': 2526, 'match': 2527, 'needs': 2528, 'commitment': 2529, 'folks': 2530, 'nights': 2531, 'rest': 2532, 'confident': 2533, 'consideration': 2534, 'accelerated': 2535, 'ensuring': 2536, 'addressed': 2537, 'proactive': 2538, 'arent': 2539, 'affected': 2540, 'badly': 2541, 'approximately': 2542, '140000': 2543, 'approved': 2544, '2014': 2545, 'rang': 2546, 'oakley': 2547, '230': 2548, 'det': 2549, 'rod': 2550, 'trauma': 2551, 'confirm': 2552, 'ages': 2553, 'genders': 2554, 'noted': 2555, 'nextofkin': 2556, 'exactly': 2557, 'casings': 2558, 'noting': 2559, '930': 2560, 'forensic': 2561, 'fact': 2562, 'marking': 2563, 'photographed': 2564, 'certainly': 2565, 'point': 2566, 'provide': 2567, 'probably': 2568, 'tomorrow': 2569, 'witnessed': 2570, 'dash': 2571, 'footage': 2572, 'beginning': 2573, 'robust': 2574, 'canvas': 2575, 'searching': 2576, 'expects': 2577, 'doeden': 2578, '81': 2579, 'schatz': 2580}\n"
          ]
        }
      ]
    },
    {
      "cell_type": "code",
      "source": [
        "# Save the vocabulary to a text file\n",
        "vocab_file_path = 'vocab.txt'\n",
        "\n",
        "with open(vocab_file_path, 'w') as f:\n",
        "    for word, idx in vocab.items():\n",
        "        f.write(f\"{word}\\t{idx}\\n\")\n",
        "\n",
        "print(f\"Vocabulary saved to {vocab_file_path}\")\n"
      ],
      "metadata": {
        "colab": {
          "base_uri": "https://localhost:8080/"
        },
        "id": "3u2sWi_ZOtJ4",
        "outputId": "3db54234-5e04-47a4-8774-9435763c9e7c"
      },
      "execution_count": 138,
      "outputs": [
        {
          "output_type": "stream",
          "name": "stdout",
          "text": [
            "Vocabulary saved to vocab.txt\n"
          ]
        }
      ]
    },
    {
      "cell_type": "code",
      "source": [
        "\n",
        "\n",
        "class TransformerBlock(nn.Module):\n",
        "    def __init__(self, embed_size, heads, dropout):\n",
        "        super(TransformerBlock, self).__init__()\n",
        "        self.attention = nn.MultiheadAttention(embed_size, heads)\n",
        "        self.norm1 = nn.LayerNorm(embed_size)\n",
        "        self.norm2 = nn.LayerNorm(embed_size)\n",
        "        self.ff = nn.Sequential(\n",
        "            nn.Linear(embed_size, embed_size * 4),\n",
        "            nn.ReLU(),\n",
        "            nn.Linear(embed_size * 4, embed_size)\n",
        "        )\n",
        "        self.dropout = nn.Dropout(dropout)\n",
        "\n",
        "    def forward(self, x):\n",
        "        attn_output, _ = self.attention(x, x, x)\n",
        "        x = self.norm1(attn_output + x)\n",
        "        ff_output = self.ff(x)\n",
        "        out = self.norm2(ff_output + x)\n",
        "        return out\n",
        "\n",
        "class SummarizerModel(nn.Module):\n",
        "    def __init__(self, embed_size, heads, num_layers, vocab_size, max_len, dropout):\n",
        "        super(SummarizerModel, self).__init__()\n",
        "        self.embed = nn.Embedding(vocab_size, embed_size)\n",
        "        self.pos_embedding = nn.Embedding(max_len, embed_size)\n",
        "        self.layers = nn.ModuleList(\n",
        "            [TransformerBlock(embed_size, heads, dropout) for _ in range(num_layers)]\n",
        "        )\n",
        "        self.fc_out = nn.Linear(embed_size, vocab_size)\n",
        "        self.dropout = nn.Dropout(dropout)\n",
        "\n",
        "    def forward(self, x):\n",
        "        N, seq_length = x.shape\n",
        "        positions = torch.arange(0, seq_length).expand(N, seq_length).to(x.device)\n",
        "        out = self.dropout(self.embed(x) + self.pos_embedding(positions))\n",
        "        for layer in self.layers:\n",
        "            out = layer(out)\n",
        "        out = self.fc_out(out)\n",
        "        return out\n",
        "\n",
        "# Hyperparameters\n",
        "embed_size = 256\n",
        "heads = 8\n",
        "num_layers = 6\n",
        "vocab_size = len(vocab)  # Example vocab size\n",
        "max_len = 512\n",
        "dropout = 0.1\n",
        "\n",
        "model = SummarizerModel(embed_size, heads, num_layers, vocab_size, max_len, dropout)\n"
      ],
      "metadata": {
        "id": "ZoTsIWsPorYa"
      },
      "execution_count": 157,
      "outputs": []
    },
    {
      "cell_type": "code",
      "source": [
        "\n",
        "\n",
        "class TextSummaryDataset(Dataset):\n",
        "    def __init__(self, texts, summaries, tokenizer, max_len):\n",
        "        self.texts = texts\n",
        "        self.summaries = summaries\n",
        "        self.tokenizer = tokenizer\n",
        "        self.max_len = max_len\n",
        "\n",
        "    def __len__(self):\n",
        "        return len(self.texts)\n",
        "\n",
        "    def __getitem__(self, idx):\n",
        "        text = self.texts[idx]\n",
        "        summary = self.summaries[idx]\n",
        "        input_ids = self.tokenizer(text, max_length=self.max_len, padding='max_length', truncation=True)\n",
        "        summary_ids = self.tokenizer(summary, max_length=self.max_len, padding='max_length', truncation=True)\n",
        "        return torch.tensor(input_ids), torch.tensor(summary_ids)\n",
        "\n",
        "# Example tokenizer\n",
        "# def simple_tokenizer(text, max_length):\n",
        "#     tokens = text.split()[:max_length]\n",
        "#     return [vocab.get(token, vocab['<UNK>']) for token in tokens] + [0] * (max_length - len(tokens))\n",
        "\n",
        "def simple_tokenizer(text, max_length, padding='max_length', truncation=True):\n",
        "    tokens = text.split()\n",
        "    if truncation and len(tokens) > max_length:\n",
        "        tokens = tokens[:max_length]\n",
        "    token_ids = [vocab.get(token, vocab['<UNK>']) for token in tokens]\n",
        "\n",
        "    if padding == 'max_length' and len(token_ids) < max_length:\n",
        "        token_ids += [vocab['<PAD>']] * (max_length - len(token_ids))\n",
        "\n",
        "    print(f\"Token IDs: {token_ids}\")\n",
        "    return token_ids\n"
      ],
      "metadata": {
        "id": "ZbviNblIqNpx"
      },
      "execution_count": 158,
      "outputs": []
    },
    {
      "cell_type": "code",
      "source": [
        "len(vocab)"
      ],
      "metadata": {
        "colab": {
          "base_uri": "https://localhost:8080/"
        },
        "id": "pT4mzTqLKnv-",
        "outputId": "fbf3e3c1-38a1-4077-c119-12e1d0cfc57b"
      },
      "execution_count": 159,
      "outputs": [
        {
          "output_type": "execute_result",
          "data": {
            "text/plain": [
              "2581"
            ]
          },
          "metadata": {},
          "execution_count": 159
        }
      ]
    },
    {
      "cell_type": "code",
      "source": [
        "list(vocab.keys())[:20]"
      ],
      "metadata": {
        "colab": {
          "base_uri": "https://localhost:8080/"
        },
        "id": "wNEyBb2YKp2y",
        "outputId": "d6f3bf9b-c98a-4fd9-f8db-03be5397d6fa"
      },
      "execution_count": 160,
      "outputs": [
        {
          "output_type": "execute_result",
          "data": {
            "text/plain": [
              "['<PAD>',\n",
              " '<UNK>',\n",
              " 'alert',\n",
              " 'the',\n",
              " 'to',\n",
              " 'a',\n",
              " 'in',\n",
              " 'of',\n",
              " 'and',\n",
              " 'was',\n",
              " 'said',\n",
              " 'on',\n",
              " 'for',\n",
              " 'that',\n",
              " 'is',\n",
              " 'police',\n",
              " 'at',\n",
              " 'are',\n",
              " 'with',\n",
              " 'he']"
            ]
          },
          "metadata": {},
          "execution_count": 160
        }
      ]
    },
    {
      "cell_type": "code",
      "source": [
        "\n",
        "texts = X_train[:2]\n",
        "summaries = y_train[:2]"
      ],
      "metadata": {
        "id": "J-n_jqhJrNab"
      },
      "execution_count": 161,
      "outputs": []
    },
    {
      "cell_type": "code",
      "source": [
        "texts =list(texts)"
      ],
      "metadata": {
        "id": "JMjohYVprR25"
      },
      "execution_count": 162,
      "outputs": []
    },
    {
      "cell_type": "code",
      "source": [
        "summaries =list(summaries)"
      ],
      "metadata": {
        "id": "dJrDldLZreVX"
      },
      "execution_count": 163,
      "outputs": []
    },
    {
      "cell_type": "code",
      "source": [
        "print(len(texts[0]),texts[0])"
      ],
      "metadata": {
        "colab": {
          "base_uri": "https://localhost:8080/"
        },
        "id": "5shAGc6QHr0A",
        "outputId": "8c6144fc-d061-4100-9722-61cae59101f7"
      },
      "execution_count": 164,
      "outputs": [
        {
          "output_type": "stream",
          "name": "stdout",
          "text": [
            "1339  A two-vehicle crash in Hamilton Tuesday night has left one person dead and three others injured, police say. Emergency crews were called to the area of Dundas Street East and Avonsyde Boulevard , near the city’s Burlington border, just after 11 p.m. for reports of a collision. Police said that’s where the 42-year-old driver of a black Dodge Ram and the three occupants of a white Toyota collided. The driver of the Dodge Ram was transported to hospital, where they were pronounced deceased, police said. The occupants of the Toyota sustained minor injuries and were transported to hospital. The cause of the crash is unknown at this time. Investigators with the Hamilton police collision reconstruction unit are on scene investigating. Road closures are in effect. Police are asking anyone with information about the crash to contact police at 905-546-4753 or via email at reconunit@hamiltonpolice.ca. . @HamiltonPolice are currently investigating a two-vehicle collision on Dundas Street East and Avonsyde Blvd just after 11:00 p.m. last night. Dundas remains closed in both directions and is anticipated to open within 90 minutes. #HamOnt READ MORE:  — Hamilton Police (@HamiltonPolice) July 24, 2024 Photos One person is dead and three others are injured after a two-vehicle crash in Hamilton on July 23, 2024. (CP24/Andrew Collins) \n"
          ]
        }
      ]
    },
    {
      "cell_type": "code",
      "source": [
        "\n",
        "\n",
        "dataset = TextSummaryDataset(texts, summaries, simple_tokenizer, max_len)\n",
        "dataloader = DataLoader(dataset, batch_size=2)\n",
        "\n",
        "optimizer = torch.optim.Adam(model.parameters(), lr=5e-5)\n",
        "criterion = nn.CrossEntropyLoss()\n",
        "\n",
        "for epoch in range(3):  # Number of epochs\n",
        "    model.train()\n",
        "    for batch in dataloader:\n",
        "        input_ids, summary_ids = batch\n",
        "\n",
        "        optimizer.zero_grad()\n",
        "        output = model(input_ids)\n",
        "        loss = criterion(output.view(-1, vocab_size), summary_ids.view(-1))\n",
        "        loss.backward()\n",
        "        optimizer.step()\n",
        "        print(f\"Epoch: {epoch}, Loss: {loss.item()}\")"
      ],
      "metadata": {
        "colab": {
          "base_uri": "https://localhost:8080/"
        },
        "id": "A3CYPvk6rRFs",
        "outputId": "74d5b96b-72e2-48a6-c76d-7a68ac95e9fc"
      },
      "execution_count": 165,
      "outputs": [
        {
          "output_type": "stream",
          "name": "stdout",
          "text": [
            "Token IDs: [1, 1, 168, 6, 1, 1, 134, 20, 181, 52, 126, 86, 8, 127, 287, 1, 15, 1, 1, 684, 27, 178, 4, 3, 81, 7, 1, 1, 1, 8, 1, 1, 1, 75, 3, 1, 1, 1, 54, 25, 1242, 1, 12, 289, 7, 5, 1, 1, 10, 1, 124, 3, 1, 501, 7, 5, 1119, 1, 1, 8, 3, 127, 1244, 7, 5, 1010, 1, 1, 1, 501, 7, 3, 1, 1, 9, 411, 4, 1, 124, 30, 27, 659, 1, 15, 1, 1, 1244, 7, 3, 1, 2267, 2268, 188, 8, 27, 411, 4, 1, 1, 2269, 7, 3, 168, 14, 451, 16, 39, 1, 1, 18, 3, 1, 15, 331, 1246, 696, 17, 11, 148, 1, 1, 358, 17, 6, 1, 1, 17, 2270, 296, 18, 171, 51, 3, 168, 4, 246, 15, 16, 1, 59, 2272, 581, 16, 1, 1, 1, 17, 634, 242, 5, 1, 331, 11, 1, 1, 1, 8, 1, 1, 54, 25, 1, 1, 105, 1, 1, 2276, 502, 6, 953, 2277, 8, 14, 2278, 4, 2279, 1185, 2280, 1, 1, 1, 1, 1, 1, 1, 1, 1, 1, 149, 1, 1, 126, 14, 86, 8, 127, 287, 17, 226, 25, 5, 1, 168, 6, 1, 11, 1, 1, 1, 1, 1, 0, 0, 0, 0, 0, 0, 0, 0, 0, 0, 0, 0, 0, 0, 0, 0, 0, 0, 0, 0, 0, 0, 0, 0, 0, 0, 0, 0, 0, 0, 0, 0, 0, 0, 0, 0, 0, 0, 0, 0, 0, 0, 0, 0, 0, 0, 0, 0, 0, 0, 0, 0, 0, 0, 0, 0, 0, 0, 0, 0, 0, 0, 0, 0, 0, 0, 0, 0, 0, 0, 0, 0, 0, 0, 0, 0, 0, 0, 0, 0, 0, 0, 0, 0, 0, 0, 0, 0, 0, 0, 0, 0, 0, 0, 0, 0, 0, 0, 0, 0, 0, 0, 0, 0, 0, 0, 0, 0, 0, 0, 0, 0, 0, 0, 0, 0, 0, 0, 0, 0, 0, 0, 0, 0, 0, 0, 0, 0, 0, 0, 0, 0, 0, 0, 0, 0, 0, 0, 0, 0, 0, 0, 0, 0, 0, 0, 0, 0, 0, 0, 0, 0, 0, 0, 0, 0, 0, 0, 0, 0, 0, 0, 0, 0, 0, 0, 0, 0, 0, 0, 0, 0, 0, 0, 0, 0, 0, 0, 0, 0, 0, 0, 0, 0, 0, 0, 0, 0, 0, 0, 0, 0, 0, 0, 0, 0, 0, 0, 0, 0, 0, 0, 0, 0, 0, 0, 0, 0, 0, 0, 0, 0, 0, 0, 0, 0, 0, 0, 0, 0, 0, 0, 0, 0, 0, 0, 0, 0, 0, 0, 0, 0, 0, 0, 0, 0, 0, 0, 0, 0, 0, 0, 0, 0, 0, 0, 0, 0, 0, 0, 0, 0, 0, 0, 0, 0, 0, 0, 0, 0, 0, 0, 0, 0, 0, 0, 0, 0, 0, 0, 0, 0, 0, 0, 0, 0, 0, 0, 0, 0, 0, 0, 0, 0, 0, 0, 0, 0, 0, 0, 0, 0, 0, 0, 0, 0, 0, 0, 0, 0, 0]\n",
            "Token IDs: [1, 1, 168, 6, 1, 1, 134, 20, 181, 52, 126, 86, 8, 127, 287, 1, 15, 69, 1, 1, 684, 27, 178, 4, 3, 81, 7, 1, 1, 1, 8, 1, 1, 75, 3, 1, 1, 1, 54, 25, 1242, 0, 0, 0, 0, 0, 0, 0, 0, 0, 0, 0, 0, 0, 0, 0, 0, 0, 0, 0, 0, 0, 0, 0, 0, 0, 0, 0, 0, 0, 0, 0, 0, 0, 0, 0, 0, 0, 0, 0, 0, 0, 0, 0, 0, 0, 0, 0, 0, 0, 0, 0, 0, 0, 0, 0, 0, 0, 0, 0, 0, 0, 0, 0, 0, 0, 0, 0, 0, 0, 0, 0, 0, 0, 0, 0, 0, 0, 0, 0, 0, 0, 0, 0, 0, 0, 0, 0, 0, 0, 0, 0, 0, 0, 0, 0, 0, 0, 0, 0, 0, 0, 0, 0, 0, 0, 0, 0, 0, 0, 0, 0, 0, 0, 0, 0, 0, 0, 0, 0, 0, 0, 0, 0, 0, 0, 0, 0, 0, 0, 0, 0, 0, 0, 0, 0, 0, 0, 0, 0, 0, 0, 0, 0, 0, 0, 0, 0, 0, 0, 0, 0, 0, 0, 0, 0, 0, 0, 0, 0, 0, 0, 0, 0, 0, 0, 0, 0, 0, 0, 0, 0, 0, 0, 0, 0, 0, 0, 0, 0, 0, 0, 0, 0, 0, 0, 0, 0, 0, 0, 0, 0, 0, 0, 0, 0, 0, 0, 0, 0, 0, 0, 0, 0, 0, 0, 0, 0, 0, 0, 0, 0, 0, 0, 0, 0, 0, 0, 0, 0, 0, 0, 0, 0, 0, 0, 0, 0, 0, 0, 0, 0, 0, 0, 0, 0, 0, 0, 0, 0, 0, 0, 0, 0, 0, 0, 0, 0, 0, 0, 0, 0, 0, 0, 0, 0, 0, 0, 0, 0, 0, 0, 0, 0, 0, 0, 0, 0, 0, 0, 0, 0, 0, 0, 0, 0, 0, 0, 0, 0, 0, 0, 0, 0, 0, 0, 0, 0, 0, 0, 0, 0, 0, 0, 0, 0, 0, 0, 0, 0, 0, 0, 0, 0, 0, 0, 0, 0, 0, 0, 0, 0, 0, 0, 0, 0, 0, 0, 0, 0, 0, 0, 0, 0, 0, 0, 0, 0, 0, 0, 0, 0, 0, 0, 0, 0, 0, 0, 0, 0, 0, 0, 0, 0, 0, 0, 0, 0, 0, 0, 0, 0, 0, 0, 0, 0, 0, 0, 0, 0, 0, 0, 0, 0, 0, 0, 0, 0, 0, 0, 0, 0, 0, 0, 0, 0, 0, 0, 0, 0, 0, 0, 0, 0, 0, 0, 0, 0, 0, 0, 0, 0, 0, 0, 0, 0, 0, 0, 0, 0, 0, 0, 0, 0, 0, 0, 0, 0, 0, 0, 0, 0, 0, 0, 0, 0, 0, 0, 0, 0, 0, 0, 0, 0, 0, 0, 0, 0, 0, 0, 0, 0, 0, 0, 0, 0, 0, 0, 0, 0, 0, 0, 0, 0, 0, 0, 0, 0, 0, 0, 0, 0, 0, 0, 0, 0, 0, 0, 0, 0, 0, 0, 0, 0, 0, 0, 0, 0, 0, 0, 0, 0]\n",
            "Token IDs: [1, 343, 726, 14, 344, 4, 1848, 727, 6, 1, 12, 175, 531, 1078, 1, 1, 31, 9, 129, 532, 7, 214, 217, 7, 271, 272, 105, 1, 1, 343, 523, 20, 34, 728, 6, 173, 139, 1, 46, 1079, 730, 1, 1, 1, 8, 1, 1, 372, 4, 1850, 26, 3, 228, 1851, 39, 1, 1, 31, 631, 412, 5, 1, 259, 1, 20, 77, 1854, 257, 1855, 1856, 3, 1, 8, 37, 257, 14, 344, 4, 23, 874, 100, 343, 1, 1, 9, 129, 532, 11, 214, 217, 7, 271, 272, 11, 1, 1, 40, 9, 1083, 7, 5, 1084, 1, 22, 187, 22, 5, 1085, 7, 534, 1, 1, 68, 1859, 4, 536, 1086, 26, 3, 1860, 518, 3, 1, 1, 14, 77, 130, 68, 6, 46, 185, 268, 8, 3, 1, 1, 1, 1, 1088, 11, 271, 1, 68, 20, 34, 728, 6, 173, 258, 4, 1, 1864, 22, 37, 730, 914, 6, 13, 228, 22, 187, 22, 3, 1, 1, 1, 31, 14, 6, 37, 1, 77, 1865, 52, 533, 7, 271, 272, 8, 52, 533, 7, 534, 535, 6, 1, 1, 9, 80, 630, 6, 1, 6, 1866, 946, 3, 1, 1, 25, 19, 9, 420, 18, 1867, 217, 6, 1, 1, 276, 421, 731, 8, 1868, 1, 1, 1, 1, 1870, 396, 1871, 1, 1872, 12, 5, 1873, 1090, 7, 37, 1089, 1, 540, 76, 9, 99, 1874, 4, 1875, 18, 3, 318, 113, 33, 1, 392, 1, 1, 1, 7, 3, 714, 68, 117, 1, 6, 1, 1, 59, 3, 1, 29, 34, 948, 6, 1, 8, 19, 20, 913, 90, 536, 117, 1, 1, 294, 33, 1, 1, 1, 9, 80, 1091, 1, 1, 1, 0, 0, 0, 0, 0, 0, 0, 0, 0, 0, 0, 0, 0, 0, 0, 0, 0, 0, 0, 0, 0, 0, 0, 0, 0, 0, 0, 0, 0, 0, 0, 0, 0, 0, 0, 0, 0, 0, 0, 0, 0, 0, 0, 0, 0, 0, 0, 0, 0, 0, 0, 0, 0, 0, 0, 0, 0, 0, 0, 0, 0, 0, 0, 0, 0, 0, 0, 0, 0, 0, 0, 0, 0, 0, 0, 0, 0, 0, 0, 0, 0, 0, 0, 0, 0, 0, 0, 0, 0, 0, 0, 0, 0, 0, 0, 0, 0, 0, 0, 0, 0, 0, 0, 0, 0, 0, 0, 0, 0, 0, 0, 0, 0, 0, 0, 0, 0, 0, 0, 0, 0, 0, 0, 0, 0, 0, 0, 0, 0, 0, 0, 0, 0, 0, 0, 0, 0, 0, 0, 0, 0, 0, 0, 0, 0, 0, 0, 0, 0, 0, 0, 0, 0, 0, 0, 0, 0, 0, 0, 0, 0, 0, 0, 0, 0, 0, 0, 0, 0, 0, 0, 0, 0, 0, 0, 0, 0, 0, 0, 0, 0, 0, 0, 0, 0, 0, 0, 0, 0, 0, 0, 0, 0, 0, 0, 0, 0, 0, 0, 0, 0, 0, 0, 0, 0, 0, 0, 0, 0, 0, 0, 0, 0, 0, 0, 0, 0, 0, 0, 0, 0, 0, 0, 0, 0, 0, 0, 0]\n",
            "Token IDs: [1, 531, 1078, 1, 1, 9, 129, 532, 7, 214, 217, 7, 271, 272, 105, 231, 1, 1, 9, 1083, 7, 5, 1084, 1, 22, 187, 22, 5, 1085, 7, 534, 535, 1, 1, 14, 77, 130, 68, 6, 46, 185, 268, 8, 3, 1, 1, 1, 1, 343, 523, 20, 34, 728, 6, 173, 139, 1, 46, 1079, 730, 1, 1, 1, 8, 1, 0, 0, 0, 0, 0, 0, 0, 0, 0, 0, 0, 0, 0, 0, 0, 0, 0, 0, 0, 0, 0, 0, 0, 0, 0, 0, 0, 0, 0, 0, 0, 0, 0, 0, 0, 0, 0, 0, 0, 0, 0, 0, 0, 0, 0, 0, 0, 0, 0, 0, 0, 0, 0, 0, 0, 0, 0, 0, 0, 0, 0, 0, 0, 0, 0, 0, 0, 0, 0, 0, 0, 0, 0, 0, 0, 0, 0, 0, 0, 0, 0, 0, 0, 0, 0, 0, 0, 0, 0, 0, 0, 0, 0, 0, 0, 0, 0, 0, 0, 0, 0, 0, 0, 0, 0, 0, 0, 0, 0, 0, 0, 0, 0, 0, 0, 0, 0, 0, 0, 0, 0, 0, 0, 0, 0, 0, 0, 0, 0, 0, 0, 0, 0, 0, 0, 0, 0, 0, 0, 0, 0, 0, 0, 0, 0, 0, 0, 0, 0, 0, 0, 0, 0, 0, 0, 0, 0, 0, 0, 0, 0, 0, 0, 0, 0, 0, 0, 0, 0, 0, 0, 0, 0, 0, 0, 0, 0, 0, 0, 0, 0, 0, 0, 0, 0, 0, 0, 0, 0, 0, 0, 0, 0, 0, 0, 0, 0, 0, 0, 0, 0, 0, 0, 0, 0, 0, 0, 0, 0, 0, 0, 0, 0, 0, 0, 0, 0, 0, 0, 0, 0, 0, 0, 0, 0, 0, 0, 0, 0, 0, 0, 0, 0, 0, 0, 0, 0, 0, 0, 0, 0, 0, 0, 0, 0, 0, 0, 0, 0, 0, 0, 0, 0, 0, 0, 0, 0, 0, 0, 0, 0, 0, 0, 0, 0, 0, 0, 0, 0, 0, 0, 0, 0, 0, 0, 0, 0, 0, 0, 0, 0, 0, 0, 0, 0, 0, 0, 0, 0, 0, 0, 0, 0, 0, 0, 0, 0, 0, 0, 0, 0, 0, 0, 0, 0, 0, 0, 0, 0, 0, 0, 0, 0, 0, 0, 0, 0, 0, 0, 0, 0, 0, 0, 0, 0, 0, 0, 0, 0, 0, 0, 0, 0, 0, 0, 0, 0, 0, 0, 0, 0, 0, 0, 0, 0, 0, 0, 0, 0, 0, 0, 0, 0, 0, 0, 0, 0, 0, 0, 0, 0, 0, 0, 0, 0, 0, 0, 0, 0, 0, 0, 0, 0, 0, 0, 0, 0, 0, 0, 0, 0, 0, 0, 0, 0, 0, 0, 0, 0, 0, 0, 0, 0, 0, 0, 0, 0, 0, 0, 0, 0, 0, 0, 0, 0, 0, 0, 0, 0, 0, 0, 0, 0, 0, 0, 0, 0, 0, 0, 0, 0, 0, 0, 0, 0, 0, 0, 0, 0, 0, 0, 0, 0, 0, 0, 0, 0, 0, 0, 0, 0, 0, 0, 0, 0, 0, 0]\n",
            "Epoch: 0, Loss: 7.7392425537109375\n",
            "Token IDs: [1, 1, 168, 6, 1, 1, 134, 20, 181, 52, 126, 86, 8, 127, 287, 1, 15, 1, 1, 684, 27, 178, 4, 3, 81, 7, 1, 1, 1, 8, 1, 1, 1, 75, 3, 1, 1, 1, 54, 25, 1242, 1, 12, 289, 7, 5, 1, 1, 10, 1, 124, 3, 1, 501, 7, 5, 1119, 1, 1, 8, 3, 127, 1244, 7, 5, 1010, 1, 1, 1, 501, 7, 3, 1, 1, 9, 411, 4, 1, 124, 30, 27, 659, 1, 15, 1, 1, 1244, 7, 3, 1, 2267, 2268, 188, 8, 27, 411, 4, 1, 1, 2269, 7, 3, 168, 14, 451, 16, 39, 1, 1, 18, 3, 1, 15, 331, 1246, 696, 17, 11, 148, 1, 1, 358, 17, 6, 1, 1, 17, 2270, 296, 18, 171, 51, 3, 168, 4, 246, 15, 16, 1, 59, 2272, 581, 16, 1, 1, 1, 17, 634, 242, 5, 1, 331, 11, 1, 1, 1, 8, 1, 1, 54, 25, 1, 1, 105, 1, 1, 2276, 502, 6, 953, 2277, 8, 14, 2278, 4, 2279, 1185, 2280, 1, 1, 1, 1, 1, 1, 1, 1, 1, 1, 149, 1, 1, 126, 14, 86, 8, 127, 287, 17, 226, 25, 5, 1, 168, 6, 1, 11, 1, 1, 1, 1, 1, 0, 0, 0, 0, 0, 0, 0, 0, 0, 0, 0, 0, 0, 0, 0, 0, 0, 0, 0, 0, 0, 0, 0, 0, 0, 0, 0, 0, 0, 0, 0, 0, 0, 0, 0, 0, 0, 0, 0, 0, 0, 0, 0, 0, 0, 0, 0, 0, 0, 0, 0, 0, 0, 0, 0, 0, 0, 0, 0, 0, 0, 0, 0, 0, 0, 0, 0, 0, 0, 0, 0, 0, 0, 0, 0, 0, 0, 0, 0, 0, 0, 0, 0, 0, 0, 0, 0, 0, 0, 0, 0, 0, 0, 0, 0, 0, 0, 0, 0, 0, 0, 0, 0, 0, 0, 0, 0, 0, 0, 0, 0, 0, 0, 0, 0, 0, 0, 0, 0, 0, 0, 0, 0, 0, 0, 0, 0, 0, 0, 0, 0, 0, 0, 0, 0, 0, 0, 0, 0, 0, 0, 0, 0, 0, 0, 0, 0, 0, 0, 0, 0, 0, 0, 0, 0, 0, 0, 0, 0, 0, 0, 0, 0, 0, 0, 0, 0, 0, 0, 0, 0, 0, 0, 0, 0, 0, 0, 0, 0, 0, 0, 0, 0, 0, 0, 0, 0, 0, 0, 0, 0, 0, 0, 0, 0, 0, 0, 0, 0, 0, 0, 0, 0, 0, 0, 0, 0, 0, 0, 0, 0, 0, 0, 0, 0, 0, 0, 0, 0, 0, 0, 0, 0, 0, 0, 0, 0, 0, 0, 0, 0, 0, 0, 0, 0, 0, 0, 0, 0, 0, 0, 0, 0, 0, 0, 0, 0, 0, 0, 0, 0, 0, 0, 0, 0, 0, 0, 0, 0, 0, 0, 0, 0, 0, 0, 0, 0, 0, 0, 0, 0, 0, 0, 0, 0, 0, 0, 0, 0, 0, 0, 0, 0, 0, 0, 0, 0, 0, 0, 0, 0, 0, 0, 0, 0, 0, 0, 0, 0, 0, 0]\n",
            "Token IDs: [1, 1, 168, 6, 1, 1, 134, 20, 181, 52, 126, 86, 8, 127, 287, 1, 15, 69, 1, 1, 684, 27, 178, 4, 3, 81, 7, 1, 1, 1, 8, 1, 1, 75, 3, 1, 1, 1, 54, 25, 1242, 0, 0, 0, 0, 0, 0, 0, 0, 0, 0, 0, 0, 0, 0, 0, 0, 0, 0, 0, 0, 0, 0, 0, 0, 0, 0, 0, 0, 0, 0, 0, 0, 0, 0, 0, 0, 0, 0, 0, 0, 0, 0, 0, 0, 0, 0, 0, 0, 0, 0, 0, 0, 0, 0, 0, 0, 0, 0, 0, 0, 0, 0, 0, 0, 0, 0, 0, 0, 0, 0, 0, 0, 0, 0, 0, 0, 0, 0, 0, 0, 0, 0, 0, 0, 0, 0, 0, 0, 0, 0, 0, 0, 0, 0, 0, 0, 0, 0, 0, 0, 0, 0, 0, 0, 0, 0, 0, 0, 0, 0, 0, 0, 0, 0, 0, 0, 0, 0, 0, 0, 0, 0, 0, 0, 0, 0, 0, 0, 0, 0, 0, 0, 0, 0, 0, 0, 0, 0, 0, 0, 0, 0, 0, 0, 0, 0, 0, 0, 0, 0, 0, 0, 0, 0, 0, 0, 0, 0, 0, 0, 0, 0, 0, 0, 0, 0, 0, 0, 0, 0, 0, 0, 0, 0, 0, 0, 0, 0, 0, 0, 0, 0, 0, 0, 0, 0, 0, 0, 0, 0, 0, 0, 0, 0, 0, 0, 0, 0, 0, 0, 0, 0, 0, 0, 0, 0, 0, 0, 0, 0, 0, 0, 0, 0, 0, 0, 0, 0, 0, 0, 0, 0, 0, 0, 0, 0, 0, 0, 0, 0, 0, 0, 0, 0, 0, 0, 0, 0, 0, 0, 0, 0, 0, 0, 0, 0, 0, 0, 0, 0, 0, 0, 0, 0, 0, 0, 0, 0, 0, 0, 0, 0, 0, 0, 0, 0, 0, 0, 0, 0, 0, 0, 0, 0, 0, 0, 0, 0, 0, 0, 0, 0, 0, 0, 0, 0, 0, 0, 0, 0, 0, 0, 0, 0, 0, 0, 0, 0, 0, 0, 0, 0, 0, 0, 0, 0, 0, 0, 0, 0, 0, 0, 0, 0, 0, 0, 0, 0, 0, 0, 0, 0, 0, 0, 0, 0, 0, 0, 0, 0, 0, 0, 0, 0, 0, 0, 0, 0, 0, 0, 0, 0, 0, 0, 0, 0, 0, 0, 0, 0, 0, 0, 0, 0, 0, 0, 0, 0, 0, 0, 0, 0, 0, 0, 0, 0, 0, 0, 0, 0, 0, 0, 0, 0, 0, 0, 0, 0, 0, 0, 0, 0, 0, 0, 0, 0, 0, 0, 0, 0, 0, 0, 0, 0, 0, 0, 0, 0, 0, 0, 0, 0, 0, 0, 0, 0, 0, 0, 0, 0, 0, 0, 0, 0, 0, 0, 0, 0, 0, 0, 0, 0, 0, 0, 0, 0, 0, 0, 0, 0, 0, 0, 0, 0, 0, 0, 0, 0, 0, 0, 0, 0, 0, 0, 0, 0, 0, 0, 0, 0, 0, 0, 0, 0, 0, 0, 0, 0, 0, 0, 0, 0, 0, 0, 0, 0, 0, 0, 0, 0, 0]\n",
            "Token IDs: [1, 343, 726, 14, 344, 4, 1848, 727, 6, 1, 12, 175, 531, 1078, 1, 1, 31, 9, 129, 532, 7, 214, 217, 7, 271, 272, 105, 1, 1, 343, 523, 20, 34, 728, 6, 173, 139, 1, 46, 1079, 730, 1, 1, 1, 8, 1, 1, 372, 4, 1850, 26, 3, 228, 1851, 39, 1, 1, 31, 631, 412, 5, 1, 259, 1, 20, 77, 1854, 257, 1855, 1856, 3, 1, 8, 37, 257, 14, 344, 4, 23, 874, 100, 343, 1, 1, 9, 129, 532, 11, 214, 217, 7, 271, 272, 11, 1, 1, 40, 9, 1083, 7, 5, 1084, 1, 22, 187, 22, 5, 1085, 7, 534, 1, 1, 68, 1859, 4, 536, 1086, 26, 3, 1860, 518, 3, 1, 1, 14, 77, 130, 68, 6, 46, 185, 268, 8, 3, 1, 1, 1, 1, 1088, 11, 271, 1, 68, 20, 34, 728, 6, 173, 258, 4, 1, 1864, 22, 37, 730, 914, 6, 13, 228, 22, 187, 22, 3, 1, 1, 1, 31, 14, 6, 37, 1, 77, 1865, 52, 533, 7, 271, 272, 8, 52, 533, 7, 534, 535, 6, 1, 1, 9, 80, 630, 6, 1, 6, 1866, 946, 3, 1, 1, 25, 19, 9, 420, 18, 1867, 217, 6, 1, 1, 276, 421, 731, 8, 1868, 1, 1, 1, 1, 1870, 396, 1871, 1, 1872, 12, 5, 1873, 1090, 7, 37, 1089, 1, 540, 76, 9, 99, 1874, 4, 1875, 18, 3, 318, 113, 33, 1, 392, 1, 1, 1, 7, 3, 714, 68, 117, 1, 6, 1, 1, 59, 3, 1, 29, 34, 948, 6, 1, 8, 19, 20, 913, 90, 536, 117, 1, 1, 294, 33, 1, 1, 1, 9, 80, 1091, 1, 1, 1, 0, 0, 0, 0, 0, 0, 0, 0, 0, 0, 0, 0, 0, 0, 0, 0, 0, 0, 0, 0, 0, 0, 0, 0, 0, 0, 0, 0, 0, 0, 0, 0, 0, 0, 0, 0, 0, 0, 0, 0, 0, 0, 0, 0, 0, 0, 0, 0, 0, 0, 0, 0, 0, 0, 0, 0, 0, 0, 0, 0, 0, 0, 0, 0, 0, 0, 0, 0, 0, 0, 0, 0, 0, 0, 0, 0, 0, 0, 0, 0, 0, 0, 0, 0, 0, 0, 0, 0, 0, 0, 0, 0, 0, 0, 0, 0, 0, 0, 0, 0, 0, 0, 0, 0, 0, 0, 0, 0, 0, 0, 0, 0, 0, 0, 0, 0, 0, 0, 0, 0, 0, 0, 0, 0, 0, 0, 0, 0, 0, 0, 0, 0, 0, 0, 0, 0, 0, 0, 0, 0, 0, 0, 0, 0, 0, 0, 0, 0, 0, 0, 0, 0, 0, 0, 0, 0, 0, 0, 0, 0, 0, 0, 0, 0, 0, 0, 0, 0, 0, 0, 0, 0, 0, 0, 0, 0, 0, 0, 0, 0, 0, 0, 0, 0, 0, 0, 0, 0, 0, 0, 0, 0, 0, 0, 0, 0, 0, 0, 0, 0, 0, 0, 0, 0, 0, 0, 0, 0, 0, 0, 0, 0, 0, 0, 0, 0, 0, 0, 0, 0, 0, 0, 0, 0, 0, 0, 0, 0]\n",
            "Token IDs: [1, 531, 1078, 1, 1, 9, 129, 532, 7, 214, 217, 7, 271, 272, 105, 231, 1, 1, 9, 1083, 7, 5, 1084, 1, 22, 187, 22, 5, 1085, 7, 534, 535, 1, 1, 14, 77, 130, 68, 6, 46, 185, 268, 8, 3, 1, 1, 1, 1, 343, 523, 20, 34, 728, 6, 173, 139, 1, 46, 1079, 730, 1, 1, 1, 8, 1, 0, 0, 0, 0, 0, 0, 0, 0, 0, 0, 0, 0, 0, 0, 0, 0, 0, 0, 0, 0, 0, 0, 0, 0, 0, 0, 0, 0, 0, 0, 0, 0, 0, 0, 0, 0, 0, 0, 0, 0, 0, 0, 0, 0, 0, 0, 0, 0, 0, 0, 0, 0, 0, 0, 0, 0, 0, 0, 0, 0, 0, 0, 0, 0, 0, 0, 0, 0, 0, 0, 0, 0, 0, 0, 0, 0, 0, 0, 0, 0, 0, 0, 0, 0, 0, 0, 0, 0, 0, 0, 0, 0, 0, 0, 0, 0, 0, 0, 0, 0, 0, 0, 0, 0, 0, 0, 0, 0, 0, 0, 0, 0, 0, 0, 0, 0, 0, 0, 0, 0, 0, 0, 0, 0, 0, 0, 0, 0, 0, 0, 0, 0, 0, 0, 0, 0, 0, 0, 0, 0, 0, 0, 0, 0, 0, 0, 0, 0, 0, 0, 0, 0, 0, 0, 0, 0, 0, 0, 0, 0, 0, 0, 0, 0, 0, 0, 0, 0, 0, 0, 0, 0, 0, 0, 0, 0, 0, 0, 0, 0, 0, 0, 0, 0, 0, 0, 0, 0, 0, 0, 0, 0, 0, 0, 0, 0, 0, 0, 0, 0, 0, 0, 0, 0, 0, 0, 0, 0, 0, 0, 0, 0, 0, 0, 0, 0, 0, 0, 0, 0, 0, 0, 0, 0, 0, 0, 0, 0, 0, 0, 0, 0, 0, 0, 0, 0, 0, 0, 0, 0, 0, 0, 0, 0, 0, 0, 0, 0, 0, 0, 0, 0, 0, 0, 0, 0, 0, 0, 0, 0, 0, 0, 0, 0, 0, 0, 0, 0, 0, 0, 0, 0, 0, 0, 0, 0, 0, 0, 0, 0, 0, 0, 0, 0, 0, 0, 0, 0, 0, 0, 0, 0, 0, 0, 0, 0, 0, 0, 0, 0, 0, 0, 0, 0, 0, 0, 0, 0, 0, 0, 0, 0, 0, 0, 0, 0, 0, 0, 0, 0, 0, 0, 0, 0, 0, 0, 0, 0, 0, 0, 0, 0, 0, 0, 0, 0, 0, 0, 0, 0, 0, 0, 0, 0, 0, 0, 0, 0, 0, 0, 0, 0, 0, 0, 0, 0, 0, 0, 0, 0, 0, 0, 0, 0, 0, 0, 0, 0, 0, 0, 0, 0, 0, 0, 0, 0, 0, 0, 0, 0, 0, 0, 0, 0, 0, 0, 0, 0, 0, 0, 0, 0, 0, 0, 0, 0, 0, 0, 0, 0, 0, 0, 0, 0, 0, 0, 0, 0, 0, 0, 0, 0, 0, 0, 0, 0, 0, 0, 0, 0, 0, 0, 0, 0, 0, 0, 0, 0, 0, 0, 0, 0, 0, 0, 0, 0, 0, 0, 0, 0, 0, 0, 0, 0, 0, 0, 0]\n",
            "Epoch: 1, Loss: 6.944743633270264\n",
            "Token IDs: [1, 1, 168, 6, 1, 1, 134, 20, 181, 52, 126, 86, 8, 127, 287, 1, 15, 1, 1, 684, 27, 178, 4, 3, 81, 7, 1, 1, 1, 8, 1, 1, 1, 75, 3, 1, 1, 1, 54, 25, 1242, 1, 12, 289, 7, 5, 1, 1, 10, 1, 124, 3, 1, 501, 7, 5, 1119, 1, 1, 8, 3, 127, 1244, 7, 5, 1010, 1, 1, 1, 501, 7, 3, 1, 1, 9, 411, 4, 1, 124, 30, 27, 659, 1, 15, 1, 1, 1244, 7, 3, 1, 2267, 2268, 188, 8, 27, 411, 4, 1, 1, 2269, 7, 3, 168, 14, 451, 16, 39, 1, 1, 18, 3, 1, 15, 331, 1246, 696, 17, 11, 148, 1, 1, 358, 17, 6, 1, 1, 17, 2270, 296, 18, 171, 51, 3, 168, 4, 246, 15, 16, 1, 59, 2272, 581, 16, 1, 1, 1, 17, 634, 242, 5, 1, 331, 11, 1, 1, 1, 8, 1, 1, 54, 25, 1, 1, 105, 1, 1, 2276, 502, 6, 953, 2277, 8, 14, 2278, 4, 2279, 1185, 2280, 1, 1, 1, 1, 1, 1, 1, 1, 1, 1, 149, 1, 1, 126, 14, 86, 8, 127, 287, 17, 226, 25, 5, 1, 168, 6, 1, 11, 1, 1, 1, 1, 1, 0, 0, 0, 0, 0, 0, 0, 0, 0, 0, 0, 0, 0, 0, 0, 0, 0, 0, 0, 0, 0, 0, 0, 0, 0, 0, 0, 0, 0, 0, 0, 0, 0, 0, 0, 0, 0, 0, 0, 0, 0, 0, 0, 0, 0, 0, 0, 0, 0, 0, 0, 0, 0, 0, 0, 0, 0, 0, 0, 0, 0, 0, 0, 0, 0, 0, 0, 0, 0, 0, 0, 0, 0, 0, 0, 0, 0, 0, 0, 0, 0, 0, 0, 0, 0, 0, 0, 0, 0, 0, 0, 0, 0, 0, 0, 0, 0, 0, 0, 0, 0, 0, 0, 0, 0, 0, 0, 0, 0, 0, 0, 0, 0, 0, 0, 0, 0, 0, 0, 0, 0, 0, 0, 0, 0, 0, 0, 0, 0, 0, 0, 0, 0, 0, 0, 0, 0, 0, 0, 0, 0, 0, 0, 0, 0, 0, 0, 0, 0, 0, 0, 0, 0, 0, 0, 0, 0, 0, 0, 0, 0, 0, 0, 0, 0, 0, 0, 0, 0, 0, 0, 0, 0, 0, 0, 0, 0, 0, 0, 0, 0, 0, 0, 0, 0, 0, 0, 0, 0, 0, 0, 0, 0, 0, 0, 0, 0, 0, 0, 0, 0, 0, 0, 0, 0, 0, 0, 0, 0, 0, 0, 0, 0, 0, 0, 0, 0, 0, 0, 0, 0, 0, 0, 0, 0, 0, 0, 0, 0, 0, 0, 0, 0, 0, 0, 0, 0, 0, 0, 0, 0, 0, 0, 0, 0, 0, 0, 0, 0, 0, 0, 0, 0, 0, 0, 0, 0, 0, 0, 0, 0, 0, 0, 0, 0, 0, 0, 0, 0, 0, 0, 0, 0, 0, 0, 0, 0, 0, 0, 0, 0, 0, 0, 0, 0, 0, 0, 0, 0, 0, 0, 0, 0, 0, 0, 0, 0, 0, 0, 0, 0]\n",
            "Token IDs: [1, 1, 168, 6, 1, 1, 134, 20, 181, 52, 126, 86, 8, 127, 287, 1, 15, 69, 1, 1, 684, 27, 178, 4, 3, 81, 7, 1, 1, 1, 8, 1, 1, 75, 3, 1, 1, 1, 54, 25, 1242, 0, 0, 0, 0, 0, 0, 0, 0, 0, 0, 0, 0, 0, 0, 0, 0, 0, 0, 0, 0, 0, 0, 0, 0, 0, 0, 0, 0, 0, 0, 0, 0, 0, 0, 0, 0, 0, 0, 0, 0, 0, 0, 0, 0, 0, 0, 0, 0, 0, 0, 0, 0, 0, 0, 0, 0, 0, 0, 0, 0, 0, 0, 0, 0, 0, 0, 0, 0, 0, 0, 0, 0, 0, 0, 0, 0, 0, 0, 0, 0, 0, 0, 0, 0, 0, 0, 0, 0, 0, 0, 0, 0, 0, 0, 0, 0, 0, 0, 0, 0, 0, 0, 0, 0, 0, 0, 0, 0, 0, 0, 0, 0, 0, 0, 0, 0, 0, 0, 0, 0, 0, 0, 0, 0, 0, 0, 0, 0, 0, 0, 0, 0, 0, 0, 0, 0, 0, 0, 0, 0, 0, 0, 0, 0, 0, 0, 0, 0, 0, 0, 0, 0, 0, 0, 0, 0, 0, 0, 0, 0, 0, 0, 0, 0, 0, 0, 0, 0, 0, 0, 0, 0, 0, 0, 0, 0, 0, 0, 0, 0, 0, 0, 0, 0, 0, 0, 0, 0, 0, 0, 0, 0, 0, 0, 0, 0, 0, 0, 0, 0, 0, 0, 0, 0, 0, 0, 0, 0, 0, 0, 0, 0, 0, 0, 0, 0, 0, 0, 0, 0, 0, 0, 0, 0, 0, 0, 0, 0, 0, 0, 0, 0, 0, 0, 0, 0, 0, 0, 0, 0, 0, 0, 0, 0, 0, 0, 0, 0, 0, 0, 0, 0, 0, 0, 0, 0, 0, 0, 0, 0, 0, 0, 0, 0, 0, 0, 0, 0, 0, 0, 0, 0, 0, 0, 0, 0, 0, 0, 0, 0, 0, 0, 0, 0, 0, 0, 0, 0, 0, 0, 0, 0, 0, 0, 0, 0, 0, 0, 0, 0, 0, 0, 0, 0, 0, 0, 0, 0, 0, 0, 0, 0, 0, 0, 0, 0, 0, 0, 0, 0, 0, 0, 0, 0, 0, 0, 0, 0, 0, 0, 0, 0, 0, 0, 0, 0, 0, 0, 0, 0, 0, 0, 0, 0, 0, 0, 0, 0, 0, 0, 0, 0, 0, 0, 0, 0, 0, 0, 0, 0, 0, 0, 0, 0, 0, 0, 0, 0, 0, 0, 0, 0, 0, 0, 0, 0, 0, 0, 0, 0, 0, 0, 0, 0, 0, 0, 0, 0, 0, 0, 0, 0, 0, 0, 0, 0, 0, 0, 0, 0, 0, 0, 0, 0, 0, 0, 0, 0, 0, 0, 0, 0, 0, 0, 0, 0, 0, 0, 0, 0, 0, 0, 0, 0, 0, 0, 0, 0, 0, 0, 0, 0, 0, 0, 0, 0, 0, 0, 0, 0, 0, 0, 0, 0, 0, 0, 0, 0, 0, 0, 0, 0, 0, 0, 0, 0, 0, 0, 0, 0, 0, 0, 0, 0, 0, 0, 0, 0, 0, 0, 0]\n",
            "Token IDs: [1, 343, 726, 14, 344, 4, 1848, 727, 6, 1, 12, 175, 531, 1078, 1, 1, 31, 9, 129, 532, 7, 214, 217, 7, 271, 272, 105, 1, 1, 343, 523, 20, 34, 728, 6, 173, 139, 1, 46, 1079, 730, 1, 1, 1, 8, 1, 1, 372, 4, 1850, 26, 3, 228, 1851, 39, 1, 1, 31, 631, 412, 5, 1, 259, 1, 20, 77, 1854, 257, 1855, 1856, 3, 1, 8, 37, 257, 14, 344, 4, 23, 874, 100, 343, 1, 1, 9, 129, 532, 11, 214, 217, 7, 271, 272, 11, 1, 1, 40, 9, 1083, 7, 5, 1084, 1, 22, 187, 22, 5, 1085, 7, 534, 1, 1, 68, 1859, 4, 536, 1086, 26, 3, 1860, 518, 3, 1, 1, 14, 77, 130, 68, 6, 46, 185, 268, 8, 3, 1, 1, 1, 1, 1088, 11, 271, 1, 68, 20, 34, 728, 6, 173, 258, 4, 1, 1864, 22, 37, 730, 914, 6, 13, 228, 22, 187, 22, 3, 1, 1, 1, 31, 14, 6, 37, 1, 77, 1865, 52, 533, 7, 271, 272, 8, 52, 533, 7, 534, 535, 6, 1, 1, 9, 80, 630, 6, 1, 6, 1866, 946, 3, 1, 1, 25, 19, 9, 420, 18, 1867, 217, 6, 1, 1, 276, 421, 731, 8, 1868, 1, 1, 1, 1, 1870, 396, 1871, 1, 1872, 12, 5, 1873, 1090, 7, 37, 1089, 1, 540, 76, 9, 99, 1874, 4, 1875, 18, 3, 318, 113, 33, 1, 392, 1, 1, 1, 7, 3, 714, 68, 117, 1, 6, 1, 1, 59, 3, 1, 29, 34, 948, 6, 1, 8, 19, 20, 913, 90, 536, 117, 1, 1, 294, 33, 1, 1, 1, 9, 80, 1091, 1, 1, 1, 0, 0, 0, 0, 0, 0, 0, 0, 0, 0, 0, 0, 0, 0, 0, 0, 0, 0, 0, 0, 0, 0, 0, 0, 0, 0, 0, 0, 0, 0, 0, 0, 0, 0, 0, 0, 0, 0, 0, 0, 0, 0, 0, 0, 0, 0, 0, 0, 0, 0, 0, 0, 0, 0, 0, 0, 0, 0, 0, 0, 0, 0, 0, 0, 0, 0, 0, 0, 0, 0, 0, 0, 0, 0, 0, 0, 0, 0, 0, 0, 0, 0, 0, 0, 0, 0, 0, 0, 0, 0, 0, 0, 0, 0, 0, 0, 0, 0, 0, 0, 0, 0, 0, 0, 0, 0, 0, 0, 0, 0, 0, 0, 0, 0, 0, 0, 0, 0, 0, 0, 0, 0, 0, 0, 0, 0, 0, 0, 0, 0, 0, 0, 0, 0, 0, 0, 0, 0, 0, 0, 0, 0, 0, 0, 0, 0, 0, 0, 0, 0, 0, 0, 0, 0, 0, 0, 0, 0, 0, 0, 0, 0, 0, 0, 0, 0, 0, 0, 0, 0, 0, 0, 0, 0, 0, 0, 0, 0, 0, 0, 0, 0, 0, 0, 0, 0, 0, 0, 0, 0, 0, 0, 0, 0, 0, 0, 0, 0, 0, 0, 0, 0, 0, 0, 0, 0, 0, 0, 0, 0, 0, 0, 0, 0, 0, 0, 0, 0, 0, 0, 0, 0, 0, 0, 0, 0, 0, 0]\n",
            "Token IDs: [1, 531, 1078, 1, 1, 9, 129, 532, 7, 214, 217, 7, 271, 272, 105, 231, 1, 1, 9, 1083, 7, 5, 1084, 1, 22, 187, 22, 5, 1085, 7, 534, 535, 1, 1, 14, 77, 130, 68, 6, 46, 185, 268, 8, 3, 1, 1, 1, 1, 343, 523, 20, 34, 728, 6, 173, 139, 1, 46, 1079, 730, 1, 1, 1, 8, 1, 0, 0, 0, 0, 0, 0, 0, 0, 0, 0, 0, 0, 0, 0, 0, 0, 0, 0, 0, 0, 0, 0, 0, 0, 0, 0, 0, 0, 0, 0, 0, 0, 0, 0, 0, 0, 0, 0, 0, 0, 0, 0, 0, 0, 0, 0, 0, 0, 0, 0, 0, 0, 0, 0, 0, 0, 0, 0, 0, 0, 0, 0, 0, 0, 0, 0, 0, 0, 0, 0, 0, 0, 0, 0, 0, 0, 0, 0, 0, 0, 0, 0, 0, 0, 0, 0, 0, 0, 0, 0, 0, 0, 0, 0, 0, 0, 0, 0, 0, 0, 0, 0, 0, 0, 0, 0, 0, 0, 0, 0, 0, 0, 0, 0, 0, 0, 0, 0, 0, 0, 0, 0, 0, 0, 0, 0, 0, 0, 0, 0, 0, 0, 0, 0, 0, 0, 0, 0, 0, 0, 0, 0, 0, 0, 0, 0, 0, 0, 0, 0, 0, 0, 0, 0, 0, 0, 0, 0, 0, 0, 0, 0, 0, 0, 0, 0, 0, 0, 0, 0, 0, 0, 0, 0, 0, 0, 0, 0, 0, 0, 0, 0, 0, 0, 0, 0, 0, 0, 0, 0, 0, 0, 0, 0, 0, 0, 0, 0, 0, 0, 0, 0, 0, 0, 0, 0, 0, 0, 0, 0, 0, 0, 0, 0, 0, 0, 0, 0, 0, 0, 0, 0, 0, 0, 0, 0, 0, 0, 0, 0, 0, 0, 0, 0, 0, 0, 0, 0, 0, 0, 0, 0, 0, 0, 0, 0, 0, 0, 0, 0, 0, 0, 0, 0, 0, 0, 0, 0, 0, 0, 0, 0, 0, 0, 0, 0, 0, 0, 0, 0, 0, 0, 0, 0, 0, 0, 0, 0, 0, 0, 0, 0, 0, 0, 0, 0, 0, 0, 0, 0, 0, 0, 0, 0, 0, 0, 0, 0, 0, 0, 0, 0, 0, 0, 0, 0, 0, 0, 0, 0, 0, 0, 0, 0, 0, 0, 0, 0, 0, 0, 0, 0, 0, 0, 0, 0, 0, 0, 0, 0, 0, 0, 0, 0, 0, 0, 0, 0, 0, 0, 0, 0, 0, 0, 0, 0, 0, 0, 0, 0, 0, 0, 0, 0, 0, 0, 0, 0, 0, 0, 0, 0, 0, 0, 0, 0, 0, 0, 0, 0, 0, 0, 0, 0, 0, 0, 0, 0, 0, 0, 0, 0, 0, 0, 0, 0, 0, 0, 0, 0, 0, 0, 0, 0, 0, 0, 0, 0, 0, 0, 0, 0, 0, 0, 0, 0, 0, 0, 0, 0, 0, 0, 0, 0, 0, 0, 0, 0, 0, 0, 0, 0, 0, 0, 0, 0, 0, 0, 0, 0, 0, 0, 0, 0, 0, 0, 0, 0, 0, 0, 0, 0, 0, 0, 0, 0, 0]\n",
            "Epoch: 2, Loss: 6.190632343292236\n"
          ]
        }
      ]
    },
    {
      "cell_type": "code",
      "source": [
        "def summarize(text, model, tokenizer, max_len=512):\n",
        "    model.eval()\n",
        "    input_ids = tokenizer(text, max_length=max_len, padding='max_length', truncation=True)\n",
        "    print(f\"Input IDs: {input_ids}\")\n",
        "\n",
        "    input_ids = torch.tensor(input_ids).unsqueeze(0)  # Add batch dimension\n",
        "    print(f\"Input IDs: {input_ids}\")\n",
        "\n",
        "\n",
        "\n",
        "    with torch.no_grad():\n",
        "        output = model(input_ids)\n",
        "        print(f\"Output: {output}\")\n",
        "\n",
        "    summary_ids = output.argmax(dim=-1).squeeze().tolist()\n",
        "    print(f\"Summary IDs: {summary_ids}\")  # Print the summary IDs\n",
        "    summary = \" \".join([vocab_inv[idx] for idx in summary_ids if idx not in [0]])  # Convert token IDs to words, ignoring padding\n",
        "    return summary\n",
        "\n",
        "# vocab inver = id : word\n",
        "vocab_inv = {idx: word for word, idx in vocab.items()}\n",
        "print(f\"vocab inver\",vocab_inv)\n",
        "\n",
        "# Example summarization\n",
        "text = \" A two-vehicle crash in Hamilton Tuesday night has left one person dead and three others injured, police say. Emergency crews were called to the area of Dundas Street East and Avonsyde Boulevard , near the city’s Burlington border, just after 11 p.m. for reports of a collision. Police said that’s where the 42-year-old driver of a black Dodge Ram and the three occupants of a white Toyota collided. The driver of the Dodge Ram was transported to hospital, where they were pronounced deceased, police said. The occupants of the Toyota sustained minor injuries and were transported to hospital.\"\n",
        "summary = summarize(text, model, simple_tokenizer, int(len(text)/2))\n",
        "print(len(summary),summary)\n"
      ],
      "metadata": {
        "colab": {
          "base_uri": "https://localhost:8080/"
        },
        "id": "MmT-R0QqqNwm",
        "outputId": "a056a3b7-dad3-41eb-84df-ada71ab7f671"
      },
      "execution_count": 172,
      "outputs": [
        {
          "output_type": "stream",
          "name": "stdout",
          "text": [
            "vocab inver {0: '<PAD>', 1: '<UNK>', 2: 'alert', 3: 'the', 4: 'to', 5: 'a', 6: 'in', 7: 'of', 8: 'and', 9: 'was', 10: 'said', 11: 'on', 12: 'for', 13: 'that', 14: 'is', 15: 'police', 16: 'at', 17: 'are', 18: 'with', 19: 'he', 20: 'has', 21: 'it', 22: 'as', 23: 'be', 24: 'i', 25: 'after', 26: 'from', 27: 'were', 28: 'toronto', 29: 'have', 30: 'they', 31: 'who', 32: 'an', 33: 'by', 34: 'been', 35: 'not', 36: 'she', 37: 'his', 38: 'canada', 39: 'this', 40: 'but', 41: 'news', 42: 'more', 43: 'will', 44: 'if', 45: 'its', 46: 'two', 47: 'ctv', 48: 'their', 49: 'her', 50: 'we', 51: 'about', 52: 'one', 53: 'tuesday', 54: 'just', 55: 'man', 56: 'says', 57: 'canadian', 58: 'you', 59: 'or', 60: 'people', 61: 'being', 62: 'harris', 63: 'so', 64: 'time', 65: 'up', 66: 'when', 67: 'city', 68: 'charges', 69: 'say', 70: 'bank', 71: 'cuts', 72: 'interest', 73: 'rate', 74: 'inflation', 75: 'near', 76: 'there', 77: 'also', 78: 'work', 79: 'traffic', 80: 'first', 81: 'area', 82: 'new', 83: 'get', 84: 'suspect', 85: 'day', 86: 'dead', 87: 'perron', 88: 'had', 89: 'since', 90: 'all', 91: 'second', 92: 'airport', 93: 'may', 94: 'over', 95: 'my', 96: 'which', 97: 'off', 98: 'law', 99: 'no', 100: 'during', 101: 'president', 102: 'incident', 103: 'investigators', 104: 'home', 105: 'last', 106: 'how', 107: 'out', 108: 'any', 109: 'gardiner', 110: 'expressway', 111: 'jasper', 112: 'plane', 113: 'issued', 114: 'looking', 115: 'could', 116: 'what', 117: 'against', 118: 'can', 119: 'coming', 120: 'wednesday', 121: 'come', 122: 'trump', 123: 'olympic', 124: 'where', 125: 'july', 126: 'person', 127: 'three', 128: 'him', 129: 'found', 130: 'facing', 131: 'now', 132: 'hospital', 133: 'while', 134: 'night', 135: 'into', 136: 'wildfire', 137: 'ticket', 138: 'years', 139: 'because', 140: 'suicide', 141: 'some', 142: 'company', 143: 'policy', 144: 'ontario', 145: 'right', 146: 'before', 147: 'reynolds', 148: 'scene', 149: '2024', 150: 'calgary', 151: 'money', 152: 'year', 153: 'most', 154: 'online', 155: 'life', 156: 'than', 157: 'later', 158: 'safety', 159: 'between', 160: 'actor', 161: 'movie', 162: 'east', 163: 'wisconsin', 164: 'days', 165: 'signals', 166: 'keeps', 167: 'dropping', 168: 'crash', 169: 'investigation', 170: 'know', 171: 'information', 172: 'make', 173: 'part', 174: 'going', 175: 'former', 176: 'websites', 177: 'act', 178: 'called', 179: 'companies', 180: 'according', 181: 'left', 182: 'believe', 183: 'identified', 184: 'jackman', 185: 'other', 186: 'back', 187: 'well', 188: 'injuries', 189: 'monday', 190: 'residents', 191: 'evacuees', 192: 'hours', 193: 'body', 194: 'decreased', 195: 'consecutive', 196: 'signalled', 197: 'continues', 198: 'ease', 199: 'crashed', 200: 'still', 201: 'kathmandu', 202: 'road', 203: 'avenue', 204: 'house', 205: 'dont', 206: 'im', 207: 'local', 208: 'down', 209: 'see', 210: 'died', 211: 'ordered', 212: 'got', 213: 'week', 214: 'four', 215: 'would', 216: 'allegedly', 217: 'counts', 218: 'am', 219: 'additional', 220: 'north', 221: 'street', 222: 'wolverine', 223: 'set', 224: 'evening', 225: 'red', 226: 'injured', 227: 'state', 228: 'case', 229: 'million', 230: 'national', 231: 'fall', 232: 'these', 233: 'park', 234: 'province', 235: 'help', 236: 'ottawa', 237: 'yang', 238: 'hamilton', 239: 'games', 240: 'following', 241: 'fire', 242: 'investigating', 243: 'vehicles', 244: 'service', 245: 'release', 246: 'contact', 247: 'cancer', 248: 'bike', 249: 'very', 250: 'shes', 251: 'thats', 252: 'zealand', 253: 'vulnerable', 254: 'plunket', 255: 'took', 256: 'theres', 257: 'health', 258: 'due', 259: 'clothing', 260: 'york', 261: 'did', 262: 'morning', 263: 'old', 264: 'added', 265: '24', 266: 'released', 267: 'video', 268: 'provinces', 269: 'serious', 270: 'shooting', 271: 'sexual', 272: 'assault', 273: 'republican', 274: 'campaign', 275: 'officials', 276: 'including', 277: 'nygard', 278: 'us', 279: 'edmonton', 280: 'vancouver', 281: 'done', 282: 'breaking', 283: 'team', 284: 'commissioner', 285: 'pilot', 286: 'plan', 287: 'others', 288: 'nepal', 289: 'reports', 290: 'falling', 291: 'objects', 292: 'received', 293: 'do', 294: 'report', 295: 'use', 296: 'anyone', 297: 'woman', 298: 'stolen', 299: 'doedens', 300: 'several', 301: 'ago', 302: 'told', 303: 'didnt', 304: 'light', 305: 'way', 306: 'taken', 307: 'outside', 308: 'someone', 309: 'through', 310: 'made', 311: 'party', 312: 'laws', 313: 'sent', 314: 'government', 315: 'streets', 316: 'without', 317: 'alleged', 318: 'order', 319: 'stabbing', 320: 'sunday', 321: 'pm', 322: 'special', 323: 'exclusive', 324: 'came', 325: 'here', 326: 'remembered', 327: 'deadpool', 328: 'go', 329: 'ont', 330: 'cp24', 331: 'collision', 332: 'lanes', 333: 'highway', 334: 'seen', 335: 'described', 336: 'them', 337: 'details', 338: 'death', 339: 'vice', 340: 'support', 341: 'democratic', 342: 'general', 343: 'sentencing', 344: 'expected', 345: 'forecast', 346: 'almanac', 347: 'conditions', 348: 'thirdparty', 349: 'search', 350: 'latest', 351: 'six', 352: 'saskatoon', 353: 'pay', 354: 'your', 355: 'citys', 356: 'apartment', 357: 'removed', 358: 'closures', 359: 'soccer', 360: 'international', 361: 'severe', 362: 'aboard', 363: 'large', 364: 'bc', 365: 'privacy', 366: 'office', 367: 'benson', 368: 'multiple', 369: 'recent', 370: 'months', 371: 'officers', 372: 'asked', 373: 'crime', 374: 'used', 375: 'find', 376: 'heart', 377: 'event', 378: 'those', 379: 'speaking', 380: 'brother', 381: 'me', 382: 'interview', 383: 'own', 384: 'suffered', 385: 'june', 386: 'our', 387: 'immediately', 388: 'cases', 389: 'forum', 390: 'parliament', 391: 'young', 392: 'minister', 393: 'store', 394: 'located', 395: 'further', 396: 'court', 397: 'victim', 398: 'lifethreatening', 399: 'parking', 400: 'australian', 401: 'shared', 402: 'tell', 403: 'saw', 404: 'again', 405: 'london', 406: 'put', 407: 'photos', 408: 'emergency', 409: 'westbound', 410: 'firearm', 411: 'transported', 412: 'led', 413: 'resident', 414: 'ap', 415: 'donald', 416: 'election', 417: 'democrats', 418: '100', 419: 'afternoon', 420: 'charged', 421: 'sex', 422: 'farmers', 423: 'leaving', 424: 'kitchener', 425: 'regina', 426: 'windsor', 427: 'plaza', 428: 'construction', 429: 'wanted', 430: 'drone', 431: 'twovehicle', 432: 'evacuation', 433: 'authorities', 434: 'paris', 435: 'nepals', 436: 'capital', 437: 'killing', 438: 'gifts', 439: 'amazon', 440: 'thunderstorm', 441: 'watch', 442: 'smoke', 443: 'training', 444: '2021', 445: 'otoole', 446: 'complete', 447: 'april', 448: 'valley', 449: 'damaged', 450: 'vehicle', 451: 'unknown', 452: 'caution', 453: 'states', 454: 'loss', 455: 'keep', 456: 'ride', 457: 'cost', 458: 'prince', 459: 'good', 460: '200', 461: 'ive', 462: 'far', 463: 'next', 464: 'accused', 465: 'hes', 466: 'james', 467: 'package', 468: 'dark', 469: 'bad', 470: 'making', 471: 'products', 472: 'confirmed', 473: 'connected', 474: 'weeks', 475: 'accounts', 476: 'stores', 477: 'caught', 478: 'family', 479: 'should', 480: 'downtown', 481: 'friday', 482: 'theft', 483: 'lewis', 484: '12', 485: 'residence', 486: '81yearold', 487: 'inside', 488: 'adding', 489: 'hugh', 490: 'fans', 491: 'lot', 492: 'west', 493: 'journey', 494: 'began', 495: 'freeway', 496: 'along', 497: 'kind', 498: 'air', 499: 'blue', 500: '23', 501: 'driver', 502: 'closed', 503: 'camera', 504: 'officer', 505: 'having', 506: 'few', 507: 'gun', 508: 'kamala', 509: 'opened', 510: 'public', 511: 'future', 512: 'ahead', 513: 'milwaukee', 514: 'biden', 515: 'dropped', 516: 'reelection', 517: 'bidens', 518: 'until', 519: 'attorney', 520: 'convicted', 521: 'stage', 522: 'women', 523: 'process', 524: '21', 525: 'quickly', 526: 'border', 527: 'reporters', 528: 'brian', 529: 'issues', 530: 'press', 531: 'fashion', 532: 'guilty', 533: 'count', 534: 'forcible', 535: 'confinement', 536: 'allegations', 537: 'manitoba', 538: 'quebec', 539: 'winnipeg', 540: 'finding', 541: 'season', 542: 'chilly', 543: 'island', 544: 'weather', 545: 'trapped', 546: 'feeling', 547: 'relieved', 548: 'town', 549: 'wildfires', 550: 'prairie', 551: 'payments', 552: 'ctvnewsca', 553: 'montreal', 554: 'newfoundland', 555: 'shopping', 556: 'trends', 557: 'payment', 558: 'date', 559: 'however', 560: '2', 561: 'ontarios', 562: 'coach', 563: 'committee', 564: 'opening', 565: 'summer', 566: 'scheme', 567: 'leave', 568: 'stunning', 569: 'security', 570: '18', 571: 'prime', 572: 'deals', 573: 'best', 574: 'month', 575: 'worker', 576: 'board', 577: 'surrey', 578: 'dundas', 579: 'boulevard', 580: 'deceased', 581: 'email', 582: 'airlines', 583: 'khadka', 584: 'tribhuvan', 585: '2015', 586: 'able', 587: 'number', 588: 'rehabilitation', 589: 'stretch', 590: 'sarkaria', 591: 'chow', 592: 'times', 593: 'busy', 594: 'stages', 595: 'shots', 596: 'don', 597: 'drivers', 598: 'continue', 599: 'stoppers', 600: 'anonymously', 601: '416222tips', 602: '8477', 603: 'research', 604: 'weekend', 605: 'returned', 606: 'items', 607: 'either', 608: 'thought', 609: 'much', 610: '10000', 611: 'long', 612: 'doing', 613: 'show', 614: 'hopes', 615: 'sean', 616: 'fatal', 617: 'questions', 618: 'why', 619: 'idea', 620: 'access', 621: 'hiding', 622: 'moment', 623: 'needed', 624: 'take', 625: 'kenneth', 626: 'associated', 627: 'loved', 628: 'site', 629: 'hosted', 630: 'arrested', 631: 'once', 632: 'action', 633: 'selling', 634: 'currently', 635: 'ban', 636: 'harms', 637: 'hill', 638: 'certain', 639: 'content', 640: 'canadians', 641: 'moved', 642: 'responsibility', 643: 'communities', 644: 'safe', 645: 'sure', 646: 'using', 647: 'marketplace', 648: 'peter', 649: 'queen', 650: 'womens', 651: 'paying', 652: 'worth', 653: '5000', 654: 'scheduled', 655: '80s', 656: 'drive', 657: 'knife', 658: 'arrived', 659: 'pronounced', 660: 'place', 661: 'jackmans', 662: 'etalk', 663: 'front', 664: 'gathered', 665: 'true', 666: 'story', 667: 'driving', 668: 'october', 669: 'character', 670: 'film', 671: 'thing', 672: 'key', 673: 'treated', 674: 'remember', 675: 'end', 676: 'enough', 677: 'premiere', 678: 'met', 679: 'current', 680: 'cant', 681: 'costume', 682: 'sense', 683: 'struck', 684: 'crews', 685: 'jameson', 686: 'avenues', 687: 'photo', 688: 'committing', 689: 'indecent', 690: 'woodycrest', 691: 'occurred', 692: 'carlton', 693: 'around', 694: 'condition', 695: 'unclear', 696: 'unit', 697: 'initially', 698: 'then', 699: 'freedom', 700: 'chaos', 701: 'every', 702: 'joe', 703: 'jumped', 704: 'among', 705: 'november', 706: 'pulled', 707: 'picked', 708: 'political', 709: 'leaders', 710: 'pennsylvania', 711: 'contrast', 712: '27', 713: 'seeking', 714: 'criminal', 715: 'forward', 716: 'herself', 717: 'policies', 718: 'frequently', 719: 'possible', 720: 'running', 721: 'candidate', 722: 'look', 723: 'turned', 724: 'conference', 725: 'school', 726: 'hearing', 727: 'today', 728: 'delayed', 729: 'nygards', 730: 'defence', 731: 'trafficking', 732: 'temperatures', 733: 'predicts', 734: 'evacuate', 735: 'many', 736: 'gridlock', 737: 'dealing', 738: 'centres', 739: 'grande', 740: '20', 741: 'urges', 742: 'main', 743: 'live', 744: 'atlantic', 745: 'barrie', 746: 'kingston', 747: 'labrador', 748: 'northern', 749: 'app', 750: 'something', 751: 'china', 752: 'website', 753: 'want', 754: 'early', 755: 'only', 756: 'full', 757: 'relief', 758: 'car', 759: 'top', 760: 'battle', 761: 'completed', 762: 'prompting', 763: 'french', 764: 'olympics', 765: 'centre', 766: 'thousands', 767: 'shell', 768: 'revealed', 769: 'raising', 770: 'lone', 771: 'survivor', 772: 'read', 773: '15', 774: 'kids', 775: '50', 776: 'development', 777: 'presence', 778: 'form', 779: 'county', 780: 'killed', 781: 'thomas', 782: 'stabbed', 783: 'medical', 784: 'provincial', 785: 'human', 786: 'rcmp', 787: 'transportation', 788: 'forced', 789: 'manager', 790: 'increased', 791: 'saskatchewan', 792: 'stay', 793: 'avonsyde', 794: 'ram', 795: 'joseph', 796: 'priestman', 797: 'saurya', 798: 'copilot', 799: 'aviation', 800: 'bodies', 801: 'bombardier', 802: 'crj', 803: 'passengers', 804: 'airline', 805: 'eyes', 806: 'doctor', 807: 'surrounded', 808: 'pilots', 809: 'runway', 810: 'loblaw', 811: 'unable', 812: 'pc', 813: 'optimum', 814: 'individuals', 815: 'canadawide', 816: 'warrant', 817: 'himself', 818: '73', 819: 'speed', 820: 'dufferin', 821: 'strachan', 822: '247', 823: 'contractors', 824: 'lane', 825: 'noise', 826: 'crumbling', 827: 'commute', 828: 'each', 829: 'ensure', 830: 'significant', 831: 'fired', 832: 'appears', 833: 'victims', 834: 'striking', 835: 'damaging', 836: 'torontos', 837: 'parkway', 838: 'tps', 839: 'pottery', 840: 'march', 841: 'glass', 842: 'marbles', 843: 'thursday', 844: 'responsible', 845: 'same', 846: 'onto', 847: 'urged', 848: 'investigate', 849: '4168085500', 850: 'bicycle', 851: 'raise', 852: 'monica', 853: 'saturday', 854: 'lock', 855: 'door', 856: 'broken', 857: 'ransacked', 858: 'hardest', 859: 'accept', 860: 'pinarello', 861: 'purchased', 862: 'expensive', 863: 'really', 864: 'think', 865: 'decided', 866: 'custommade', 867: 'replace', 868: 'doesnt', 869: 'yet', 870: 'insurance', 871: 'feels', 872: 'stem', 873: '17', 874: 'raised', 875: 'reach', 876: 'stats', 877: '3000', 878: 'bikes', 879: 'residences', 880: 'nearly', 881: 'ordering', 882: 'easy', 883: 'shocked', 884: 'easily', 885: 'tough', 886: 'internet', 887: 'ecommerce', 888: 'platforms', 889: 'necessarily', 890: 'web', 891: 'plain', 892: 'bloody', 893: 'sight', 894: 'protection', 895: 'advantage', 896: 'rather', 897: 'deaths', 898: 'personal', 899: 'whose', 900: '2022', 901: 'room', 902: 'business', 903: 'least', 904: 'shopify', 905: '2023', 906: 'spokesperson', 907: 'notified', 908: 'firstdegree', 909: 'murder', 910: 'aiding', 911: 'abetting', 912: '14', 913: 'denied', 914: 'lawyer', 915: 'promoted', 916: 'discussion', 917: 'naming', 918: 'tool', 919: 'reading', 920: 'prohibit', 921: 'offering', 922: 'encourage', 923: 'die', 924: 'operators', 925: 'care', 926: 'speech', 927: 'necessary', 928: 'standards', 929: 'sarah', 930: 'kennell', 931: 'big', 932: 'tech', 933: 'role', 934: 'especially', 935: 'members', 936: 'provider', 937: 'literally', 938: 'stealing', 939: '60000', 940: 'entered', 941: 'recovered', 942: '6338', 943: 'arrest', 944: 'michael', 945: '42', 946: 'under', 947: '10', 948: 'tested', 949: 'ulrike', 950: 'miller', 951: 'signs', 952: 'learned', 953: 'both', 954: 'identify', 955: 'homicide', 956: 'suspects', 957: 'relationship', 958: 'dozens', 959: '299', 960: 'audience', 961: 'shouts', 962: 'theyve', 963: 'flowers', 964: 'words', 965: 'ryan', 966: 'director', 967: 'characters', 968: 'enter', 969: 'marvel', 970: 'friendship', 971: 'partnership', 972: 'ask', 973: 'supporting', 974: 'love', 975: 'shot', 976: 'ever', 977: 'lucky', 978: 'guys', 979: 'id', 980: 'attended', 981: 'carpet', 982: 'essential', 983: 'mothership', 984: 'writers', 985: 'portrayed', 986: 'always', 987: 'great', 988: 'writer', 989: 'proud', 990: 'hope', 991: 'youre', 992: 'excited', 993: 'yellow', 994: 'losing', 995: 'soon', 996: 'actually', 997: 'media', 998: 'pedestrian', 999: 'shortly', 1000: '6', 1001: '30s', 1002: 'paramedics', 1003: 'spadina', 1004: 'mortimer', 1005: 'suspicious', 1006: 'twice', 1007: '55', 1008: 'build', 1009: 'hair', 1010: 'white', 1011: 'above', 1012: 'witnesses', 1013: '714', 1014: 'armed', 1015: 'discharged', 1016: 'potentially', 1017: 'siu', 1018: 'allis', 1019: 'roaring', 1020: 'crowd', 1021: 'voters', 1022: 'greeted', 1023: 'declaring', 1024: 'novembers', 1025: 'choice', 1026: 'promise', 1027: 'proudly', 1028: 'record', 1029: 'opportunity', 1030: 'locked', 1031: 'nomination', 1032: 'delegates', 1033: 'bid', 1034: 'rally', 1035: 'race', 1036: 'endorsement', 1037: 'reflected', 1038: 'vibrancy', 1039: 'lacking', 1040: 'intent', 1041: 'projecting', 1042: 'steady', 1043: 'confidence', 1044: 'donations', 1045: 'backing', 1046: 'groups', 1047: 'congressional', 1048: 'charles', 1049: 'schumer', 1050: 'presidential', 1051: 'visit', 1052: 'comes', 1053: 'trying', 1054: 'debate', 1055: 'sen', 1056: 'baldwin', 1057: 'spoke', 1058: 'draw', 1059: 'prepared', 1060: 'lemonade', 1061: 'trumps', 1062: 'fight', 1063: 'barack', 1064: 'swift', 1065: 'past', 1066: 'walter', 1067: 'whole', 1068: 'focus', 1069: 'change', 1070: 'plans', 1071: 'suggested', 1072: 'washington', 1073: 'josh', 1074: 'chairman', 1075: 'another', 1076: 'country', 1077: 'reported', 1078: 'mogul', 1079: 'previous', 1080: 'lawyers', 1081: 'greenspan', 1082: 'megan', 1083: 'acquitted', 1084: 'fifth', 1085: 'charge', 1086: 'dating', 1087: 'united', 1088: 'trial', 1089: 'extradition', 1090: 'review', 1091: 'published', 1092: 'frosty', 1093: 'begins', 1094: 'sept', 1095: 'kick', 1096: 'coasttocoast', 1097: 'rainfall', 1098: 'skew', 1099: 'bring', 1100: 'higher', 1101: 'nova', 1102: 'scotia', 1103: 'halloween', 1104: 'clear', 1105: 'british', 1106: 'columbia', 1107: 'directed', 1108: 'wide', 1109: 'uturn', 1110: 'reception', 1111: 'affect', 1112: 'queens', 1113: 'consumer', 1114: 'programs', 1115: 'guelph', 1116: 'lethbridge', 1117: 'albert', 1118: 'deer', 1119: 'black', 1120: 'beauty', 1121: 'speeding', 1122: 'careful', 1123: 'richmond', 1124: 'google', 1125: 'travel', 1126: 'fee', 1127: 'paid', 1128: 'services', 1129: 'directly', 1130: 'tickets', 1131: 'requests', 1132: 'such', 1133: 'owner', 1134: 'stories', 1135: 'wants', 1136: 'hid', 1137: 'eastend', 1138: 'heres', 1139: 'prompts', 1140: 'evacuations', 1141: 'analyst', 1142: 'assistant', 1143: 'plots', 1144: 'disrupt', 1145: 'ceremony', 1146: 'pyramid', 1147: 'foreign', 1148: 'governments', 1149: 'hundreds', 1150: 'bangladesh', 1151: 'sri', 1152: 'lanka', 1153: 'lost', 1154: 'savings', 1155: 'headquartered', 1156: 'ijf', 1157: 'shines', 1158: 'registries', 1159: 'pull', 1160: 'reveals', 1161: 'enforcement', 1162: 'homeland', 1163: 'failures', 1164: 'assassination', 1165: 'embattled', 1166: 'secret', 1167: '2034', 1168: 'winter', 1169: 'lake', 1170: 'taking', 1171: 'injuring', 1172: 'youll', 1173: 'snag', 1174: 'yourself', 1175: 'reviewers', 1176: 'almost', 1177: 'effect', 1178: 'environment', 1179: 'townhouse', 1180: 'bought', 1181: 'surrounding', 1182: 'greenspace', 1183: 'destroyed', 1184: 'rain', 1185: 'within', 1186: 'hour', 1187: 'confrontation', 1188: 'demonstrators', 1189: 'rare', 1190: 'drug', 1191: 'brantfordbrant', 1192: '11yearold', 1193: 'st', 1194: 'caused', 1195: 'ends', 1196: 'matthews', 1197: 'financial', 1198: 'across', 1199: 'simcoe', 1200: 'midland', 1201: 'atv', 1202: 'ramara', 1203: 'elementary', 1204: 'thompson', 1205: 'flames', 1206: 'ring', 1207: 'child', 1208: 'petitcodiac', 1209: 'nb', 1210: 'boys', 1211: 'missing', 1212: 'lower', 1213: 'sackville', 1214: 'refinery', 1215: 'flash', 1216: 'explosion', 1217: 'seven', 1218: 'boat', 1219: 'crew', 1220: 'stan', 1221: 'bowman', 1222: 'oilers', 1223: 'announced', 1224: 'premier', 1225: 'system', 1226: 'sunnyside', 1227: 'ctrain', 1228: 'station', 1229: 'quality', 1230: 'advisory', 1231: 'alida', 1232: 'sask', 1233: 'limiting', 1234: 'outdoors', 1235: 'raining', 1236: 'couple', 1237: 'perpetrator', 1238: 'newton', 1239: 'showed', 1240: 'terms', 1241: 'burlington', 1242: '11', 1243: 'dodge', 1244: 'occupants', 1245: 'toyota', 1246: 'reconstruction', 1247: 'hamiltonpolice', 1248: 'minutes', 1249: 'jasmine', 1250: 'mander', 1251: 'lombardi', 1252: 'coc', 1253: 'head', 1254: 'bev', 1255: 'coaching', 1256: 'statement', 1257: 'saintetienne', 1258: 'france', 1259: 'staff', 1260: 'undergo', 1261: 'mandatory', 1262: 'ethics', 1263: 'flight', 1264: 'nepali', 1265: 'except', 1266: 'passenger', 1267: 'yemeni', 1268: 'civil', 1269: 'authority', 1270: 'heading', 1271: 'secondmost', 1272: 'populous', 1273: 'pokhara', 1274: 'maintenance', 1275: 'mechanics', 1276: 'employees', 1277: 'anonymity', 1278: 'authorized', 1279: 'speak', 1280: 'danger', 1281: '1111', 1282: 'moments', 1283: 'eastern', 1284: 'even', 1285: 'serving', 1286: 'mountains', 1287: 'takeoffs', 1288: 'landings', 1289: 'challenging', 1290: 'grieving', 1291: 'ones', 1292: 'domestic', 1293: '2019', 1294: 'bangladeshi', 1295: 'airliner', 1296: '51', 1297: 'customers', 1298: 'delete', 1299: 'active', 1300: 'rejean', 1301: 'hermel', 1302: '52', 1303: 'indignity', 1304: 'befriended', 1305: 'riverside', 1306: 'neighbourhood', 1307: 'deliberate', 1308: 'steps', 1309: 'hidden', 1310: 'natural', 1311: 'causes', 1312: 'discovered', 1313: 'exploiting', 1314: 'kidnapping', 1315: 'sexually', 1316: 'assaulting', 1317: 'trade', 1318: 'prior', 1319: 'breaching', 1320: 'parole', 1321: 'related', 1322: 'conviction', 1323: 'particular', 1324: 'possibly', 1325: 'bath', 1326: 'giving', 1327: '2027', 1328: 'carry', 1329: '2026', 1330: 'per', 1331: 'measures', 1332: 'pleased', 1333: 'council', 1334: 'started', 1335: 'nightmare', 1336: 'squeezed', 1337: 'direction', 1338: 'estimates', 1339: 'save', 1340: 'economy', 1341: '273', 1342: 'reducing', 1343: 'longterm', 1344: '60yearold', 1345: 'carried', 1346: 'jarvis', 1347: 'cherry', 1348: 'remain', 1349: 'scarborough', 1350: 'ellesmere', 1351: 'exchange', 1352: 'gunfire', 1353: 'weapon', 1354: 'belonged', 1355: 'broadview', 1356: 'determined', 1357: 'various', 1358: 'sizes', 1359: 'metal', 1360: 'bbs', 1361: 'originated', 1362: 'third', 1363: 'threw', 1364: 'ball', 1365: 'bearings', 1366: 'pedestrians', 1367: 'cyclists', 1368: 'vigilant', 1369: 'call', 1370: 'recover', 1371: 'specialized', 1372: 'etobicoke', 1373: 'valuable', 1374: 'stored', 1375: 'basement', 1376: 'feel', 1377: 'drop', 1378: 'garage', 1379: 'shed', 1380: 'deliberately', 1381: 'safest', 1382: 'afford', 1383: 'spend', 1384: 'extra', 1385: 'little', 1386: 'bit', 1387: 'heartbreaking', 1388: 'continued', 1389: 'cover', 1390: 'anymore', 1391: 'maneuverable', 1392: 'cell', 1393: 'researcher', 1394: 'profession', 1395: 'conquer', 1396: 'twoday', 1397: 'km', 1398: 'cycling', 1399: 'inception', 1400: '1986', 1401: 'dear', 1402: '90000', 1403: 'hoping', 1404: '100000', 1405: 'riding', 1406: 'misses', 1407: 'scouring', 1408: 'resale', 1409: 'sites', 1410: 'neighbours', 1411: 'shops', 1412: 'spots', 1413: 'beloved', 1414: 'wheels', 1415: 'hills', 1416: 'handle', 1417: 'breaks', 1418: 'turns', 1419: 'miss', 1420: 'fingers', 1421: 'crossed', 1422: 'product', 1423: 'salesman', 1424: 'shouldnt', 1425: 'dangerous', 1426: 'substances', 1427: 'countrys', 1428: 'regulators', 1429: 'stop', 1430: 'chilling', 1431: 'easier', 1432: 'harder', 1433: 'decisions', 1434: 'become', 1435: 'youve', 1436: 'coroner', 1437: 'plunkets', 1438: 'engineer', 1439: 'chef', 1440: 'lived', 1441: 'mississauga', 1442: 'push', 1443: 'tally', 1444: 'worldwide', 1445: 'sold', 1446: '129', 1447: 'broadcaster', 1448: 'dj', 1449: 'trainer', 1450: 'businesses', 1451: 'marriage', 1452: 'covid19', 1453: 'pandemic', 1454: 'smart', 1455: 'tack', 1456: 'laugh', 1457: '40yearold', 1458: 'hotel', 1459: 'packaging', 1460: 'records', 1461: 'platform', 1462: 'powers', 1463: 'variety', 1464: 'marketplaces', 1465: 'shut', 1466: '1200', 1467: 'packages', 1468: '40', 1469: 'countries', 1470: 'potential', 1471: 'violation', 1472: 'acceptable', 1473: 'reviewed', 1474: 'terminate', 1475: 'pointed', 1476: 'legal', 1477: 'substance', 1478: 'motivating', 1479: 'bill', 1480: 'justice', 1481: 'arif', 1482: 'virani', 1483: 'protect', 1484: 'bullying', 1485: 'hate', 1486: 'terrifies', 1487: 'popular', 1488: 'toys', 1489: 'screens', 1490: 'subject', 1491: 'mental', 1492: 'association', 1493: 'canadas', 1494: 'follow', 1495: 'footsteps', 1496: 'bigger', 1497: 'federal', 1498: 'regulating', 1499: 'consider', 1500: 'means', 1501: 'clients', 1502: 'believes', 1503: 'diligence', 1504: 'harming', 1505: 'retail', 1506: 'progress', 1507: 'masked', 1508: 'selected', 1509: 'quantity', 1510: 'pants', 1511: '55000', 1512: 'failure', 1513: 'comply', 1514: 'probation', 1515: 'appear', 1516: '29', 1517: 'committed', 1518: 'thefts', 1519: '4168081400', 1520: 'cherrystone', 1521: 'cliffwood', 1522: '245', 1523: 'vital', 1524: 'suffering', 1525: 'stab', 1526: 'wounds', 1527: 'altercation', 1528: 'believed', 1529: 'disclosed', 1530: 'motive', 1531: '1999', 1532: 'audition', 1533: '25', 1534: 'shawn', 1535: 'levy', 1536: 'promote', 1537: 'hit', 1538: 'theatres', 1539: 'plays', 1540: 'excitement', 1541: 'cinematic', 1542: 'universe', 1543: 'canadianborn', 1544: 'superheroes', 1545: 'wild', 1546: 'alberta', 1547: 'unrevealed', 1548: 'location', 1549: 'describing', 1550: 'ladies', 1551: 'watching', 1552: 'sunset', 1553: 'friend', 1554: 'spouse', 1555: 'anything', 1556: 'rooting', 1557: 'recalled', 1558: 'meeting', 1559: 'filming', 1560: 'xmen', 1561: 'origins', 1562: '2008', 1563: 'everybody', 1564: 'dignity', 1565: 'class', 1566: 'kindness', 1567: 'walked', 1568: 'went', 1569: 'star', 1570: 'playing', 1571: 'wish', 1572: 'shoot', 1573: 'move', 1574: 'guy', 1575: 'fires', 1576: 'lights', 1577: 'tells', 1578: 'everyone', 1579: 'wardrobe', 1580: 'whats', 1581: 'thinking', 1582: 'shoes', 1583: 'fella', 1584: 'fortunate', 1585: 'impression', 1586: 'quipping', 1587: 'downhill', 1588: 'mostly', 1589: 'tyrone', 1590: 'edwards', 1591: 'stream', 1592: 'crave', 1593: 'trio', 1594: 'scotiabank', 1595: 'theatre', 1596: 'whom', 1597: 'waiting', 1598: 'course', 1599: 'missed', 1600: 'producers', 1601: 'iteration', 1602: '2016', 1603: 'greatest', 1604: 'loves', 1605: 'deadpools', 1606: 'spectacle', 1607: 'surprises', 1608: 'characterbased', 1609: 'separate', 1610: 'dream', 1611: 'meanwhile', 1612: 'praised', 1613: 'costar', 1614: 'saying', 1615: 'ethic', 1616: 'generous', 1617: 'producer', 1618: 'played', 1619: 'mutant', 1620: 'decades', 1621: 'wolverines', 1622: 'iconic', 1623: 'suit', 1624: 'mind', 1625: 'sharing', 1626: 'informed', 1627: 'agreed', 1628: 'yellowandblue', 1629: 'sleep', 1630: 'quipped', 1631: 'steal', 1632: 'divisions', 1633: 'bell', 1634: 'critically', 1635: 'responded', 1636: 'rushed', 1637: 'remained', 1638: 'reopened', 1639: 'pape', 1640: 'responding', 1641: 'porch', 1642: 'captured', 1643: 'peering', 1644: 'walking', 1645: 'northbound', 1646: 'male', 1647: '45', 1648: 'fivefootfive', 1649: 'fivefooteight', 1650: 'medium', 1651: 'short', 1652: 'receding', 1653: 'moustache', 1654: 'thick', 1655: 'bushy', 1656: 'eyebrows', 1657: 'wearing', 1658: 'tshirt', 1659: 'sweatpants', 1660: 'darkcoloured', 1661: 'baseball', 1662: 'cap', 1663: 'nyc', 1664: 'writing', 1665: 'brim', 1666: 'watchdog', 1667: 'seriously', 1668: 'cabbagetown', 1669: 'investigations', 1670: 'invoked', 1671: 'mandate', 1672: 'dinner', 1673: 'heard', 1674: 'loud', 1675: 'bangs', 1676: 'fireworks', 1677: 'looked', 1678: 'like', 1679: 'pointing', 1680: 'somebody', 1681: 'lying', 1682: 'ground', 1683: 'actions', 1684: 'resulted', 1685: 'injury', 1686: 'andor', 1687: 'discharge', 1688: 'battleground', 1689: 'hakeem', 1690: 'jeffries', 1691: 'stopping', 1692: 'putting', 1693: 'marker', 1694: 'wall', 1695: 'michigan', 1696: 'securing', 1697: 'victory', 1698: 'convention', 1699: 'wrapped', 1700: 'works', 1701: 'sharpen', 1702: 'message', 1703: 'gop', 1704: 'nominee', 1705: 'trip', 1706: 'sharp', 1707: 'reassure', 1708: 'wary', 1709: 'troubling', 1710: 'performance', 1711: 'tammy', 1712: 'skipped', 1713: 'leaning', 1714: 'resume', 1715: 'district', 1716: 'california', 1717: 'felony', 1718: 'crimes', 1719: 'meet', 1720: 'professionally', 1721: 'trained', 1722: 'prosecute', 1723: 'unfortunately', 1724: 'republicans', 1725: 'laphonza', 1726: 'butler', 1727: 'dcalif', 1728: 'strode', 1729: 'anthem', 1730: 'beyonces', 1731: 'album', 1732: 'contrasting', 1733: 'perpetrators', 1734: 'kinds', 1735: 'predators', 1736: 'abused', 1737: 'fraudsters', 1738: 'ripped', 1739: 'consumers', 1740: 'cheaters', 1741: 'broke', 1742: 'rules', 1743: 'gain', 1744: 'hear', 1745: 'type', 1746: 'cast', 1747: 'endeavor', 1748: 'aiming', 1749: 'represented', 1750: 'interests', 1751: 'corporations', 1752: 'rivals', 1753: 'antiquated', 1754: 'backward', 1755: 'ill', 1756: 'ours', 1757: 'echoed', 1758: 'obama', 1759: 'deployed', 1760: 'refrain', 1761: '2012', 1762: 'argue', 1763: 'ideas', 1764: 'ascent', 1765: 'required', 1766: 'vet', 1767: 'mates', 1768: 'eric', 1769: 'holder', 1770: 'obamas', 1771: 'presidency', 1772: 'impact', 1773: 'galvanizing', 1774: 'diane', 1775: '68', 1776: 'south', 1777: 'thrilled', 1778: 'democrat', 1779: 'energizing', 1780: 'tevin', 1781: 'humphrey', 1782: 'mother', 1783: 'myeesha', 1784: 'johnson', 1785: '41', 1786: 'figure', 1787: 'better', 1788: 'representative', 1789: 'diversity', 1790: 'asserted', 1791: 'alter', 1792: 'nicknamed', 1793: 'lyin', 1794: 'prosecutor', 1795: 'sought', 1796: 'bind', 1797: 'administrations', 1798: 'seeks', 1799: 'immigration', 1800: 'seems', 1801: 'unhappy', 1802: 'younger', 1803: 'aging', 1804: 'planned', 1805: 'abc', 1806: 'fox', 1807: 'perception', 1808: 'friendlier', 1809: 'husband', 1810: 'doug', 1811: 'emhoff', 1812: 'appearance', 1813: 'unimpressed', 1814: 'attacks', 1815: 'telling', 1816: 'addition', 1817: 'joined', 1818: 'major', 1819: 'elected', 1820: 'gov', 1821: 'tony', 1822: 'evers', 1823: 'kaul', 1824: 'secretary', 1825: 'godlewski', 1826: 'chair', 1827: 'ben', 1828: 'wikler', 1829: 'branded', 1830: 'extreme', 1831: 'liberal', 1832: 'step', 1833: 'swing', 1834: 'favorables', 1835: 'schimming', 1836: 'high', 1837: 'exchanging', 1838: 'notice', 1839: 'stands', 1840: 'boak', 1841: 'scott', 1842: 'bauer', 1843: 'madison', 1844: 'michelle', 1845: 'l', 1846: 'price', 1847: 'contributed', 1848: 'begin', 1849: 'savard', 1850: 'withdraw', 1851: 'earlier', 1852: 'multimilliondollar', 1853: 'empire', 1854: 'faced', 1855: 'challenges', 1856: 'throughout', 1857: 'submissions', 1858: 'nov', 1859: 'relate', 1860: '1980s', 1861: 'mid2000s', 1862: 'assaultrelated', 1863: 'greenspans', 1864: 'resignation', 1865: 'faces', 1866: '2020', 1867: 'nine', 1868: 'racketeering', 1869: 'manitobas', 1870: 'highest', 1871: 'dismissed', 1872: 'application', 1873: 'judicial', 1874: 'reason', 1875: 'interfere', 1876: 'thenjustice', 1877: 'david', 1878: 'lametti', 1879: 'none', 1880: 'newly', 1881: 'periodical', 1882: 'slightly', 1883: 'average', 1884: 'levels', 1885: 'thanksgiving', 1886: 'brunswick', 1887: 'edward', 1888: 'predicted', 1889: 'drier', 1890: 'midoctober', 1891: 'western', 1892: 'precipitation', 1893: 'usual', 1894: 'calling', 1895: 'treat', 1896: 'opposed', 1897: 'trick', 1898: 'generally', 1899: 'dry', 1900: 'arrive', 1901: 'reads', 1902: 'spooky', 1903: 'soggy', 1904: 'late', 1905: 'unsettled', 1906: 'addison', 1907: 'mcneill', 1908: 'felt', 1909: 'stressed', 1910: 'alpine', 1911: 'jaspers', 1912: '4700', 1913: 'exiting', 1914: 'calmly', 1915: 'visitors', 1916: 'despite', 1917: 'hot', 1918: 'smoky', 1919: 'helped', 1920: 'accommodations', 1921: 'leanne', 1922: 'maeva', 1923: 'joyeuse', 1924: 'worried', 1925: 'skip', 1926: 'investigates', 1927: 'toy', 1928: 'mountain', 1929: 'gas', 1930: 'prices', 1931: 'shows', 1932: 'noon', 1933: '1130', 1934: 'social', 1935: 'facebook', 1936: 'twitter', 1937: 'instagram', 1938: 'cities', 1939: 'nanaimo', 1940: 'pembroke', 1941: 'sault', 1942: 'ste', 1943: 'marie', 1944: 'sections', 1945: 'fitness', 1946: 'share', 1947: 'whether', 1948: 'likes', 1949: 'important', 1950: 'xiaoying', 1951: '325', 1952: 'download', 1953: 'alerts', 1954: 'device', 1955: 'updates', 1956: 'inbox', 1957: 'sometimes', 1958: 'googled', 1959: 'departure', 1960: 'processing', 1961: 'total', 1962: '335', 1963: 'credit', 1964: 'card', 1965: 'zang', 1966: 'hadnt', 1967: 'offer', 1968: 'affiliated', 1969: 'accepting', 1970: 'resolutions', 1971: 'advised', 1972: 'cautious', 1973: 'disputes', 1974: 'portal', 1975: 'reached', 1976: 'contracted', 1977: 'claimed', 1978: 'followed', 1979: 'proper', 1980: 'procedures', 1981: 'difficult', 1982: 'contacted', 1983: 'refund', 1984: 'glad', 1985: 'contacting', 1986: 'radar', 1987: 'demerit', 1988: 'points', 1989: 'given', 1990: 'wont', 1991: 'premiums', 1992: 'schedule', 1993: 'leaves', 1994: '1', 1995: '3', 1996: 'expect', 1997: 'foil', 1998: 'foiled', 1999: 'host', 2000: 'salt', 2001: 'awarded', 2002: 'vote', 2003: 'crashes', 2004: 'takeoff', 2005: 'independent', 2006: 'journalists', 2007: 'earn', 2008: 'commission', 2009: 'links', 2010: 'shop', 2011: 'editors', 2012: 'picks', 2013: 'fairly', 2014: 'never', 2015: 'phone', 2016: 'mount', 2017: 'sale', 2018: 'birthday', 2019: 'try', 2020: 'away', 2021: 'already', 2022: '30', 2023: 'cookware', 2024: 'sets', 2025: 'washing', 2026: 'machine', 2027: 'cleaner', 2028: 'tablets', 2029: '5star', 2030: 'reviews', 2031: 'outdoor', 2032: 'rugs', 2033: 'brilliant', 2034: 'too', 2035: '19', 2036: 'foolproof', 2037: 'less', 2038: 'kitchen', 2039: 'goodies', 2040: 'foodie', 2041: 'sunscreen', 2042: 'sensitive', 2043: 'skin', 2044: 'korean', 2045: 'skincare', 2046: 'singing', 2047: 'praises', 2048: 'hunt', 2049: 'retinol', 2050: 'serum', 2051: 'loving', 2052: '70', 2053: 'amazing', 2054: 'discounts', 2055: 'deal', 2056: '23andme', 2057: 'premium', 2058: 'membership', 2059: 'bundle', 2060: 'greater', 2061: 'risk', 2062: 'tornado', 2063: 'climate', 2064: 'eccc', 2065: 'southwestern', 2066: 'homes', 2067: 'group', 2068: 'sainteannedebellevue', 2069: 'living', 2070: 'protected', 2071: 'bulldozers', 2072: 'claim', 2073: 'builder', 2074: 'couldnt', 2075: 'deliver', 2076: 'celine', 2077: 'dion', 2078: 'singer', 2079: 'chance', 2080: 'céline', 2081: 'dions', 2082: 'coincidence', 2083: 'sport', 2084: 'paralympic', 2085: 'amélie', 2086: 'oudéacastéra', 2087: 'favourable', 2088: 'thunderstorms', 2089: 'warning', 2090: 'torrential', 2091: 'downpours', 2092: 'mm', 2093: '65yearold', 2094: 'follows', 2095: 'covering', 2096: 'noor', 2097: 'ayesha', 2098: 'battling', 2099: 'aggressive', 2100: 'pushing', 2101: 'fund', 2102: 'extend', 2103: 'twelve', 2104: 'whooping', 2105: 'cough', 2106: 'brant', 2107: 'pertussis', 2108: 'pleads', 2109: 'impaired', 2110: 'causing', 2111: 'boy', 2112: 'son', 2113: 'aiden', 2114: 'curtis', 2115: 'robbery', 2116: 'witness', 2117: 'oxford', 2118: 'confronted', 2119: 'member', 2120: 'need', 2121: 'skilled', 2122: 'trades', 2123: 'volunteers', 2124: 'sweat', 2125: 'equity', 2126: 'renovations', 2127: 'uwindsor', 2128: 'university', 2129: 'dr', 2130: 'robert', 2131: 'gordon', 2132: 'dog', 2133: 'corner', 2134: 'areas', 2135: 'julias', 2136: 'holding', 2137: 'visitation', 2138: 'ajax', 2139: 'celebration', 2140: 'sometime', 2141: 'sand', 2142: 'banks', 2143: 'twp', 2144: 'township', 2145: 'jeremy', 2146: 'skibicki', 2147: 'serial', 2148: 'killer', 2149: 'goes', 2150: 'gone', 2151: 'harassed', 2152: 'stayed', 2153: 'portage', 2154: 'la', 2155: 'ruined', 2156: 'nothing', 2157: 'destroys', 2158: 'truck', 2159: 'owners', 2160: 'fullservice', 2161: 'regional', 2162: 'trucking', 2163: 'pouring', 2164: 'hourslong', 2165: 'building', 2166: 'ns', 2167: 'nl', 2168: 'operator', 2169: 'violations', 2170: 'plant', 2171: 'abandoned', 2172: '7', 2173: 'determine', 2174: 'fishing', 2175: 'abandon', 2176: 'vessel', 2177: 'liferaft', 2178: 'mercy', 2179: 'waves', 2180: 'wonderful', 2181: '7000', 2182: 'reignition', 2183: 'oncesmouldering', 2184: 'allowed', 2185: 'return', 2186: 'named', 2187: 'chicago', 2188: 'blackhawks', 2189: 'executive', 2190: 'hockey', 2191: 'operations', 2192: 'finetuning', 2193: 'miscommunicated', 2194: 'timing', 2195: 'albertas', 2196: 'changes', 2197: 'incorrect', 2198: 'calgarys', 2199: 'amid', 2200: 'reporting', 2201: 'village', 2202: 'swimmer', 2203: 'happy', 2204: 'represent', 2205: 'parkland', 2206: 'region', 2207: '1800', 2208: 'athletes', 2209: 'coaches', 2210: 'lloydminster', 2211: 'compete', 2212: 'biyearly', 2213: 'affects', 2214: 'daycares', 2215: 'ymca', 2216: 'childcare', 2217: 'ash', 2218: 'flee', 2219: 'teens', 2220: 'robbing', 2221: 'stand', 2222: 'saskatchewans', 2223: 'yearlong', 2224: 'pediatric', 2225: 'gastroenterologist', 2226: 'vacancy', 2227: 'filled', 2228: 'gastrointestinal', 2229: 'getting', 2230: 'specialist', 2231: 'jim', 2232: 'pattison', 2233: 'childrens', 2234: 'english', 2235: 'bay', 2236: 'update', 2237: 'beaches', 2238: 'towns', 2239: 'smalltown', 2240: 'reputation', 2241: 'friendly', 2242: 'culture', 2243: 'jump', 2244: 'crisis', 2245: 'advertise', 2246: 'ads', 2247: 'registry', 2248: 'careers', 2249: 'stox', 2250: 'editorial', 2251: 'accessibility', 2252: 'subscribe', 2253: 'newsletter', 2254: 'power', 2255: 'play', 2256: 'w5', 2257: 'question', 2258: 'period', 2259: 'channel', 2260: 'yorkton', 2261: 'rights', 2262: 'reserved', 2263: 'assumes', 2264: 'acceptance', 2265: '42yearold', 2266: 'collided', 2267: 'sustained', 2268: 'minor', 2269: 'cause', 2270: 'asking', 2271: '9055464753', 2272: 'via', 2273: 'reconunithamiltonpoliceca', 2274: 'blvd', 2275: '1100', 2276: 'remains', 2277: 'directions', 2278: 'anticipated', 2279: 'open', 2280: '90', 2281: 'hamont', 2282: 'cp24andrew', 2283: 'collins', 2284: 'incidents', 2285: 'accepted', 2286: 'decision', 2287: 'remove', 2288: 'teams', 2289: 'game', 2290: 'practice', 2291: 'players', 2292: 'hold', 2293: 'availability', 2294: 'session', 2295: 'won', 2296: 'gold', 2297: 'tokyo', 2298: 'wreckage', 2299: 'official', 2300: 'basanta', 2301: 'rajauri', 2302: 'college', 2303: 'section', 2304: 'huge', 2305: 'kumar', 2306: 'khatri', 2307: 'chetri', 2308: 'parts', 2309: 'barely', 2310: 'meters', 2311: '330', 2312: 'feet', 2313: 'confusion', 2314: 'horrible', 2315: 'explosions', 2316: 'monsoon', 2317: 'visibility', 2318: 'low', 2319: 'houses', 2320: 'neighborhoods', 2321: 'tu', 2322: 'teaching', 2323: 'autopsy', 2324: 'manifest', 2325: 'relatives', 2326: 'forensics', 2327: 'department', 2328: 'collect', 2329: 'though', 2330: 'likely', 2331: 'sasant', 2332: 'katuwal', 2333: 'flying', 2334: 'completing', 2335: 'uncle', 2336: 'dhyan', 2337: 'bahadur', 2338: 'visa', 2339: 'germany', 2340: 'nephew', 2341: 'bright', 2342: 'parents', 2343: 'unmarried', 2344: 'tall', 2345: 'handsome', 2346: 'behaved', 2347: 'flights', 2348: 'operates', 2349: 'routes', 2350: 'survived', 2351: 'misaligned', 2352: 'disoriented', 2353: 'tried', 2354: 'land', 2355: 'sheer', 2356: 'desperation', 2357: 'turkish', 2358: 'jet', 2359: 'landing', 2360: 'dense', 2361: 'fog', 2362: 'skidded', 2363: 'slippery', 2364: 'carrying', 2365: '238', 2366: 'army', 2367: 'personnel', 2368: 'cordon', 2369: 'television', 2370: 'slipped', 2371: 'photosujan', 2372: 'gurung', 2373: 'spokesman', 2374: 'vito', 2375: 'pilieci', 2376: 'complaints', 2377: 'comment', 2378: 'spokeswoman', 2379: 'catherine', 2380: 'processes', 2381: 'respond', 2382: 'account', 2383: 'deletion', 2384: 'timely', 2385: 'manner', 2386: 'fully', 2387: 'cooperate', 2388: 'commissioners', 2389: 'oversees', 2390: 'compliance', 2391: 'electronic', 2392: 'documents', 2393: 'loblaws', 2394: 'annual', 2395: 'loyalty', 2396: 'program', 2397: '16', 2398: 'users', 2399: 'offender', 2400: 'individual', 2401: 'allege', 2402: 'forensically', 2403: 'linked', 2404: 'observed', 2405: 'deceaseds', 2406: 'fob', 2407: 'uttering', 2408: 'threats', 2409: '26', 2410: 'concealed', 2411: '90s', 2412: 'held', 2413: 'five', 2414: 'break', 2415: 'free', 2416: 'run', 2417: 'ritualistic', 2418: 'involved', 2419: 'elaborate', 2420: 'supt', 2421: 'kim', 2422: 'division', 2423: 'sign', 2424: 'deeply', 2425: 'concerned', 2426: 'sustaining', 2427: 'poses', 2428: 'threat', 2429: 'lgbtq2s', 2430: 'community', 2431: 'known', 2432: 'frequent', 2433: 'downtowns', 2434: 'side', 2435: 'spent', 2436: 'chathamkent', 2437: 'fivefoottwo', 2438: 'thin', 2439: 'pockmarked', 2440: 'face', 2441: 'aliases', 2442: 'daniel', 2443: 'christie', 2444: 'kristy', 2445: 'krysty', 2446: 'threeyear', 2447: 'sentence', 2448: 'institution', 2449: 'does', 2450: 'listed', 2451: 'name', 2452: 'tracking', 2453: 'preying', 2454: 'prabmeet', 2455: 'announcement', 2456: 'alongside', 2457: 'mayor', 2458: 'olivia', 2459: 'hall', 2460: 'investment', 2461: 'working', 2462: 'shifts', 2463: 'supported', 2464: 'agreement', 2465: 'improve', 2466: 'flow', 2467: 'include', 2468: 'modification', 2469: 'onramp', 2470: 'turn', 2471: 'shore', 2472: 'relaxing', 2473: 'restrictions', 2474: 'overnight', 2475: 'sakara', 2476: 'accelerate', 2477: 'grateful', 2478: 'rehabilitate', 2479: 'hampered', 2480: 'calls', 2481: 'sped', 2482: 'data', 2483: 'rush', 2484: '250', 2485: 'cent', 2486: 'demolishing', 2487: 'rebuilding', 2488: 'elevated', 2489: 'complex', 2490: 'stuck', 2491: 'frustrating', 2492: 'gets', 2493: 'blood', 2494: 'pressure', 2495: 'closure', 2496: 'apparently', 2497: 'uses', 2498: 'increase', 2499: 'commuting', 2500: '4045', 2501: 'appreciate', 2502: 'kicking', 2503: 'contracts', 2504: 'negotiated', 2505: 'finalized', 2506: 'stepped', 2507: 'finance', 2508: 'acceleration', 2509: 'repair', 2510: 'incentive', 2511: 'structures', 2512: 'onschedule', 2513: 'timelines', 2514: 'theyre', 2515: 'incentivization', 2516: 'project', 2517: 'considerations', 2518: 'spadinafort', 2519: 'councillor', 2520: 'ausma', 2521: 'malik', 2522: 'approach', 2523: 'concerns', 2524: 'thoughtful', 2525: 'testing', 2526: 'noisier', 2527: 'match', 2528: 'needs', 2529: 'commitment', 2530: 'folks', 2531: 'nights', 2532: 'rest', 2533: 'confident', 2534: 'consideration', 2535: 'accelerated', 2536: 'ensuring', 2537: 'addressed', 2538: 'proactive', 2539: 'arent', 2540: 'affected', 2541: 'badly', 2542: 'approximately', 2543: '140000', 2544: 'approved', 2545: '2014', 2546: 'rang', 2547: 'oakley', 2548: '230', 2549: 'det', 2550: 'rod', 2551: 'trauma', 2552: 'confirm', 2553: 'ages', 2554: 'genders', 2555: 'noted', 2556: 'nextofkin', 2557: 'exactly', 2558: 'casings', 2559: 'noting', 2560: '930', 2561: 'forensic', 2562: 'fact', 2563: 'marking', 2564: 'photographed', 2565: 'certainly', 2566: 'point', 2567: 'provide', 2568: 'probably', 2569: 'tomorrow', 2570: 'witnessed', 2571: 'dash', 2572: 'footage', 2573: 'beginning', 2574: 'robust', 2575: 'canvas', 2576: 'searching', 2577: 'expects', 2578: 'doeden', 2579: '81', 2580: 'schatz'}\n",
            "Token IDs: [1, 1, 168, 6, 1, 1, 134, 20, 181, 52, 126, 86, 8, 127, 287, 1, 15, 1, 1, 684, 27, 178, 4, 3, 81, 7, 1, 1, 1, 8, 1, 1, 1, 75, 3, 1, 1, 1, 54, 25, 1242, 1, 12, 289, 7, 5, 1, 1, 10, 1, 124, 3, 1, 501, 7, 5, 1119, 1, 1, 8, 3, 127, 1244, 7, 5, 1010, 1, 1, 1, 501, 7, 3, 1, 1, 9, 411, 4, 1, 124, 30, 27, 659, 1, 15, 1, 1, 1244, 7, 3, 1, 2267, 2268, 188, 8, 27, 411, 4, 1, 0, 0, 0, 0, 0, 0, 0, 0, 0, 0, 0, 0, 0, 0, 0, 0, 0, 0, 0, 0, 0, 0, 0, 0, 0, 0, 0, 0, 0, 0, 0, 0, 0, 0, 0, 0, 0, 0, 0, 0, 0, 0, 0, 0, 0, 0, 0, 0, 0, 0, 0, 0, 0, 0, 0, 0, 0, 0, 0, 0, 0, 0, 0, 0, 0, 0, 0, 0, 0, 0, 0, 0, 0, 0, 0, 0, 0, 0, 0, 0, 0, 0, 0, 0, 0, 0, 0, 0, 0, 0, 0, 0, 0, 0, 0, 0, 0, 0, 0, 0, 0, 0, 0, 0, 0, 0, 0, 0, 0, 0, 0, 0, 0, 0, 0, 0, 0, 0, 0, 0, 0, 0, 0, 0, 0, 0, 0, 0, 0, 0, 0, 0, 0, 0, 0, 0, 0, 0, 0, 0, 0, 0, 0, 0, 0, 0, 0, 0, 0, 0, 0, 0, 0, 0, 0, 0, 0, 0, 0, 0, 0, 0, 0, 0, 0, 0, 0, 0, 0, 0, 0, 0, 0, 0, 0, 0, 0, 0, 0, 0, 0, 0, 0, 0, 0, 0, 0, 0, 0, 0, 0, 0, 0, 0, 0, 0, 0, 0]\n",
            "Input IDs: [1, 1, 168, 6, 1, 1, 134, 20, 181, 52, 126, 86, 8, 127, 287, 1, 15, 1, 1, 684, 27, 178, 4, 3, 81, 7, 1, 1, 1, 8, 1, 1, 1, 75, 3, 1, 1, 1, 54, 25, 1242, 1, 12, 289, 7, 5, 1, 1, 10, 1, 124, 3, 1, 501, 7, 5, 1119, 1, 1, 8, 3, 127, 1244, 7, 5, 1010, 1, 1, 1, 501, 7, 3, 1, 1, 9, 411, 4, 1, 124, 30, 27, 659, 1, 15, 1, 1, 1244, 7, 3, 1, 2267, 2268, 188, 8, 27, 411, 4, 1, 0, 0, 0, 0, 0, 0, 0, 0, 0, 0, 0, 0, 0, 0, 0, 0, 0, 0, 0, 0, 0, 0, 0, 0, 0, 0, 0, 0, 0, 0, 0, 0, 0, 0, 0, 0, 0, 0, 0, 0, 0, 0, 0, 0, 0, 0, 0, 0, 0, 0, 0, 0, 0, 0, 0, 0, 0, 0, 0, 0, 0, 0, 0, 0, 0, 0, 0, 0, 0, 0, 0, 0, 0, 0, 0, 0, 0, 0, 0, 0, 0, 0, 0, 0, 0, 0, 0, 0, 0, 0, 0, 0, 0, 0, 0, 0, 0, 0, 0, 0, 0, 0, 0, 0, 0, 0, 0, 0, 0, 0, 0, 0, 0, 0, 0, 0, 0, 0, 0, 0, 0, 0, 0, 0, 0, 0, 0, 0, 0, 0, 0, 0, 0, 0, 0, 0, 0, 0, 0, 0, 0, 0, 0, 0, 0, 0, 0, 0, 0, 0, 0, 0, 0, 0, 0, 0, 0, 0, 0, 0, 0, 0, 0, 0, 0, 0, 0, 0, 0, 0, 0, 0, 0, 0, 0, 0, 0, 0, 0, 0, 0, 0, 0, 0, 0, 0, 0, 0, 0, 0, 0, 0, 0, 0, 0, 0, 0, 0]\n",
            "Input IDs: tensor([[   1,    1,  168,    6,    1,    1,  134,   20,  181,   52,  126,   86,\n",
            "            8,  127,  287,    1,   15,    1,    1,  684,   27,  178,    4,    3,\n",
            "           81,    7,    1,    1,    1,    8,    1,    1,    1,   75,    3,    1,\n",
            "            1,    1,   54,   25, 1242,    1,   12,  289,    7,    5,    1,    1,\n",
            "           10,    1,  124,    3,    1,  501,    7,    5, 1119,    1,    1,    8,\n",
            "            3,  127, 1244,    7,    5, 1010,    1,    1,    1,  501,    7,    3,\n",
            "            1,    1,    9,  411,    4,    1,  124,   30,   27,  659,    1,   15,\n",
            "            1,    1, 1244,    7,    3,    1, 2267, 2268,  188,    8,   27,  411,\n",
            "            4,    1,    0,    0,    0,    0,    0,    0,    0,    0,    0,    0,\n",
            "            0,    0,    0,    0,    0,    0,    0,    0,    0,    0,    0,    0,\n",
            "            0,    0,    0,    0,    0,    0,    0,    0,    0,    0,    0,    0,\n",
            "            0,    0,    0,    0,    0,    0,    0,    0,    0,    0,    0,    0,\n",
            "            0,    0,    0,    0,    0,    0,    0,    0,    0,    0,    0,    0,\n",
            "            0,    0,    0,    0,    0,    0,    0,    0,    0,    0,    0,    0,\n",
            "            0,    0,    0,    0,    0,    0,    0,    0,    0,    0,    0,    0,\n",
            "            0,    0,    0,    0,    0,    0,    0,    0,    0,    0,    0,    0,\n",
            "            0,    0,    0,    0,    0,    0,    0,    0,    0,    0,    0,    0,\n",
            "            0,    0,    0,    0,    0,    0,    0,    0,    0,    0,    0,    0,\n",
            "            0,    0,    0,    0,    0,    0,    0,    0,    0,    0,    0,    0,\n",
            "            0,    0,    0,    0,    0,    0,    0,    0,    0,    0,    0,    0,\n",
            "            0,    0,    0,    0,    0,    0,    0,    0,    0,    0,    0,    0,\n",
            "            0,    0,    0,    0,    0,    0,    0,    0,    0,    0,    0,    0,\n",
            "            0,    0,    0,    0,    0,    0,    0,    0,    0,    0,    0,    0,\n",
            "            0,    0,    0,    0,    0,    0,    0,    0,    0,    0,    0,    0,\n",
            "            0,    0,    0,    0,    0,    0,    0,    0]])\n",
            "Output: tensor([[[ 2.8425,  1.6230,  0.6355,  ...,  0.2600, -0.1451, -0.0560],\n",
            "         [ 2.8448,  0.8996,  0.5026,  ..., -0.5296, -0.3343,  0.9436],\n",
            "         [ 1.9935,  1.2120,  1.1752,  ...,  0.4855,  0.3889, -0.1167],\n",
            "         ...,\n",
            "         [ 2.6868,  0.6392,  1.0642,  ..., -0.2673, -0.6277,  0.1213],\n",
            "         [ 3.1096,  0.6325,  0.3825,  ..., -0.0043, -0.2176,  0.8327],\n",
            "         [ 3.0355,  0.4149,  1.2884,  ...,  0.0640, -0.1659,  0.8183]]])\n",
            "Summary IDs: [0, 0, 1068, 0, 0, 0, 0, 0, 0, 123, 0, 520, 2065, 0, 0, 0, 1202, 0, 0, 1713, 0, 742, 425, 1084, 0, 0, 0, 0, 0, 0, 0, 0, 0, 0, 1495, 0, 0, 0, 0, 0, 2190, 0, 0, 318, 0, 1616, 0, 0, 0, 0, 594, 324, 0, 0, 457, 810, 0, 0, 0, 313, 1906, 0, 0, 2468, 380, 0, 0, 0, 0, 0, 827, 2302, 0, 0, 683, 1043, 688, 0, 1075, 1036, 0, 0, 0, 786, 0, 0, 0, 2358, 0, 0, 0, 0, 0, 0, 0, 2057, 0, 0, 0, 0, 0, 0, 0, 0, 0, 0, 0, 0, 0, 0, 0, 0, 0, 0, 0, 0, 0, 0, 0, 0, 0, 0, 0, 0, 0, 0, 0, 0, 0, 0, 0, 0, 0, 0, 0, 0, 0, 0, 0, 0, 0, 0, 0, 0, 0, 0, 0, 0, 0, 0, 0, 0, 0, 0, 0, 0, 0, 0, 0, 0, 0, 0, 0, 0, 0, 0, 0, 0, 0, 0, 0, 0, 0, 0, 0, 0, 0, 0, 0, 0, 0, 0, 0, 0, 0, 0, 0, 0, 0, 0, 0, 0, 0, 0, 0, 0, 0, 0, 0, 0, 0, 0, 0, 0, 0, 0, 0, 0, 0, 0, 0, 0, 0, 0, 0, 0, 0, 0, 0, 0, 0, 0, 0, 0, 0, 0, 0, 0, 0, 0, 0, 0, 0, 0, 0, 0, 0, 0, 0, 0, 0, 0, 0, 0, 0, 0, 0, 0, 0, 0, 0, 0, 0, 0, 0, 0, 0, 0, 0, 0, 0, 0, 0, 0, 0, 0, 0, 0, 0, 0, 0, 0, 0, 0, 0, 0, 0, 0, 0, 0, 0, 0, 0, 0, 0, 0, 0, 0, 0, 0, 0, 0, 0, 0, 0, 0]\n",
            "241 focus olympic convicted southwestern ramara leaning main regina fifth footsteps hockey order generous stages came cost loblaw sent addison modification brother commute college struck confidence committing another endorsement rcmp jet premium\n"
          ]
        }
      ]
    },
    {
      "cell_type": "code",
      "source": [
        "#from dataset\n",
        "#remove punct\n",
        "#remove numbers\n",
        "\n",
        "#work on the following\n",
        "#fine tune the model, right now this is happening, there is not sense at all with text and summary\n",
        "text\n",
        "A two-vehicle crash in Hamilton Tuesday night has left one person dead and three others injured, police say. Emergency crews were called to the area of Dundas Street East and Avonsyde Boulevard , near the city’s Burlington border, just after 11 p.m. for reports of a collision. Police said that’s where the 42-year-old driver of a black Dodge Ram and the three occupants of a white Toyota collided. The driver of the Dodge Ram was transported to hospital, where they were pronounced deceased, police said. The occupants of the Toyota sustained minor injuries and were transported to hospital.\"\n",
        "\n",
        "summary\n",
        "focus olympic convicted southwestern ramara leaning main regina fifth footsteps hockey order generous stages came cost loblaw sent addison modification brother commute college struck confidence committing another endorsement rcmp jet premium\n",
        "\n",
        "#increase the data of model"
      ],
      "metadata": {
        "id": "W6UkTGeSqNzy"
      },
      "execution_count": null,
      "outputs": []
    },
    {
      "cell_type": "code",
      "source": [],
      "metadata": {
        "id": "xzd_fkzITjuR"
      },
      "execution_count": null,
      "outputs": []
    },
    {
      "cell_type": "code",
      "source": [],
      "metadata": {
        "id": "Pbb-2yIFTjxV"
      },
      "execution_count": null,
      "outputs": []
    },
    {
      "cell_type": "code",
      "source": [],
      "metadata": {
        "id": "DlHy2XAbTjz1"
      },
      "execution_count": null,
      "outputs": []
    },
    {
      "cell_type": "code",
      "source": [],
      "metadata": {
        "id": "69dPDWFRTj2C"
      },
      "execution_count": null,
      "outputs": []
    },
    {
      "cell_type": "code",
      "source": [],
      "metadata": {
        "id": "Ua7z-skNTj4Q"
      },
      "execution_count": null,
      "outputs": []
    },
    {
      "cell_type": "code",
      "source": [],
      "metadata": {
        "id": "d9Fgx2NlTj6x"
      },
      "execution_count": null,
      "outputs": []
    },
    {
      "cell_type": "code",
      "source": [],
      "metadata": {
        "id": "BwOVmEQNTj9V"
      },
      "execution_count": null,
      "outputs": []
    },
    {
      "cell_type": "code",
      "source": [],
      "metadata": {
        "id": "tTPCIoBNqN3z"
      },
      "execution_count": null,
      "outputs": []
    },
    {
      "cell_type": "code",
      "source": [],
      "metadata": {
        "id": "7eTRoZ_oqN6l"
      },
      "execution_count": null,
      "outputs": []
    },
    {
      "cell_type": "code",
      "source": [
        "import torch\n",
        "\n",
        "# Example model output\n",
        "output = torch.randn(1, 10, 10000)  # Random output for illustration\n",
        "\n",
        "# Extract the predicted token IDs\n",
        "summary_ids = output.argmax(dim=-1).squeeze().tolist()\n",
        "\n",
        "# Display the predicted token IDs\n",
        "print(summary_ids)\n"
      ],
      "metadata": {
        "colab": {
          "base_uri": "https://localhost:8080/"
        },
        "id": "buF29FfnqN9b",
        "outputId": "48e21076-51af-4c12-fd0f-49f297d476da"
      },
      "execution_count": 128,
      "outputs": [
        {
          "output_type": "stream",
          "name": "stdout",
          "text": [
            "[5774, 7249, 7876, 4922, 7326, 4582, 7752, 8920, 6557, 5271]\n"
          ]
        }
      ]
    },
    {
      "cell_type": "code",
      "source": [
        "import re\n",
        "import torch\n",
        "import torch.nn as nn\n",
        "from torch.utils.data import DataLoader, Dataset\n",
        "from collections import Counter\n",
        "import itertools\n",
        "\n",
        "# Example texts and summaries\n",
        "texts = [\"This is a sample document.\", \"This document is the second document.\", \"And this is the third one.\"]\n",
        "summaries = [\"Sample summary.\", \"Second summary.\", \"Third one.\"]\n",
        "\n",
        "# Combine texts and summaries for vocabulary creation\n",
        "all_texts = texts + summaries\n",
        "\n",
        "# Tokenization function with punctuation removal\n",
        "def tokenize(text):\n",
        "    text = re.sub(r'[^\\w\\s]', '', text)  # Remove punctuation\n",
        "    return text.lower().split()\n",
        "\n",
        "# Count token frequencies\n",
        "token_counter = Counter(itertools.chain(*map(tokenize, all_texts)))\n",
        "\n",
        "# Create the vocabulary with special tokens\n",
        "special_tokens = [\"<PAD>\", \"<UNK>\"]\n",
        "most_common_tokens = [token for token, _ in token_counter.most_common()]\n",
        "vocab = {token: idx for idx, token in enumerate(special_tokens + most_common_tokens)}\n",
        "\n",
        "# Optionally limit the vocabulary size\n",
        "vocab_size = 10000  # Example vocabulary size\n",
        "if len(vocab) > vocab_size:\n",
        "    vocab = {k: v for k, v in itertools.islice(vocab.items(), vocab_size)}\n",
        "\n",
        "vocab_inv = {idx: word for word, idx in vocab.items()}\n",
        "\n",
        "# Define the updated simple tokenizer function\n",
        "def simple_tokenizer(text, max_length, padding='max_length', truncation=True):\n",
        "    tokens = tokenize(text)\n",
        "    if truncation and len(tokens) > max_length:\n",
        "        tokens = tokens[:max_length]\n",
        "    token_ids = [vocab.get(token, vocab['<UNK>']) for token in tokens]\n",
        "    if padding == 'max_length' and len(token_ids) < max_length:\n",
        "        token_ids += [vocab['<PAD>']] * (max_length - len(token_ids))\n",
        "    return token_ids\n",
        "\n",
        "# Define a dataset class\n",
        "class TextSummaryDataset(Dataset):\n",
        "    def __init__(self, texts, summaries, tokenizer, max_len):\n",
        "        self.texts = texts\n",
        "        self.summaries = summaries\n",
        "        self.tokenizer = tokenizer\n",
        "        self.max_len = max_len\n",
        "\n",
        "    def __len__(self):\n",
        "        return len(self.texts)\n",
        "\n",
        "    def __getitem__(self, idx):\n",
        "        text = self.texts[idx]\n",
        "        summary = self.summaries[idx]\n",
        "        input_ids = self.tokenizer(text, max_length=self.max_len, padding='max_length', truncation=True)\n",
        "        summary_ids = self.tokenizer(summary, max_length=self.max_len, padding='max_length', truncation=True)\n",
        "        return torch.tensor(input_ids), torch.tensor(summary_ids)\n",
        "\n",
        "# Example texts and summaries\n",
        "texts = [\"This is a sample document.\", \"This document is the second document.\", \"And this is the third one.\"]\n",
        "summaries = [\"Sample summary.\", \"Second summary.\", \"Third one.\"]\n",
        "\n",
        "# Create dataset and dataloader\n",
        "max_length = 10\n",
        "dataset = TextSummaryDataset(texts, summaries, simple_tokenizer, max_length)\n",
        "dataloader = DataLoader(dataset, batch_size=2)\n",
        "\n",
        "# Define a basic transformer model\n",
        "class TransformerBlock(nn.Module):\n",
        "    def __init__(self, embed_size, heads, dropout):\n",
        "        super(TransformerBlock, self).__init__()\n",
        "        self.attention = nn.MultiheadAttention(embed_size, heads)\n",
        "        self.norm1 = nn.LayerNorm(embed_size)\n",
        "        self.norm2 = nn.LayerNorm(embed_size)\n",
        "        self.ff = nn.Sequential(\n",
        "            nn.Linear(embed_size, embed_size * 4),\n",
        "            nn.ReLU(),\n",
        "            nn.Linear(embed_size * 4, embed_size)\n",
        "        )\n",
        "        self.dropout = nn.Dropout(dropout)\n",
        "\n",
        "    def forward(self, x):\n",
        "        attn_output, _ = self.attention(x, x, x)\n",
        "        x = self.norm1(attn_output + x)\n",
        "        ff_output = self.ff(x)\n",
        "        out = self.norm2(ff_output + x)\n",
        "        return out\n",
        "\n",
        "class SummarizerModel(nn.Module):\n",
        "    def __init__(self, embed_size, heads, num_layers, vocab_size, max_len, dropout):\n",
        "        super(SummarizerModel, self).__init__()\n",
        "        self.embed = nn.Embedding(vocab_size, embed_size)\n",
        "        self.pos_embedding = nn.Embedding(max_len, embed_size)\n",
        "        self.layers = nn.ModuleList(\n",
        "            [TransformerBlock(embed_size, heads, dropout) for _ in range(num_layers)]\n",
        "        )\n",
        "        self.fc_out = nn.Linear(embed_size, vocab_size)\n",
        "        self.dropout = nn.Dropout(dropout)\n",
        "\n",
        "    def forward(self, x):\n",
        "        N, seq_length = x.shape\n",
        "        positions = torch.arange(0, seq_length).expand(N, seq_length).to(x.device)\n",
        "        out = self.dropout(self.embed(x) + self.pos_embedding(positions))\n",
        "        for layer in self.layers:\n",
        "            out = layer(out)\n",
        "        out = self.fc_out(out)\n",
        "        return out\n",
        "\n",
        "# Hyperparameters\n",
        "embed_size = 256\n",
        "heads = 8\n",
        "num_layers = 6\n",
        "vocab_size = len(vocab)  # Use the actual vocab size\n",
        "max_len = 10\n",
        "dropout = 0.1\n",
        "\n",
        "model = SummarizerModel(embed_size, heads, num_layers, vocab_size, max_len, dropout)\n",
        "\n",
        "# Training loop\n",
        "optimizer = torch.optim.Adam(model.parameters(), lr=5e-5)\n",
        "criterion = nn.CrossEntropyLoss()\n",
        "\n",
        "for epoch in range(3):  # Number of epochs\n",
        "    model.train()\n",
        "    for batch in dataloader:\n",
        "        input_ids, summary_ids = batch\n",
        "        optimizer.zero_grad()\n",
        "        output = model(input_ids)\n",
        "        loss = criterion(output.view(-1, vocab_size), summary_ids.view(-1))\n",
        "        loss.backward()\n",
        "        optimizer.step()\n",
        "        print(f\"Epoch: {epoch}, Loss: {loss.item()}\")\n",
        "\n",
        "# Inference function\n",
        "def summarize(text, model, tokenizer, max_len=512):\n",
        "    model.eval()\n",
        "    input_ids = tokenizer(text, max_length=max_len, padding='max_length', truncation=True)\n",
        "    input_ids = torch.tensor(input_ids).unsqueeze(0)  # Add batch dimension\n",
        "\n",
        "    with torch.no_grad():\n",
        "        output = model(input_ids)\n",
        "\n",
        "    summary_ids = output.argmax(dim=-1).squeeze().tolist()\n",
        "    summary = \" \".join([vocab_inv[idx] for idx in summary_ids if idx not in [0]])  # Convert token IDs to words, ignoring padding\n",
        "    return summary\n",
        "\n",
        "# Example summarization\n",
        "text = \"This is a sample document.\"\n",
        "summary = summarize(text, model, simple_tokenizer, max_len=10)\n",
        "print(summary)\n"
      ],
      "metadata": {
        "colab": {
          "base_uri": "https://localhost:8080/"
        },
        "id": "HSEPntLfqN_5",
        "outputId": "9498c26b-7272-470a-8d97-cd0e7d421e73"
      },
      "execution_count": 131,
      "outputs": [
        {
          "output_type": "stream",
          "name": "stdout",
          "text": [
            "Epoch: 0, Loss: 3.017270565032959\n",
            "Epoch: 0, Loss: 2.348728895187378\n",
            "Epoch: 1, Loss: 1.6510303020477295\n",
            "Epoch: 1, Loss: 1.2325745820999146\n",
            "Epoch: 2, Loss: 0.8341148495674133\n",
            "Epoch: 2, Loss: 0.6829085350036621\n",
            "\n"
          ]
        }
      ]
    },
    {
      "cell_type": "code",
      "source": [
        "# Check tokenization\n",
        "def print_tokens(text):\n",
        "    tokens = tokenize(text)\n",
        "    token_ids = [vocab.get(token, vocab['<UNK>']) for token in tokens]\n",
        "    print(f\"Tokens: {tokens}\")\n",
        "    print(f\"Token IDs: {token_ids}\")\n",
        "\n",
        "print_tokens(\"This is a new document text to summarize.\")\n"
      ],
      "metadata": {
        "colab": {
          "base_uri": "https://localhost:8080/"
        },
        "id": "thuagcJTS53U",
        "outputId": "3264940b-0282-4845-fcd9-2cfd3a679e2e"
      },
      "execution_count": 132,
      "outputs": [
        {
          "output_type": "stream",
          "name": "stdout",
          "text": [
            "Tokens: ['this', 'is', 'a', 'new', 'document', 'text', 'to', 'summarize']\n",
            "Token IDs: [2, 3, 11, 1, 4, 1, 1, 1]\n"
          ]
        }
      ]
    },
    {
      "cell_type": "code",
      "source": [
        "print(f\"Vocabulary Size: {len(vocab)}\")\n",
        "print(f\"Sample Vocabulary: {list(vocab.items())[:10]}\")\n"
      ],
      "metadata": {
        "colab": {
          "base_uri": "https://localhost:8080/"
        },
        "id": "m4831weJS-Ip",
        "outputId": "ac259306-c417-4097-c751-1e46e7592476"
      },
      "execution_count": 133,
      "outputs": [
        {
          "output_type": "stream",
          "name": "stdout",
          "text": [
            "Vocabulary Size: 13\n",
            "Sample Vocabulary: [('<PAD>', 0), ('<UNK>', 1), ('this', 2), ('is', 3), ('document', 4), ('sample', 5), ('the', 6), ('second', 7), ('third', 8), ('one', 9)]\n"
          ]
        }
      ]
    },
    {
      "cell_type": "code",
      "source": [
        "def summarize(text, model, tokenizer, max_len=512):\n",
        "    model.eval()\n",
        "    input_ids = tokenizer(text, max_length=max_len, padding='max_length', truncation=True)\n",
        "    input_ids = torch.tensor(input_ids).unsqueeze(0)  # Add batch dimension\n",
        "\n",
        "    with torch.no_grad():\n",
        "        output = model(input_ids)\n",
        "\n",
        "    # Print output shape and values\n",
        "    print(f\"Model Output Shape: {output.shape}\")\n",
        "    print(f\"Model Output: {output}\")\n",
        "\n",
        "    summary_ids = output.argmax(dim=-1).squeeze().tolist()\n",
        "    print(f\"Summary IDs: {summary_ids}\")\n",
        "\n",
        "    summary = \" \".join([vocab_inv.get(idx, '<UNK>') for idx in summary_ids if idx not in [0]])  # Convert token IDs to words, ignoring padding\n",
        "    return summary\n",
        "\n",
        "# Example summarization\n",
        "text = \"This is a new document text to summarize.\"\n",
        "summary = summarize(text, model, simple_tokenizer, max_len=10)\n",
        "print(f\"Generated Summary: {summary}\")\n"
      ],
      "metadata": {
        "colab": {
          "base_uri": "https://localhost:8080/"
        },
        "id": "ObstEqEFTM56",
        "outputId": "ccf67a55-4f96-4f23-f79b-4d85758bcb77"
      },
      "execution_count": 134,
      "outputs": [
        {
          "output_type": "stream",
          "name": "stdout",
          "text": [
            "Model Output Shape: torch.Size([1, 10, 13])\n",
            "Model Output: tensor([[[ 1.4409e+00,  8.4210e-02, -8.8984e-01, -5.2063e-01, -4.7633e-01,\n",
            "           3.0973e-01, -6.0323e-01,  8.8623e-01,  9.1380e-01,  4.5522e-02,\n",
            "           3.4855e-01, -1.3336e+00, -5.2743e-01],\n",
            "         [ 2.7349e+00, -5.0178e-01, -2.8367e-01, -7.8305e-01, -8.9332e-01,\n",
            "          -2.7954e-02, -1.4764e-01,  4.2594e-03, -4.3328e-01,  3.4402e-01,\n",
            "           9.9101e-01, -4.1014e-01, -6.2468e-01],\n",
            "         [ 2.2964e+00,  8.5770e-02, -7.1061e-01,  3.8361e-02, -5.0908e-01,\n",
            "           1.2301e-02, -6.7315e-01,  2.5079e-01, -1.2619e-02, -7.8412e-01,\n",
            "           6.0353e-01, -3.9166e-01,  1.1125e-01],\n",
            "         [ 3.4176e+00, -5.5115e-01, -3.3912e-01,  1.1945e-01, -6.9077e-01,\n",
            "          -7.4563e-01, -7.0450e-02,  2.4930e-01,  3.1108e-02, -3.4038e-01,\n",
            "          -1.3759e+00, -3.7956e-01, -1.0505e+00],\n",
            "         [ 3.7560e+00,  2.6691e-01, -1.5133e-01, -1.0712e+00,  5.5558e-02,\n",
            "           6.1040e-01,  3.2542e-01, -4.7108e-01, -1.1704e-01, -7.0428e-01,\n",
            "           7.5458e-02, -1.3163e+00,  5.2380e-01],\n",
            "         [ 2.9421e+00, -5.8046e-01, -3.2616e-01, -2.9819e-02, -6.4557e-01,\n",
            "          -6.8367e-01,  4.9977e-01,  2.3180e-01, -1.5204e-01, -3.9737e-01,\n",
            "          -3.6609e-01, -5.3202e-01, -1.1263e+00],\n",
            "         [ 3.1121e+00, -6.5621e-01, -7.1507e-01,  5.3468e-01, -8.0284e-01,\n",
            "          -6.3411e-01,  4.8945e-01,  3.3417e-01,  1.5515e-01,  1.1122e-01,\n",
            "          -8.1737e-01,  4.4530e-02, -6.6907e-01],\n",
            "         [ 2.6492e+00,  2.4389e-01, -5.0120e-01,  1.4043e-01, -7.2601e-01,\n",
            "          -9.4525e-01,  4.8494e-01, -6.2228e-02, -3.1548e-02, -2.4269e-01,\n",
            "          -4.8479e-01, -2.2305e-01, -9.0022e-01],\n",
            "         [ 4.7303e+00, -1.9136e-02,  1.0660e+00, -1.0348e+00,  1.7965e-01,\n",
            "           7.9987e-01, -8.7161e-01,  8.1347e-02, -5.5219e-01, -1.2527e-01,\n",
            "           4.6516e-01,  1.5481e-01,  2.5782e-01],\n",
            "         [ 4.4952e+00, -1.2276e-01,  5.5545e-01, -7.4238e-01,  2.9012e-01,\n",
            "           4.6471e-01, -4.3826e-01, -1.3025e-01, -1.0097e+00,  4.4681e-01,\n",
            "          -7.3877e-02, -3.4887e-01,  2.5507e-01]]])\n",
            "Summary IDs: [0, 0, 0, 0, 0, 0, 0, 0, 0, 0]\n",
            "Generated Summary: \n"
          ]
        }
      ]
    },
    {
      "cell_type": "code",
      "source": [
        "def simple_tokenizer(text, max_length, padding='max_length', truncation=True):\n",
        "    tokens = tokenize(text)\n",
        "    if truncation and len(tokens) > max_length:\n",
        "        tokens = tokens[:max_length]\n",
        "    token_ids = [vocab.get(token, vocab['<UNK>']) for token in tokens]\n",
        "    if padding == 'max_length' and len(token_ids) < max_length:\n",
        "        token_ids += [vocab['<PAD>']] * (max_length - len(token_ids))\n",
        "    print(f\"Token IDs (with padding/truncation): {token_ids}\")\n",
        "    return token_ids\n"
      ],
      "metadata": {
        "id": "rW3DeW04TbCm"
      },
      "execution_count": 135,
      "outputs": []
    },
    {
      "cell_type": "code",
      "source": [
        "def summarize(text, model, tokenizer, max_len=512):\n",
        "    model.eval()\n",
        "    input_ids = tokenizer(text, max_length=max_len, padding='max_length', truncation=True)\n",
        "    input_ids = torch.tensor(input_ids).unsqueeze(0)  # Add batch dimension\n",
        "\n",
        "    with torch.no_grad():\n",
        "        output = model(input_ids)\n",
        "\n",
        "    summary_ids = output.argmax(dim=-1).squeeze().tolist()\n",
        "    print(f\"Summary IDs: {summary_ids}\")\n",
        "\n",
        "    # Convert token IDs to words, ignoring padding\n",
        "    summary = \" \".join([vocab_inv.get(idx, '<UNK>') for idx in summary_ids if idx != vocab['<PAD>']])\n",
        "    return summary\n"
      ],
      "metadata": {
        "id": "XCMHzZyvTbF_"
      },
      "execution_count": 136,
      "outputs": []
    }
  ]
}