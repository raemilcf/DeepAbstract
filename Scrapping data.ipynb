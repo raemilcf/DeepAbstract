{
 "cells": [
  {
   "cell_type": "code",
   "execution_count": 3,
   "id": "90fc7021-5671-4a19-86a5-a2dbfa6afb10",
   "metadata": {},
   "outputs": [],
   "source": [
    "#Important Libraries\n",
    "\n",
    "from urllib.request import urlopen\n",
    "from urllib.error import HTTPError,URLError\n",
    "from bs4 import BeautifulSoup"
   ]
  },
  {
   "cell_type": "code",
   "execution_count": 4,
   "id": "e9f64109-3625-46ac-896c-5878e8471ea4",
   "metadata": {},
   "outputs": [],
   "source": [
    "def getData(url):\n",
    "    Booklist = list()\n",
    "    Authorlist = list()\n",
    "    BookDescriptions = list()\n",
    "    BookGenres = list()\n",
    "    count = 0\n",
    "\n",
    "    # read the website url \n",
    "    try:\n",
    "        html = urlopen(url)\n",
    "    except HTTPError as e:\n",
    "        print(e)\n",
    "    except URLError as e:\n",
    "        print(\"The server could not be found!\")\n",
    "    else:\n",
    "        print(html)\n",
    "\n",
    "    # initialise the object for webpage\n",
    "    bs = BeautifulSoup(html.read(),\"html.parser\")\n",
    "\n",
    "    #get the book titles\n",
    "    booktitles = bs.findAll('a', class_='bookTitle')\n",
    "    print(f\"We have found {len(booktitles)} Documents\")\n",
    "    \n",
    "    for booktitle in booktitles:\n",
    "        # get the url of each book\n",
    "        url = booktitle.get(\"href\")\n",
    "        if url !=\"\":\n",
    "            booklisturl = 'https://www.goodreads.com{}'.format(url)\n",
    "\n",
    "            try:\n",
    "                # get the the url inside booktitle\n",
    "                booklistpage =BeautifulSoup(urlopen(booklisturl).read(),\"html.parser\")\n",
    "\n",
    "                #extract the book title\n",
    "                title = booklistpage.find('h1', class_='Text Text__title1').get_text()\n",
    "                Booklist.append(title)\n",
    "\n",
    "                #extract the book author\n",
    "                author = booklistpage.find('h3', class_='Text Text__title3 Text__regular').get_text()\n",
    "                Authorlist.append(author)\n",
    "\n",
    "                #extract the book description\n",
    "                description = booklistpage.find('div', class_='DetailsLayoutRightParagraph__widthConstrained').get_text()\n",
    "                BookDescriptions.append(description)\n",
    "\n",
    "                #extract the book genre\n",
    "                genres_tag = booklistpage.findAll('span', class_='BookPageMetadataSection__genreButton')\n",
    "                genres = []\n",
    "                for genre in genres_tag:\n",
    "                    genres.append(genre.get_text())\n",
    "                BookGenres.append(genres)\n",
    "\n",
    "                # track the number of documents scrapped for given url\n",
    "                count+=1\n",
    "            except:\n",
    "                pass\n",
    "\n",
    "    return Booklist, Authorlist, BookDescriptions, BookGenres, count"
   ]
  },
  {
   "cell_type": "code",
   "execution_count": 5,
   "id": "b188e5ff-5b2a-4727-93f4-9c5e77cc404c",
   "metadata": {},
   "outputs": [
    {
     "name": "stdout",
     "output_type": "stream",
     "text": [
      "<http.client.HTTPResponse object at 0x1103f0100>\n",
      "We have found 100 Documents\n",
      "Total Scrapped Documents: 100\n"
     ]
    }
   ],
   "source": [
    "urls =[f\"https://www.goodreads.com/list/show/101.Best_Book_Cover_Art?page={i}\" for i in range(1,2)] #get all the urls for scrapping the data\n",
    "\n",
    "Booklist = list() # list for book titles\n",
    "Authorlist = list() # list for book author\n",
    "BookDescriptions = list() # list for book description\n",
    "BookGenres = list() # list for book genre\n",
    "total = 0 # counter for tracking the number of documents being scrapped\n",
    "\n",
    "for data in urls:\n",
    "    booklist, authorlist, book_descriptions, book_genres, count = getData(data) #get all the data from url\n",
    "\n",
    "    # add the data in corresponding list\n",
    "    Booklist.extend(booklist) \n",
    "    Authorlist.extend(authorlist)\n",
    "    BookDescriptions.extend(book_descriptions)\n",
    "    BookGenres.extend(book_genres)\n",
    "\n",
    "    #count the document number\n",
    "    total +=count\n",
    "\n",
    "    #Scrape atleast 5000 documents and end the process\n",
    "    if total>=200:\n",
    "        break\n",
    "    print(\"Total Scrapped Documents:\",total)"
   ]
  },
  {
   "cell_type": "code",
   "execution_count": 6,
   "id": "1656371d-f35c-4eb4-aa8c-60731c0d4fef",
   "metadata": {},
   "outputs": [],
   "source": [
    "import pandas as pd\n",
    "df =pd.DataFrame({\"Book Title\":Booklist,\"Author\":Authorlist,\"Description\":BookDescriptions,\"Genre\":BookGenres})\n",
    "df.to_csv(\"BookData.csv\")"
   ]
  },
  {
   "cell_type": "code",
   "execution_count": 7,
   "id": "d3971531-b619-4eac-b3f0-fcb8ceb60a9d",
   "metadata": {},
   "outputs": [
    {
     "data": {
      "text/plain": [
       "(100, 4)"
      ]
     },
     "execution_count": 7,
     "metadata": {},
     "output_type": "execute_result"
    }
   ],
   "source": [
    "df.shape #get dimessions of the data scrapped"
   ]
  },
  {
   "cell_type": "code",
   "execution_count": null,
   "id": "6b1e0a97-b51d-41db-8ab3-85981f70ec96",
   "metadata": {},
   "outputs": [],
   "source": []
  },
  {
   "cell_type": "code",
   "execution_count": null,
   "id": "765b16e7-5406-48de-a101-271fd1121801",
   "metadata": {},
   "outputs": [],
   "source": []
  },
  {
   "cell_type": "code",
   "execution_count": null,
   "id": "c7caec33-30ed-4879-a5ae-d74104800667",
   "metadata": {},
   "outputs": [],
   "source": []
  },
  {
   "cell_type": "code",
   "execution_count": null,
   "id": "c4e6f2cb-2c86-48ed-9fc5-426892548c64",
   "metadata": {},
   "outputs": [],
   "source": []
  },
  {
   "cell_type": "code",
   "execution_count": null,
   "id": "1b264329-6294-4747-9727-ad5c728215cb",
   "metadata": {},
   "outputs": [],
   "source": []
  },
  {
   "cell_type": "code",
   "execution_count": null,
   "id": "034d83aa-39a3-4345-a4b7-b86bdd74cb60",
   "metadata": {},
   "outputs": [],
   "source": []
  }
 ],
 "metadata": {
  "kernelspec": {
   "display_name": "Python 3 (ipykernel)",
   "language": "python",
   "name": "python3"
  },
  "language_info": {
   "codemirror_mode": {
    "name": "ipython",
    "version": 3
   },
   "file_extension": ".py",
   "mimetype": "text/x-python",
   "name": "python",
   "nbconvert_exporter": "python",
   "pygments_lexer": "ipython3",
   "version": "3.12.4"
  }
 },
 "nbformat": 4,
 "nbformat_minor": 5
}
